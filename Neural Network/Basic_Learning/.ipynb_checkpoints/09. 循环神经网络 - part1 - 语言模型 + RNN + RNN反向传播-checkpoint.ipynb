{
 "cells": [
  {
   "cell_type": "markdown",
   "metadata": {},
   "source": [
    "# 语言模型"
   ]
  },
  {
   "cell_type": "markdown",
   "metadata": {},
   "source": [
    "语言模型（language model）是NLP中的重要技术。NLP中最常见的数据是文本数据。我们可以把一段自然语言文本看作一段离散的时间序列。假设一段长度为$T$的文本中的词依次为$w_1, w_2, \\ldots, w_T$，那么在离散的时间序列中，$w_t$（$1 \\leq t \\leq T$）可看作在时间步（time step）$t$的输出或标签。给定一个长度为$T$的词的序列$w_1, w_2, \\ldots, w_T$，语言模型将计算该序列的概率：\n",
    "\n",
    "$$P(w_1, w_2, \\ldots, w_T).$$\n",
    "\n",
    "\n",
    "语言模型可用于提升语音识别和机器翻译的性能。例如，在语音识别中，给定一段“厨房里食油用完了”的语音，有可能会输出“厨房里食油用完了”和“厨房里石油用完了”这两个读音完全一样的文本序列。如果语言模型判断出前者的概率大于后者的概率，我们就可以根据相同读音的语音输出“厨房里食油用完了”的文本序列。"
   ]
  },
  {
   "cell_type": "markdown",
   "metadata": {},
   "source": [
    "假设序列$w_1, w_2, \\ldots, w_T$中的每个词是依次生成的，我们有\n",
    "\n",
    "$$P(w_1, w_2, \\ldots, w_T) = \\prod_{t=1}^T P(w_t \\mid w_1, \\ldots, w_{t-1}).$$\n",
    "\n",
    "例如，一段含有4个词的文本序列的概率\n",
    "\n",
    "$$P(w_1, w_2, w_3, w_4) =  P(w_1) P(w_2 \\mid w_1) P(w_3 \\mid w_1, w_2) P(w_4 \\mid w_1, w_2, w_3).$$\n",
    "\n",
    "为了计算语言模型，我们需要计算词的概率，以及一个词在给定前几个词的情况下的条件概率，即语言模型参数。设训练数据集为一个大型文本语料库，如维基百科的所有条目。词的概率可以通过该词在训练数据集中的相对词频来计算。例如，$P(w_1)$可以计算为$w_1$在训练数据集中的词频（词出现的次数）与训练数据集的总词数之比。因此，根据条件概率定义，一个词在给定前几个词的情况下的条件概率也可以通过训练数据集中的相对词频计算。例如，$P(w_2 \\mid w_1)$可以计算为$w_1, w_2$两词相邻的频率与$w_1$词频的比值，因为该比值即$P(w_1, w_2)$与$P(w_1)$之比；而$P(w_3 \\mid w_1, w_2)$同理可以计算为$w_1$、$w_2$和$w_3$三词相邻的频率与$w_1$和$w_2$两词相邻的频率的比值。以此类推。"
   ]
  },
  {
   "cell_type": "code",
   "execution_count": null,
   "metadata": {},
   "outputs": [],
   "source": []
  },
  {
   "cell_type": "markdown",
   "metadata": {},
   "source": [
    "# RNN"
   ]
  },
  {
   "cell_type": "markdown",
   "metadata": {},
   "source": [
    "## 介绍"
   ]
  },
  {
   "cell_type": "markdown",
   "metadata": {},
   "source": [
    "RNN并非刚性地记忆所有固定长度的序列。而是通过隐藏状态储存之前时间步的信息。首先回忆前面介绍过的MLP, 然后描述如何荣国添加隐藏状态将其变为RNN。"
   ]
  },
  {
   "cell_type": "markdown",
   "metadata": {},
   "source": [
    "### MLP回顾"
   ]
  },
  {
   "cell_type": "markdown",
   "metadata": {},
   "source": [
    "让我们考虑一个含单隐藏层的多层感知机。给定样本数为$n$、输入个数（特征数或特征向量维度）为$d$的小批量数据样本$\\boldsymbol{X} \\in \\mathbb{R}^{n \\times d}$。设隐藏层的激活函数为$\\phi$，那么隐藏层的输出$\\boldsymbol{H} \\in \\mathbb{R}^{n \\times h}$计算为\n",
    "\n",
    "$$\\boldsymbol{H} = \\phi(\\boldsymbol{X} \\boldsymbol{W}_{xh} + \\boldsymbol{b}_h),$$\n",
    "\n",
    "其中隐藏层权重参数$\\boldsymbol{W}_{xh} \\in \\mathbb{R}^{d \\times h}$，隐藏层偏差参数 $\\boldsymbol{b}_h \\in \\mathbb{R}^{1 \\times h}$，$h$为隐藏单元个数。上式相加的两项形状不同，因此将按照广播机制相加。把隐藏变量$\\boldsymbol{H}$作为输出层的输入，且设输出个数为$q$（如分类问题中的类别数），输出层的输出为\n",
    "\n",
    "$$\\boldsymbol{O} = \\boldsymbol{H} \\boldsymbol{W}_{hq} + \\boldsymbol{b}_q,$$\n",
    "\n",
    "其中输出变量$\\boldsymbol{O} \\in \\mathbb{R}^{n \\times q}$, 输出层权重参数$\\boldsymbol{W}_{hq} \\in \\mathbb{R}^{h \\times q}$, 输出层偏差参数$\\boldsymbol{b}_q \\in \\mathbb{R}^{1 \\times q}$。如果是分类问题，我们可以使用$\\text{softmax}(\\boldsymbol{O})$来计算输出类别的概率分布。"
   ]
  },
  {
   "cell_type": "markdown",
   "metadata": {},
   "source": [
    "### MLP -> RNN"
   ]
  },
  {
   "cell_type": "markdown",
   "metadata": {},
   "source": [
    "假设$\\boldsymbol{X}_t \\in \\mathbb{R}^{n \\times d}$是序列中时间步$t$的小批量输入，$\\boldsymbol{H}_t  \\in \\mathbb{R}^{n \\times h}$是该时间步的隐藏变量。与多层感知机不同的是，这里我们保存上一时间步的隐藏变量$\\boldsymbol{H}_{t-1}$，并引入一个新的权重参数$\\boldsymbol{W}_{hh} \\in \\mathbb{R}^{h \\times h}$，该参数用来描述在当前时间步如何使用上一时间步的隐藏变量。具体来说，时间步$t$的隐藏变量的计算由当前时间步的输入和上一时间步的隐藏变量共同决定：\n",
    "\n",
    "$$\\boldsymbol{H}_t = \\phi(\\boldsymbol{X}_t \\boldsymbol{W}_{xh} + \\boldsymbol{H}_{t-1} \\boldsymbol{W}_{hh}  + \\boldsymbol{b}_h).$$\n",
    "\n",
    "与多层感知机相比，我们在这里添加了$\\boldsymbol{H}_{t-1} \\boldsymbol{W}_{hh}$一项。由上式中相邻时间步的隐藏变量$\\boldsymbol{H}_t$和$\\boldsymbol{H}_{t-1}$之间的关系可知，这里的隐藏变量能够捕捉截至当前时间步的序列的历史信息，就像是神经网络当前时间步的状态或记忆一样。因此，该隐藏变量也称为隐藏状态。由于隐藏状态在当前时间步的定义使用了上一时间步的隐藏状态，上式的计算是循环的。使用循环计算的网络即循环神经网络（recurrent neural network）。\n",
    "\n",
    "循环神经网络有很多种不同的构造方法。含上式所定义的隐藏状态的循环神经网络是极为常见的一种。若无特别说明，本章中的循环神经网络均基于上式中隐藏状态的循环计算。在时间步$t$，输出层的输出和多层感知机中的计算类似：\n",
    "\n",
    "$$\\boldsymbol{O}_t = \\boldsymbol{H}_t \\boldsymbol{W}_{hq} + \\boldsymbol{b}_q.$$\n",
    "\n",
    "循环神经网络的参数包括隐藏层的权重$\\boldsymbol{W}_{xh} \\in \\mathbb{R}^{d \\times h}$、$\\boldsymbol{W}_{hh} \\in \\mathbb{R}^{h \\times h}$和偏差 $\\boldsymbol{b}_h \\in \\mathbb{R}^{1 \\times h}$，以及输出层的权重$\\boldsymbol{W}_{hq} \\in \\mathbb{R}^{h \\times q}$和偏差$\\boldsymbol{b}_q \\in \\mathbb{R}^{1 \\times q}$。值得一提的是，即便在不同时间步，循环神经网络也始终使用这些模型参数。因此，循环神经网络模型参数的数量不随时间步的增加而增长。\n",
    "\n",
    "下图展示了循环神经网络在3个相邻时间步的计算逻辑。在时间步$t$，隐藏状态的计算可以看成是将输入$\\boldsymbol{X}_t$和前一时间步隐藏状态$\\boldsymbol{H}_{t-1}$连结后输入一个激活函数为$\\phi$的全连接层。该全连接层的输出就是当前时间步的隐藏状态$\\boldsymbol{H}_t$，且模型参数为$\\boldsymbol{W}_{xh}$与$\\boldsymbol{W}_{hh}$的连结，偏差为$\\boldsymbol{b}_h$。当前时间步$t$的隐藏状态$\\boldsymbol{H}_t$将参与下一个时间步$t+1$的隐藏状态$\\boldsymbol{H}_{t+1}$的计算，并输入到当前时间步的全连接输出层。"
   ]
  },
  {
   "cell_type": "markdown",
   "metadata": {},
   "source": [
    "<img src=\"img/class9_2.1.2.svg\" style=\"zoom:100%\">"
   ]
  },
  {
   "cell_type": "markdown",
   "metadata": {},
   "source": [
    "**总结来说，在一个RNN中，$\\boldsymbol{W}_{xh}$、$\\boldsymbol{W}_{hh}$和$\\boldsymbol{b}_h$在各个时间步中是share共用的。所以，对每一个时间步而言，不同的就只有其输入$X_t$和上一个时间步传入的$H_{t-1}$。然后输出层中还有$\\boldsymbol{W}_{hq}$与$\\boldsymbol{b}_q$。所以RNN的参数不会随着时间步的增加而增加。**"
   ]
  },
  {
   "cell_type": "markdown",
   "metadata": {},
   "source": [
    "下图为堆叠RNN中一个神经元的结构, $h_t^{(n)}$为在时刻t第n层的隐状态, 它是由$h_{t-1}^{(n)}$与$h_{t}^{(n-1)}$决定的"
   ]
  },
  {
   "cell_type": "markdown",
   "metadata": {},
   "source": [
    "<img src=\"img/class9_2.1.2_1.png\" style=\"zoom:80%\">"
   ]
  },
  {
   "cell_type": "markdown",
   "metadata": {},
   "source": [
    "## 数据处理"
   ]
  },
  {
   "cell_type": "code",
   "execution_count": 50,
   "metadata": {
    "ExecuteTime": {
     "end_time": "2020-04-14T09:42:06.502166Z",
     "start_time": "2020-04-14T09:42:06.499362Z"
    }
   },
   "outputs": [],
   "source": [
    "import random\n",
    "import zipfile\n",
    "import numpy as np\n",
    "import tensorflow as tf"
   ]
  },
  {
   "cell_type": "code",
   "execution_count": 51,
   "metadata": {
    "ExecuteTime": {
     "end_time": "2020-04-14T09:42:06.950390Z",
     "start_time": "2020-04-14T09:42:06.942456Z"
    }
   },
   "outputs": [
    {
     "data": {
      "text/plain": [
       "'想要有直升机 想要和你飞到宇宙去 想要和你融化在一起 融化在宇宙里 我每天每天每'"
      ]
     },
     "execution_count": 51,
     "metadata": {},
     "output_type": "execute_result"
    }
   ],
   "source": [
    "# 读取数据集(周杰伦歌词)\n",
    "with zipfile.ZipFile('./data/jaychou_lyrics.txt.zip') as zin:\n",
    "    with zin.open('jaychou_lyrics.txt') as f:\n",
    "        corpus_chars = f.read().decode('utf-8')\n",
    "\n",
    "# 该数据集有6万多个字符。为了打印方便, 将其中的换行符替换为空格。\n",
    "corpus_chars = corpus_chars.replace('\\n', ' ').replace('\\r', ' ')\n",
    "corpus_chars = corpus_chars[0:10000]\n",
    "\n",
    "# 查看前40个字符\n",
    "corpus_chars[:40]"
   ]
  },
  {
   "cell_type": "code",
   "execution_count": 3,
   "metadata": {
    "ExecuteTime": {
     "end_time": "2020-04-14T07:17:17.441677Z",
     "start_time": "2020-04-14T07:17:17.433961Z"
    }
   },
   "outputs": [
    {
     "name": "stdout",
     "output_type": "stream",
     "text": [
      "chars: 想要有直升机 想要和你飞到宇宙去 想要和\n",
      "indices: [777, 484, 854, 74, 294, 207, 223, 777, 484, 459, 381, 63, 357, 551, 462, 1009, 223, 777, 484, 459]\n"
     ]
    }
   ],
   "source": [
    "# 建立字符索引\n",
    "idx_to_char = list(set(corpus_chars))\n",
    "char_to_idx = dict([(char, i) for i, char in enumerate(idx_to_char)])\n",
    "corpus_indices = [char_to_idx[char] for char in corpus_chars]\n",
    "vocab_size = len(char_to_idx)\n",
    "\n",
    "# 展示前20个字符及其索引\n",
    "print('chars:', corpus_chars[:20])\n",
    "print('indices:', corpus_indices[:20])"
   ]
  },
  {
   "cell_type": "markdown",
   "metadata": {},
   "source": [
    "在随机采样中，每个样本是原始序列上任意截取的一段序列。相邻的两个随机小批量在原始序列上的位置不一定相毗邻。因此，我们无法用一个小批量最终时间步的隐藏状态来初始化下一个小批量的隐藏状态。在训练模型时，每次随机采样前都需要重新初始化隐藏状态。"
   ]
  },
  {
   "cell_type": "code",
   "execution_count": 104,
   "metadata": {
    "ExecuteTime": {
     "end_time": "2020-04-15T01:42:21.694439Z",
     "start_time": "2020-04-15T01:42:21.686750Z"
    }
   },
   "outputs": [
    {
     "name": "stdout",
     "output_type": "stream",
     "text": [
      "X:  [[ 0  1  2  3  4  5]\n",
      " [ 6  7  8  9 10 11]] \n",
      "Y: [[ 1  2  3  4  5  6]\n",
      " [ 7  8  9 10 11 12]] \n",
      "\n",
      "X:  [[18 19 20 21 22 23]\n",
      " [12 13 14 15 16 17]] \n",
      "Y: [[19 20 21 22 23 24]\n",
      " [13 14 15 16 17 18]] \n",
      "\n"
     ]
    }
   ],
   "source": [
    "# 随机采样\n",
    "\n",
    "# batch_size是每个mini_batch的样本数\n",
    "# num_steps是每个样本所包含的时间步数(在本例中即corpus中一段连续的字, 且字数=num_steps)\n",
    "\n",
    "# 即从corpus里面选出 (len(corpus_indices)-1) // num_steps // batch_size 个 mini_batch\n",
    "# 每个mini_batch内含有batch_size个随机样本\n",
    "# 每个样本含有num_step个连续的字。\n",
    "def data_iter_random(corpus_indices, batch_size, num_steps, ctx=None):\n",
    "    # 减1是因为输出的索引是相应输入的索引加1\n",
    "    num_examples = (len(corpus_indices) - 1) // num_steps\n",
    "    epoch_size = num_examples // batch_size\n",
    "    example_indices = list(range(num_examples))\n",
    "    random.shuffle(example_indices)\n",
    "\n",
    "    # 返回从pos开始的长为num_steps的序列\n",
    "    def _data(pos):\n",
    "        return corpus_indices[pos: pos + num_steps]\n",
    "\n",
    "    for i in range(epoch_size):\n",
    "        # 每次读取batch_size个随机样本\n",
    "        i = i * batch_size\n",
    "        batch_indices = example_indices[i: i + batch_size]\n",
    "        X = [_data(j * num_steps) for j in batch_indices]\n",
    "        Y = [_data(j * num_steps + 1) for j in batch_indices]\n",
    "        yield np.array(X, ctx), np.array(Y, ctx)\n",
    "\n",
    "# 输出一个0-29的人工序列\n",
    "my_seq = list(range(30))\n",
    "for X, Y in data_iter_random(my_seq, batch_size=2, num_steps=6):\n",
    "    print('X: ', X, '\\nY:', Y, '\\n')"
   ]
  },
  {
   "cell_type": "markdown",
   "metadata": {},
   "source": [
    "除对原始序列做随机采样之外，我们还可以令相邻的两个随机小批量在原始序列上的位置相毗邻。这时候，我们就可以用一个小批量最终时间步的隐藏状态来初始化下一个小批量的隐藏状态，从而使下一个小批量的输出也取决于当前小批量的输入，并如此循环下去。这对实现循环神经网络造成了两方面影响：一方面，\n",
    "在训练模型时，我们只需在每一个迭代周期开始时初始化隐藏状态；另一方面，当多个相邻小批量通过传递隐藏状态串联起来时，模型参数的梯度计算将依赖所有串联起来的小批量序列。同一迭代周期中，随着迭代次数的增加，梯度的计算开销会越来越大。\n",
    "为了使模型参数的梯度计算只依赖一次迭代读取的小批量序列，我们可以在每次读取小批量前将隐藏状态从计算图中分离出来。"
   ]
  },
  {
   "cell_type": "code",
   "execution_count": 105,
   "metadata": {
    "ExecuteTime": {
     "end_time": "2020-04-15T01:42:57.352675Z",
     "start_time": "2020-04-15T01:42:57.345828Z"
    }
   },
   "outputs": [
    {
     "name": "stdout",
     "output_type": "stream",
     "text": [
      "X:  [[ 0  1  2  3  4  5]\n",
      " [15 16 17 18 19 20]] \n",
      "Y: [[ 1  2  3  4  5  6]\n",
      " [16 17 18 19 20 21]] \n",
      "\n",
      "X:  [[ 6  7  8  9 10 11]\n",
      " [21 22 23 24 25 26]] \n",
      "Y: [[ 7  8  9 10 11 12]\n",
      " [22 23 24 25 26 27]] \n",
      "\n"
     ]
    }
   ],
   "source": [
    "# 相邻采样\n",
    "\n",
    "# batch_size是每个mini_batch的样本数\n",
    "# num_steps是每个样本所包含的时间步数(在本例中即corpus中一段连续的字, 且字数=num_steps)\n",
    "\n",
    "# 即从corpus里面选出 (len(corpus_indices)-1) // num_steps // batch_size 个 mini_batch\n",
    "# 每个mini_batch内含有batch_size个连续的样本\n",
    "# 每个样本含有num_step个连续的字。\n",
    "def data_iter_consecutive(corpus_indices, batch_size, num_steps, ctx=None):\n",
    "    corpus_indices = np.array(corpus_indices)\n",
    "    data_len = len(corpus_indices)\n",
    "    batch_len = data_len // batch_size\n",
    "    indices = corpus_indices[0: batch_size*batch_len].reshape((\n",
    "        batch_size, batch_len))\n",
    "    epoch_size = (batch_len - 1) // num_steps\n",
    "    for i in range(epoch_size):\n",
    "        i = i * num_steps\n",
    "        X = indices[:, i: i + num_steps]\n",
    "        Y = indices[:, i + 1: i + num_steps + 1]\n",
    "        yield X, Y\n",
    "\n",
    "# 演示\n",
    "# 可以看出, 两个X是连续的\n",
    "for X, Y in data_iter_consecutive(my_seq, batch_size=2, num_steps=6):\n",
    "    print('X: ', X, '\\nY:', Y, '\\n')"
   ]
  },
  {
   "cell_type": "markdown",
   "metadata": {},
   "source": [
    "## 从零实现"
   ]
  },
  {
   "cell_type": "markdown",
   "metadata": {},
   "source": [
    "为了将词表示成向量输入到神经网络，一个简单的办法是使用one-hot向量。假设词典中不同字符的数量为$N$（即词典大小`vocab_size`），每个字符已经同一个从0到$N-1$的连续整数值索引一一对应。如果一个字符的索引是整数$i$, 那么我们创建一个全0的长为$N$的向量，并将其位置为$i$的元素设成1。该向量就是对原字符的one-hot向量。"
   ]
  },
  {
   "cell_type": "code",
   "execution_count": 6,
   "metadata": {
    "ExecuteTime": {
     "end_time": "2020-04-14T07:17:17.492277Z",
     "start_time": "2020-04-14T07:17:17.467163Z"
    }
   },
   "outputs": [
    {
     "data": {
      "text/plain": [
       "(5, TensorShape([2, 1027]))"
      ]
     },
     "execution_count": 6,
     "metadata": {},
     "output_type": "execute_result"
    }
   ],
   "source": [
    "# ont hoter\n",
    "def to_onehot(X, size):\n",
    "    return [tf.one_hot(x, size,dtype=tf.float32) for x in X.T]\n",
    "\n",
    "# show example\n",
    "X = np.arange(10).reshape((2,5))\n",
    "inputs = to_onehot(X, vocab_size)\n",
    "len(inputs), inputs[0].shape"
   ]
  },
  {
   "cell_type": "code",
   "execution_count": 7,
   "metadata": {
    "ExecuteTime": {
     "end_time": "2020-04-14T07:17:17.500242Z",
     "start_time": "2020-04-14T07:17:17.494100Z"
    }
   },
   "outputs": [],
   "source": [
    "# 初始化模型参数\n",
    "num_inputs, num_hiddens, num_outputs = vocab_size, 256, vocab_size\n",
    "\n",
    "def get_params():\n",
    "    def _one(shape):\n",
    "        return tf.Variable(tf.random.normal(shape=shape,stddev=0.01,mean=0,dtype=tf.float32))\n",
    "    \n",
    "    # 隐层参数\n",
    "    W_xh = _one((num_inputs, num_hiddens))\n",
    "    W_hh = _one((num_hiddens, num_hiddens))\n",
    "    b_h = tf.Variable(tf.zeros(num_hiddens), dtype=tf.float32)\n",
    "    \n",
    "    # 输出层参数\n",
    "    W_hq = _one((num_hiddens, num_outputs))\n",
    "    b_q = tf.Variable(tf.zeros(num_outputs), dtype=tf.float32)\n",
    "    params = [W_xh, W_hh, b_h, W_hq, b_q]\n",
    "    \n",
    "    return params"
   ]
  },
  {
   "cell_type": "code",
   "execution_count": 8,
   "metadata": {
    "ExecuteTime": {
     "end_time": "2020-04-14T07:17:17.506760Z",
     "start_time": "2020-04-14T07:17:17.502836Z"
    }
   },
   "outputs": [],
   "source": [
    "# 初始化隐藏状态\n",
    "def init_rnn_state(batch_size, num_hiddens):\n",
    "    return (tf.zeros(shape=(batch_size, num_hiddens)), )"
   ]
  },
  {
   "cell_type": "code",
   "execution_count": 9,
   "metadata": {
    "ExecuteTime": {
     "end_time": "2020-04-14T07:17:17.549688Z",
     "start_time": "2020-04-14T07:17:17.508950Z"
    }
   },
   "outputs": [
    {
     "name": "stdout",
     "output_type": "stream",
     "text": [
      "5 (2, 1027) (2, 256)\n"
     ]
    }
   ],
   "source": [
    "# 定义模型\n",
    "# 在一个time_step内如何计算隐藏状态和输出, 这里的activation使用了tanh\n",
    "def rnn(inputs, state, params):\n",
    "    # inputs和outputs皆为num_steps个形状为(batch_size, vocab_size)的矩阵\n",
    "    W_xh, W_hh, b_h, W_hq, b_q = params\n",
    "    H, = state\n",
    "    outputs = []\n",
    "    \n",
    "    for X in inputs:\n",
    "        X = tf.reshape(X,[-1,W_xh.shape[0]])\n",
    "        H = tf.tanh(tf.matmul(X, W_xh) + tf.matmul(H, W_hh) + b_h)\n",
    "        Y = tf.matmul(H, W_hq) + b_q\n",
    "        outputs.append(Y)\n",
    "        \n",
    "    return outputs, (H,)\n",
    "\n",
    "# 例子\n",
    "X = np.arange(10).reshape((2,5))\n",
    "state = init_rnn_state(X.shape[0], num_hiddens)\n",
    "inputs = to_onehot(X, vocab_size)\n",
    "params = get_params()\n",
    "outputs, state_new = rnn(inputs, state, params)\n",
    "print(len(outputs), outputs[0].shape, state_new[0].shape)"
   ]
  },
  {
   "cell_type": "code",
   "execution_count": 10,
   "metadata": {
    "ExecuteTime": {
     "end_time": "2020-04-14T07:17:17.571387Z",
     "start_time": "2020-04-14T07:17:17.551978Z"
    }
   },
   "outputs": [
    {
     "name": "stdout",
     "output_type": "stream",
     "text": [
      "分开角温微把透醉嵩路寂啃\n"
     ]
    }
   ],
   "source": [
    "# 预测函数\n",
    "# 以下函数基于前缀prefix（含有数个字符的字符串）来预测接下来的num_chars个字符。\n",
    "# 本函数已保存在d2lzh_tensorflow2包中方便以后使用\n",
    "def predict_rnn(prefix, num_chars, rnn, params, init_rnn_state,\n",
    "                num_hiddens, vocab_size,idx_to_char, char_to_idx):\n",
    "    state = init_rnn_state(1, num_hiddens)\n",
    "    output = [char_to_idx[prefix[0]]]\n",
    "    for t in range(num_chars + len(prefix) - 1):\n",
    "        # 将上一时间步的输出作为当前时间步的输入\n",
    "        X = tf.convert_to_tensor(to_onehot(np.array([output[-1]]), vocab_size),dtype=tf.float32)\n",
    "        X = tf.reshape(X,[1,-1])\n",
    "        # 计算输出和更新隐藏状态\n",
    "        (Y, state) = rnn(X, state, params)\n",
    "        # 下一个时间步的输入是prefix里的字符或者当前的最佳预测字符\n",
    "        if t < len(prefix) - 1:\n",
    "            output.append(char_to_idx[prefix[t + 1]])\n",
    "        else:\n",
    "            output.append(int(np.array(tf.argmax(Y[0], axis=1))))\n",
    "\n",
    "    return ''.join([idx_to_char[i] for i in output])\n",
    "\n",
    "\n",
    "# 测试\n",
    "print(predict_rnn('分开', 10, rnn, params, init_rnn_state, num_hiddens, vocab_size,\n",
    "            idx_to_char, char_to_idx))"
   ]
  },
  {
   "cell_type": "markdown",
   "metadata": {},
   "source": [
    "循环神经网络中较容易出现梯度衰减或梯度爆炸。我们会在6.6节（通过时间反向传播）中解释原因。为了应对梯度爆炸，我们可以裁剪梯度（clip gradient）。假设我们把所有模型参数梯度的元素拼接成一个向量 $\\boldsymbol{g}$，并设裁剪的阈值是$\\theta$。裁剪后的梯度\n",
    "\n",
    "$$ \\min\\left(\\frac{\\theta}{\\|\\boldsymbol{g}\\|}, 1\\right) \\boldsymbol{g}$$\n",
    "\n",
    "简单来说, 当向量$\\boldsymbol{g}$的$L_2$范数超过$\\theta$, 对梯度进行裁剪; 反之则不裁剪。"
   ]
  },
  {
   "cell_type": "code",
   "execution_count": 11,
   "metadata": {
    "ExecuteTime": {
     "end_time": "2020-04-14T07:17:17.578426Z",
     "start_time": "2020-04-14T07:17:17.573566Z"
    }
   },
   "outputs": [],
   "source": [
    "# 裁剪梯度\n",
    "def grad_clipping(grads,theta):\n",
    "    norm = np.array([0])\n",
    "    for i in range(len(grads)):\n",
    "        norm+=tf.math.reduce_sum(grads[i] ** 2)\n",
    "    norm = np.sqrt(norm).item()\n",
    "    new_gradient=[]\n",
    "    if norm > theta:\n",
    "        for grad in grads:\n",
    "            new_gradient.append(grad * theta / norm)\n",
    "    else:\n",
    "        for grad in grads:\n",
    "            new_gradient.append(grad)  \n",
    "\n",
    "    return new_gradient"
   ]
  },
  {
   "cell_type": "code",
   "execution_count": 12,
   "metadata": {
    "ExecuteTime": {
     "end_time": "2020-04-14T07:17:17.582987Z",
     "start_time": "2020-04-14T07:17:17.580458Z"
    }
   },
   "outputs": [],
   "source": [
    "# 困惑度(perplexity)\n",
    "# 一般使用perplexity来评价语言模型的好坏, 困惑度是对交叉熵损失函数做指数运算后得到的值\n",
    "# - 最佳情况下，模型总是把标签类别的概率预测为1，此时困惑度为1\n",
    "# - 最坏情况下，模型总是把表现类别的概率预测为0，此时困惑度为正无穷\n",
    "# - 基线情况下，模型总是预测所有类别的概率相同，此时困惑度为类别个数"
   ]
  },
  {
   "cell_type": "code",
   "execution_count": 13,
   "metadata": {
    "ExecuteTime": {
     "end_time": "2020-04-14T07:17:17.597225Z",
     "start_time": "2020-04-14T07:17:17.585033Z"
    }
   },
   "outputs": [],
   "source": [
    "# 定义模型训练函数\n",
    "import math\n",
    "import time\n",
    "\n",
    "def train_and_predict_rnn(rnn, get_params, init_rnn_state, num_hiddens,\n",
    "                          vocab_size,  corpus_indices, idx_to_char,\n",
    "                          char_to_idx, is_random_iter, num_epochs, num_steps,\n",
    "                          lr, clipping_theta, batch_size, pred_period,\n",
    "                          pred_len, prefixes):\n",
    "    # 选择取样方法\n",
    "    if is_random_iter:\n",
    "        data_iter_fn = data_iter_random\n",
    "    else:\n",
    "        data_iter_fn = data_iter_consecutive\n",
    "        \n",
    "    # 初始化参数\n",
    "    params = get_params()\n",
    "    optimizer = tf.keras.optimizers.SGD(learning_rate=lr)\n",
    "    \n",
    "    # 训练\n",
    "    for epoch in range(num_epochs):\n",
    "        # 如果使用相邻采样, 在epoch开始时初始化隐藏状态\n",
    "        if not is_random_iter:\n",
    "            state = init_rnn_state(batch_size, num_hiddens)\n",
    "        l_sum, n, start = 0.0, 0, time.time()\n",
    "        data_iter = data_iter_fn(corpus_indices, batch_size, num_steps)\n",
    "        for X, Y in data_iter:\n",
    "            # 如果使用随机采样, 在每个小批量更新前初始化隐藏状态\n",
    "            if is_random_iter:\n",
    "                state = init_rnn_state(batch_size, num_hiddens)\n",
    "            # 计算梯度\n",
    "            with tf.GradientTape(persistent=True) as tape:\n",
    "                tape.watch(params)\n",
    "                # 对输入做onehot\n",
    "                inputs = to_onehot(X, vocab_size)\n",
    "                # 获取rnn的输出及其隐藏状态, outputs有num_steps个形状为(batch_size, vocab_size)的矩阵\n",
    "                (outputs, state) = rnn(inputs, state, params)\n",
    "                # 对output做拼接，拼接后shape为(num_steps * batch_size, vocab_size)？？？？？？？？？？\n",
    "                outputs = tf.concat(outputs, axis=0)\n",
    "                # 对Y做转置并转化为 tensor\n",
    "                y = Y.T.reshape((-1,))\n",
    "                y = tf.convert_to_tensor(y, dtype=tf.float32)\n",
    "                # 损失函数\n",
    "                l = tf.reduce_mean(tf.losses.sparse_categorical_crossentropy(y,outputs))\n",
    "            grads = tape.gradient(l, params)\n",
    "            grads = grad_clipping(grads, clipping_theta)\n",
    "            optimizer.apply_gradients(zip(grads, params))\n",
    "            l_sum += np.array(l).item() * len(y)\n",
    "            n += len(y)\n",
    "        \n",
    "        if (epoch + 1) % pred_period == 0:\n",
    "            print('epoch %d, perplexity %f, time %.2f sec' % (\n",
    "                epoch + 1, math.exp(l_sum / n), time.time() - start))\n",
    "            #print(params)\n",
    "            for prefix in prefixes:\n",
    "                print(prefix)\n",
    "                print(' -', predict_rnn(\n",
    "                    prefix, pred_len, rnn, params, init_rnn_state,\n",
    "                    num_hiddens, vocab_size,  idx_to_char, char_to_idx))"
   ]
  },
  {
   "cell_type": "code",
   "execution_count": 14,
   "metadata": {
    "ExecuteTime": {
     "end_time": "2020-04-14T07:17:17.603305Z",
     "start_time": "2020-04-14T07:17:17.599754Z"
    }
   },
   "outputs": [],
   "source": [
    "num_epochs, num_steps, batch_size, lr, clipping_theta = 250, 35, 32, 1e2, 1e-2\n",
    "pred_period, pred_len, prefixes = 50, 50, ['分开', '不分开']"
   ]
  },
  {
   "cell_type": "code",
   "execution_count": 15,
   "metadata": {
    "ExecuteTime": {
     "end_time": "2020-04-14T07:20:59.735513Z",
     "start_time": "2020-04-14T07:17:17.605807Z"
    }
   },
   "outputs": [
    {
     "name": "stdout",
     "output_type": "stream",
     "text": [
      "epoch 50, perplexity 94.712581, time 0.90 sec\n",
      "分开\n",
      " - 分开                                                  \n",
      "不分开\n",
      " - 不分开                                                  \n",
      "epoch 100, perplexity 27.132956, time 0.88 sec\n",
      "分开\n",
      " - 分开                                                  \n",
      "不分开\n",
      " - 不分开                                                  \n",
      "epoch 150, perplexity 881.779434, time 0.87 sec\n",
      "分开\n",
      " - 分开我想就软戒及碑文肩膀游诅盒诅诅肩膀撒娇呢撒娇碑撒诅诅蔓阻诅蔓阻诅碑诅诅诅蔓阻诅诅蔓撒碑诅诅诅蔓阻诅碑\n",
      "不分开\n",
      " - 不分开我手诅诅阻及蔓肩膀撒娇呢撒娇诅撒诅诅蔓阻诅蔓阻诅碑诅诅诅蔓阻诅诅蔓撒碑诅诅诅蔓阻诅碑诅诅肩膀撒诅诅撒\n",
      "epoch 200, perplexity 1005.756709, time 0.86 sec\n",
      "分开\n",
      " - 分开惚惚惚惚惚惚惚惚惚惚惚惚惚惚惚惚惚惚惚惚惚惚惚惚惚惚惚惚惚惚惚惚惚惚惚惚惚惚惚惚惚惚惚惚惚惚惚惚惚惚\n",
      "不分开\n",
      " - 不分开惚惚惚惚惚惚惚惚惚惚惚惚惚惚惚惚惚惚惚惚惚惚惚惚惚惚惚惚惚惚惚惚惚惚惚惚惚惚惚惚惚惚惚惚惚惚惚惚惚惚\n",
      "epoch 250, perplexity 1005.756529, time 0.87 sec\n",
      "分开\n",
      " - 分开惚惚惚惚惚惚惚惚惚惚惚惚惚惚惚惚惚惚惚惚惚惚惚惚惚惚惚惚惚惚惚惚惚惚惚惚惚惚惚惚惚惚惚惚惚惚惚惚惚惚\n",
      "不分开\n",
      " - 不分开惚惚惚惚惚惚惚惚惚惚惚惚惚惚惚惚惚惚惚惚惚惚惚惚惚惚惚惚惚惚惚惚惚惚惚惚惚惚惚惚惚惚惚惚惚惚惚惚惚惚\n"
     ]
    }
   ],
   "source": [
    "train_and_predict_rnn(rnn, get_params, init_rnn_state, num_hiddens,\n",
    "                      vocab_size, corpus_indices, idx_to_char,\n",
    "                      char_to_idx, True, num_epochs, num_steps, lr,\n",
    "                      clipping_theta, batch_size, pred_period, pred_len,\n",
    "                      prefixes)"
   ]
  },
  {
   "cell_type": "markdown",
   "metadata": {},
   "source": [
    "## 简洁实现"
   ]
  },
  {
   "cell_type": "code",
   "execution_count": 157,
   "metadata": {
    "ExecuteTime": {
     "end_time": "2020-04-15T02:55:07.055551Z",
     "start_time": "2020-04-15T02:55:07.052289Z"
    }
   },
   "outputs": [],
   "source": [
    "import tensorflow as tf\n",
    "from tensorflow import keras\n",
    "import numpy as np\n",
    "import math\n",
    "import time\n",
    "\n",
    "import sys\n",
    "sys.path.append('./Dive-into-DL-TF2.0/d2lzh_tensorflow2')\n",
    "import d2lzh_tensorflow2 as d2l"
   ]
  },
  {
   "cell_type": "code",
   "execution_count": 158,
   "metadata": {
    "ExecuteTime": {
     "end_time": "2020-04-15T02:55:08.976951Z",
     "start_time": "2020-04-15T02:55:08.970883Z"
    }
   },
   "outputs": [],
   "source": [
    "# 加载数据\n",
    "(corpus_indices, char_to_idx, idx_to_char, vocab_size) = d2l.load_data_jay_lyrics()"
   ]
  },
  {
   "cell_type": "code",
   "execution_count": 159,
   "metadata": {
    "ExecuteTime": {
     "end_time": "2020-04-15T02:55:11.044794Z",
     "start_time": "2020-04-15T02:55:11.006621Z"
    }
   },
   "outputs": [
    {
     "data": {
      "text/plain": [
       "(TensorShape([35, 2, 256]), 2, TensorShape([256]))"
      ]
     },
     "execution_count": 159,
     "metadata": {},
     "output_type": "execute_result"
    }
   ],
   "source": [
    "# 构建一个含单隐藏层, 且该隐藏层有256个神经元的RNN\n",
    "# keras.layers.RNN在前向计算后会分别返回输出和隐藏状态。该前向计算不涉及输出层的计算！！！\n",
    "# 所以在后续的RNNModel中要加一个dense\n",
    "cell = keras.layers.SimpleRNNCell(num_hiddens,kernel_initializer='glorot_uniform')\n",
    "rnn_layer = keras.layers.RNN(cell,time_major=True,return_sequences=True,return_state=True)\n",
    "\n",
    "# 构建例子查看shape\n",
    "num_hiddens = 256\n",
    "batch_size = 2\n",
    "num_steps = 35\n",
    "state = cell.get_initial_state(batch_size=batch_size, dtype=tf.float32)\n",
    "X = tf.random.uniform(shape=(num_steps, batch_size, vocab_size))\n",
    "Y, state_new = rnn_layer(X, state)\n",
    "# 输出的形状为(num_steps, batch_size, num_hiddens)\n",
    "Y.shape, len(state_new), state_new[0].shape"
   ]
  },
  {
   "cell_type": "code",
   "execution_count": 160,
   "metadata": {
    "ExecuteTime": {
     "end_time": "2020-04-15T02:55:13.002593Z",
     "start_time": "2020-04-15T02:55:12.997825Z"
    }
   },
   "outputs": [],
   "source": [
    "# 构建网络\n",
    "# 其中Y与state为整个RNN中最后一层的输出\n",
    "class RNNModel(keras.layers.Layer):\n",
    "    def __init__(self, rnn_layer, vocab_size, **kwargs):\n",
    "        super(RNNModel, self).__init__(**kwargs)\n",
    "        self.rnn = rnn_layer\n",
    "        self.vocab_size = vocab_size\n",
    "        self.dense = keras.layers.Dense(vocab_size)\n",
    "\n",
    "    def call(self, inputs, state):\n",
    "        # 将输入转置成(num_steps, batch_size)后获取one-hot向量表示\n",
    "        X = tf.one_hot(tf.transpose(inputs), self.vocab_size)\n",
    "        Y, state = self.rnn(X, state)\n",
    "        # 全连接层会首先将Y的形状变成(num_steps * batch_size, num_hiddens)，它的输出\n",
    "        # 形状为(num_steps * batch_size, vocab_size)\n",
    "        output = self.dense(tf.reshape(Y,(-1, Y.shape[-1])))\n",
    "        return output, state\n",
    "\n",
    "    def get_initial_state(self, *args, **kwargs):\n",
    "        return self.rnn.cell.get_initial_state(*args, **kwargs)"
   ]
  },
  {
   "cell_type": "code",
   "execution_count": 161,
   "metadata": {
    "ExecuteTime": {
     "end_time": "2020-04-15T02:55:15.183873Z",
     "start_time": "2020-04-15T02:55:15.112429Z"
    }
   },
   "outputs": [
    {
     "data": {
      "text/plain": [
       "'分开萨笑那妥秀制决空陷学'"
      ]
     },
     "execution_count": 161,
     "metadata": {},
     "output_type": "execute_result"
    }
   ],
   "source": [
    "# 预测模型\n",
    "# 相当于先往output中添加prefix, 在该案例中即'分开'两字\n",
    "# 然后往rnn中输入'开', 让它预测出下一个字, 再将该字append进output中\n",
    "# 然后将上述预测出的字再输入rnn中, 让它预测下一个字, 以此类推\n",
    "def predict_rnn_keras(prefix, num_chars, model, vocab_size, idx_to_char,\n",
    "                      char_to_idx):\n",
    "    # 使用model的成员函数来初始化隐藏状态\n",
    "    state = model.get_initial_state(batch_size=1,dtype=tf.float32)\n",
    "    output = [char_to_idx[prefix[0]]]\n",
    "    for t in range(num_chars + len(prefix) - 1):\n",
    "        X = np.array([output[-1]]).reshape((1, 1))\n",
    "        Y, state = model(X, state)  # 前向计算不需要传入模型参数\n",
    "        if t < len(prefix) - 1:\n",
    "            output.append(char_to_idx[prefix[t + 1]])\n",
    "        else:\n",
    "            output.append(int(np.array(tf.argmax(Y,axis=-1))))\n",
    "    return ''.join([idx_to_char[i] for i in output])\n",
    "\n",
    "# 展示效果\n",
    "model = RNNModel(rnn_layer, vocab_size)\n",
    "predict_rnn_keras('分开', 10, model, vocab_size, idx_to_char, char_to_idx)"
   ]
  },
  {
   "cell_type": "code",
   "execution_count": 162,
   "metadata": {
    "ExecuteTime": {
     "end_time": "2020-04-15T02:55:17.034790Z",
     "start_time": "2020-04-15T02:55:17.030516Z"
    }
   },
   "outputs": [],
   "source": [
    "# 梯度裁剪\n",
    "def grad_clipping(grads,theta):\n",
    "    norm = np.array([0])\n",
    "    for i in range(len(grads)):\n",
    "        norm+=tf.math.reduce_sum(grads[i] ** 2)\n",
    "    norm = np.sqrt(norm).item()\n",
    "    new_gradient=[]\n",
    "    if norm > theta:\n",
    "        for grad in grads:\n",
    "            new_gradient.append(grad * theta / norm)\n",
    "    else:\n",
    "        for grad in grads:\n",
    "            new_gradient.append(grad)  \n",
    "    return new_gradient"
   ]
  },
  {
   "cell_type": "code",
   "execution_count": 163,
   "metadata": {
    "ExecuteTime": {
     "end_time": "2020-04-15T02:55:33.836101Z",
     "start_time": "2020-04-15T02:55:33.826850Z"
    }
   },
   "outputs": [],
   "source": [
    "# 训练及预测模型\n",
    "def train_and_predict_rnn_keras(model, num_hiddens, vocab_size, \n",
    "                                corpus_indices, idx_to_char, char_to_idx,\n",
    "                                num_epochs, num_steps, lr, clipping_theta,\n",
    "                                batch_size, pred_period, pred_len, prefixes):\n",
    "    loss = tf.keras.losses.SparseCategoricalCrossentropy()\n",
    "    optimizer=tf.keras.optimizers.SGD(learning_rate=lr)\n",
    "    \n",
    "    for epoch in range(num_epochs):\n",
    "        l_sum, n, start = 0.0, 0, time.time()\n",
    "        data_iter = d2l.data_iter_consecutive(\n",
    "            corpus_indices, batch_size, num_steps)\n",
    "        state = model.get_initial_state(batch_size=batch_size,dtype=tf.float32)\n",
    "        for X, Y in data_iter:\n",
    "            with tf.GradientTape(persistent=True) as tape:\n",
    "                (outputs, state) = model(X, state)\n",
    "                y = Y.T.reshape((-1,))\n",
    "                l = loss(y,outputs)\n",
    "            \n",
    "            grads = tape.gradient(l, model.variables)\n",
    "            # 梯度裁剪\n",
    "            grads = grad_clipping(grads, clipping_theta)\n",
    "            optimizer.apply_gradients(zip(grads, model.variables))  # 因为已经误差取过均值，梯度不用再做平均\n",
    "            l_sum += np.array(l).item() * len(y)\n",
    "            n += len(y)\n",
    "\n",
    "        if (epoch + 1) % pred_period == 0:\n",
    "            print('epoch %d, perplexity %f, time %.2f sec' % (\n",
    "                epoch + 1, math.exp(l_sum / n), time.time() - start))\n",
    "            for prefix in prefixes:\n",
    "                print(' -', predict_rnn_keras(\n",
    "                    prefix, pred_len, model, vocab_size,  idx_to_char,\n",
    "                    char_to_idx))"
   ]
  },
  {
   "cell_type": "code",
   "execution_count": 164,
   "metadata": {
    "ExecuteTime": {
     "end_time": "2020-04-15T02:58:51.117601Z",
     "start_time": "2020-04-15T02:55:43.238010Z"
    }
   },
   "outputs": [
    {
     "name": "stdout",
     "output_type": "stream",
     "text": [
      "epoch 50, perplexity 5532279.694661, time 0.75 sec\n",
      " - 分开衫沼般般般般般般般般般般般般般般般般般般般般般般般般般般般般般般般般般般般般般般般般般般般般般般般般\n",
      " - 不分开沼般般般般般般般般般般般般般般般般般般般般般般般般般般般般般般般般般般般般般般般般般般般般般般般般般\n",
      "epoch 100, perplexity 476508.198537, time 0.76 sec\n",
      " - 分开  到塞 目到塞屉目到塞屉目到塞屉目到塞屉目到塞屉目到塞屉目到塞屉目到塞屉目到塞屉目到塞屉目到塞屉目\n",
      " - 不分开 到午 屉比午 碗目到塞屉目到塞屉目到塞屉目到塞屉目到塞屉目到塞屉目到塞屉目到塞屉目到塞屉目到塞屉目\n",
      "epoch 150, perplexity 1010.437378, time 0.77 sec\n",
      " - 分开朋朋朋朋朋朋朋朋朋朋朋朋朋朋朋朋朋朋朋朋朋朋朋朋朋朋朋朋朋朋朋朋朋朋朋朋朋朋朋朋朋朋朋朋朋朋朋朋朋朋\n",
      " - 不分开朋朋朋朋朋朋朋朋朋朋朋朋朋朋朋朋朋朋朋朋朋朋朋朋朋朋朋朋朋朋朋朋朋朋朋朋朋朋朋朋朋朋朋朋朋朋朋朋朋朋\n",
      "epoch 200, perplexity 1010.437318, time 0.72 sec\n",
      " - 分开朋朋朋朋朋朋朋朋朋朋朋朋朋朋朋朋朋朋朋朋朋朋朋朋朋朋朋朋朋朋朋朋朋朋朋朋朋朋朋朋朋朋朋朋朋朋朋朋朋朋\n",
      " - 不分开朋朋朋朋朋朋朋朋朋朋朋朋朋朋朋朋朋朋朋朋朋朋朋朋朋朋朋朋朋朋朋朋朋朋朋朋朋朋朋朋朋朋朋朋朋朋朋朋朋朋\n",
      "epoch 250, perplexity 1010.437258, time 0.72 sec\n",
      " - 分开朋朋朋朋朋朋朋朋朋朋朋朋朋朋朋朋朋朋朋朋朋朋朋朋朋朋朋朋朋朋朋朋朋朋朋朋朋朋朋朋朋朋朋朋朋朋朋朋朋朋\n",
      " - 不分开朋朋朋朋朋朋朋朋朋朋朋朋朋朋朋朋朋朋朋朋朋朋朋朋朋朋朋朋朋朋朋朋朋朋朋朋朋朋朋朋朋朋朋朋朋朋朋朋朋朋\n"
     ]
    }
   ],
   "source": [
    "# 使用模型\n",
    "num_epochs, batch_size, lr, clipping_theta = 250, 32, 1e2, 1e-2\n",
    "pred_period, pred_len, prefixes = 50, 50, ['分开', '不分开']\n",
    "train_and_predict_rnn_keras(model, num_hiddens, vocab_size, \n",
    "                            corpus_indices, idx_to_char, char_to_idx,\n",
    "                            num_epochs, num_steps, lr, clipping_theta,\n",
    "                            batch_size, pred_period, pred_len, prefixes)"
   ]
  },
  {
   "cell_type": "code",
   "execution_count": null,
   "metadata": {},
   "outputs": [],
   "source": []
  },
  {
   "cell_type": "markdown",
   "metadata": {},
   "source": [
    "# RNN的反向传播"
   ]
  },
  {
   "cell_type": "markdown",
   "metadata": {},
   "source": [
    "前两节中, 如果不裁剪梯度, 模型无法正常训练。为了介绍这一现象, 本节介绍RNN中梯度计算和储存。"
   ]
  },
  {
   "cell_type": "markdown",
   "metadata": {},
   "source": [
    "简单起见，我们考虑一个无偏差项的循环神经网络，且激活函数为恒等映射（$\\phi(x)=x$）。设时间步 $t$ 的输入为单样本 $\\boldsymbol{x}_t \\in \\mathbb{R}^d$，标签为 $y_t$，那么隐藏状态 $\\boldsymbol{h}_t \\in \\mathbb{R}^h$的计算表达式为\n",
    "\n",
    "$$\n",
    "\\boldsymbol{h}_t = \\boldsymbol{W}_{hx} \\boldsymbol{x}_t + \\boldsymbol{W}_{hh} \\boldsymbol{h}_{t-1},\n",
    "$$\n",
    "\n",
    "其中$\\boldsymbol{W}_{hx} \\in \\mathbb{R}^{h \\times d}$和$\\boldsymbol{W}_{hh} \\in \\mathbb{R}^{h \\times h}$是隐藏层权重参数。设输出层权重参数$\\boldsymbol{W}_{qh} \\in \\mathbb{R}^{q \\times h}$，时间步$t$的输出层变量$\\boldsymbol{o}_t \\in \\mathbb{R}^q$计算为\n",
    "\n",
    "$$\n",
    "\\boldsymbol{o}_t = \\boldsymbol{W}_{qh} \\boldsymbol{h}_{t}.\n",
    "$$\n",
    "\n",
    "设时间步$t$的损失为$\\ell(\\boldsymbol{o}_t, y_t)$。时间步数为$T$的损失函数$L$定义为\n",
    "\n",
    "$$\n",
    "L = \\frac{1}{T} \\sum_{t=1}^T \\ell (\\boldsymbol{o}_t, y_t).\n",
    "$$\n",
    "\n",
    "我们将$L$称为有关给定时间步的数据样本的目标函数。"
   ]
  },
  {
   "cell_type": "markdown",
   "metadata": {},
   "source": [
    "下图为模型计算图。例如，时间步3的隐藏状态$\\boldsymbol{h}_3$的计算依赖模型参数$\\boldsymbol{W}_{hx}$、$\\boldsymbol{W}_{hh}$、上一时间步隐藏状态$\\boldsymbol{h}_2$以及当前时间步输入$\\boldsymbol{x}_3$。"
   ]
  },
  {
   "cell_type": "markdown",
   "metadata": {},
   "source": [
    "<img src=\"img/class9_3.svg\" style=\"zoom:100%\">"
   ]
  },
  {
   "cell_type": "markdown",
   "metadata": {},
   "source": [
    "上图中的模型的参数是 $\\boldsymbol{W}_{hx}$, $\\boldsymbol{W}_{hh}$ 和 $\\boldsymbol{W}_{qh}$。训练模型通常需要模型参数的梯度$\\partial L/\\partial \\boldsymbol{W}_{hx}$、$\\partial L/\\partial \\boldsymbol{W}_{hh}$和$\\partial L/\\partial \\boldsymbol{W}_{qh}$。\n",
    "根据上图中的依赖关系，我们可以按照其中箭头所指的反方向依次计算并存储梯度。\n",
    "\n",
    "目标函数有关各时间步输出层变量的梯度$\\partial L/\\partial \\boldsymbol{o}_t \\in \\mathbb{R}^q$很容易计算：\n",
    "\n",
    "$$\\frac{\\partial L}{\\partial \\boldsymbol{o}_t} =  \\frac{\\partial \\ell (\\boldsymbol{o}_t, y_t)}{T \\cdot \\partial \\boldsymbol{o}_t}.$$\n",
    "\n",
    "下面，我们可以计算目标函数有关模型参数$\\boldsymbol{W}_{qh}$的梯度$\\partial L/\\partial \\boldsymbol{W}_{qh} \\in \\mathbb{R}^{q \\times h}$。根据上图，$L$通过$\\boldsymbol{o}_1, \\ldots, \\boldsymbol{o}_T$依赖$\\boldsymbol{W}_{qh}$。依据链式法则，\n",
    "\n",
    "$$\n",
    "\\frac{\\partial L}{\\partial \\boldsymbol{W}_{qh}} \n",
    "= \\sum_{t=1}^T \\text{prod}\\left(\\frac{\\partial L}{\\partial \\boldsymbol{o}_t}, \\frac{\\partial \\boldsymbol{o}_t}{\\partial \\boldsymbol{W}_{qh}}\\right) \n",
    "= \\sum_{t=1}^T \\frac{\\partial L}{\\partial \\boldsymbol{o}_t} \\boldsymbol{h}_t^\\top.\n",
    "$$\n",
    "\n",
    "\n",
    "其次，我们注意到隐藏状态之间也存在依赖关系。\n",
    "在上图中，$L$只通过$\\boldsymbol{o}_T$依赖最终时间步$T$的隐藏状态$\\boldsymbol{h}_T$。因此，我们先计算目标函数有关最终时间步隐藏状态的梯度$\\partial L/\\partial \\boldsymbol{h}_T \\in \\mathbb{R}^h$。依据链式法则，我们得到\n",
    "\n",
    "$$\n",
    "\\frac{\\partial L}{\\partial \\boldsymbol{h}_T} = \\text{prod}\\left(\\frac{\\partial L}{\\partial \\boldsymbol{o}_T}, \\frac{\\partial \\boldsymbol{o}_T}{\\partial \\boldsymbol{h}_T} \\right) = \\boldsymbol{W}_{qh}^\\top \\frac{\\partial L}{\\partial \\boldsymbol{o}_T}.\n",
    "$$\n",
    "\n",
    "接下来对于时间步$t < T$, 在上图中，$L$通过$\\boldsymbol{h}_{t+1}$和$\\boldsymbol{o}_t$依赖$\\boldsymbol{h}_t$。依据链式法则，\n",
    "目标函数有关时间步$t < T$的隐藏状态的梯度$\\partial L/\\partial \\boldsymbol{h}_t \\in \\mathbb{R}^h$需要按照时间步从大到小依次计算：\n",
    "$$\n",
    "\\frac{\\partial L}{\\partial \\boldsymbol{h}_t} \n",
    "= \\text{prod} (\\frac{\\partial L}{\\partial \\boldsymbol{h}_{t+1}}, \\frac{\\partial \\boldsymbol{h}_{t+1}}{\\partial \\boldsymbol{h}_t}) + \\text{prod} (\\frac{\\partial L}{\\partial \\boldsymbol{o}_t}, \\frac{\\partial \\boldsymbol{o}_t}{\\partial \\boldsymbol{h}_t} ) = \\boldsymbol{W}_{hh}^\\top \\frac{\\partial L}{\\partial \\boldsymbol{h}_{t+1}} + \\boldsymbol{W}_{qh}^\\top \\frac{\\partial L}{\\partial \\boldsymbol{o}_t}\n",
    "$$\n",
    "\n",
    "将上面的递归公式展开，对任意时间步$1 \\leq t \\leq T$，我们可以得到目标函数有关隐藏状态梯度的通项公式\n",
    "\n",
    "$$\n",
    "\\frac{\\partial L}{\\partial \\boldsymbol{h}_t} \n",
    "= \\sum_{i=t}^T {\\left(\\boldsymbol{W}_{hh}^\\top\\right)}^{T-i} \\boldsymbol{W}_{qh}^\\top \\frac{\\partial L}{\\partial \\boldsymbol{o}_{T+t-i}}.\n",
    "$$\n",
    "\n",
    "由上式中的指数项可见，当时间步数 $T$ 较大或者时间步 $t$ 较小时，目标函数有关隐藏状态的梯度较容易出现衰减和爆炸。这也会影响其他包含$\\partial L / \\partial \\boldsymbol{h}_t$项的梯度，例如隐藏层中模型参数的梯度$\\partial L / \\partial \\boldsymbol{W}_{hx} \\in \\mathbb{R}^{h \\times d}$和$\\partial L / \\partial \\boldsymbol{W}_{hh} \\in \\mathbb{R}^{h \\times h}$。\n",
    "在上图中，$L$通过$\\boldsymbol{h}_1, \\ldots, \\boldsymbol{h}_T$依赖这些模型参数。\n",
    "依据链式法则，我们有\n",
    "\n",
    "$$\n",
    "\\begin{aligned}\n",
    "\\frac{\\partial L}{\\partial \\boldsymbol{W}_{hx}} \n",
    "&= \\sum_{t=1}^T \\text{prod}\\left(\\frac{\\partial L}{\\partial \\boldsymbol{h}_t}, \\frac{\\partial \\boldsymbol{h}_t}{\\partial \\boldsymbol{W}_{hx}}\\right) \n",
    "= \\sum_{t=1}^T \\frac{\\partial L}{\\partial \\boldsymbol{h}_t} \\boldsymbol{x}_t^\\top,\\\\\n",
    "\\frac{\\partial L}{\\partial \\boldsymbol{W}_{hh}} \n",
    "&= \\sum_{t=1}^T \\text{prod}\\left(\\frac{\\partial L}{\\partial \\boldsymbol{h}_t}, \\frac{\\partial \\boldsymbol{h}_t}{\\partial \\boldsymbol{W}_{hh}}\\right) \n",
    "= \\sum_{t=1}^T \\frac{\\partial L}{\\partial \\boldsymbol{h}_t} \\boldsymbol{h}_{t-1}^\\top.\n",
    "\\end{aligned}\n",
    "$$\n",
    "\n",
    "\n",
    "每次迭代中，我们在依次计算完以上各个梯度后，会将它们存储起来，从而避免重复计算。例如，由于隐藏状态梯度$\\partial L/\\partial \\boldsymbol{h}_t$被计算和存储，之后的模型参数梯度$\\partial L/\\partial  \\boldsymbol{W}_{hx}$和$\\partial L/\\partial \\boldsymbol{W}_{hh}$的计算可以直接读取$\\partial L/\\partial \\boldsymbol{h}_t$的值，而无须重复计算它们。此外，反向传播中的梯度计算可能会依赖变量的当前值。它们正是通过正向传播计算出来的。\n",
    "举例来说，参数梯度$\\partial L/\\partial \\boldsymbol{W}_{hh}$的计算需要依赖隐藏状态在时间步$t = 0, \\ldots, T-1$的当前值$\\boldsymbol{h}_t$（$\\boldsymbol{h}_0$是初始化得到的）。这些值是通过从输入层到输出层的正向传播计算并存储得到的。"
   ]
  },
  {
   "cell_type": "code",
   "execution_count": null,
   "metadata": {},
   "outputs": [],
   "source": []
  },
  {
   "cell_type": "markdown",
   "metadata": {},
   "source": [
    "# 重点总结"
   ]
  },
  {
   "cell_type": "markdown",
   "metadata": {
    "ExecuteTime": {
     "end_time": "2020-04-14T07:20:59.950621Z",
     "start_time": "2020-04-14T07:20:59.946637Z"
    }
   },
   "source": [
    "- RNN\n",
    "    - 假设训练一个字符生成的含一个隐层的RNN, 输入的样本是'爷爷泡的', 想让RNN输出'爷泡的茶'\n",
    "    - 则在初始的第一个时间步, 对每一个神经元都输入$x_0$ = '爷'与一个初始的隐藏状态$H_0$\n",
    "    - $H_1 = \\phi(x_0 * w_{xh} + H_0 * w_{hh} + b_h)$\n",
    "    - 在第二个时间步, 对每一个神经元都输入$x_1$ = '爷'与隐藏状态$H_1$\n",
    "    - $H_2 = \\phi(x_1 * w_{xh} + H_1 * w_{hh} + b_h)$\n",
    "    - 以此类推\n",
    "    - 到最后的输出层, 计算$H_3*w_{hq} + b_{hq}$, 该值即为RNN的输出, 然后做反向传播\n",
    "    - 由上例可知, 一个神经元内的$W_{xh}$/$W_{hh}$/$b_{h}$在所有时间步上是共用的(也可以说成在隐层中的$W_{xh}$/$W_{hh}$/$b_{h}$是share的, 毕竟这三个参数是向量)\n",
    "    - 且每个神经元内各自做循环操作, 最后输出\n",
    "    - 由下式反向传播可知, 当总的时间步数较大或较小的时候, RNN的梯度容易出现衰减和爆炸。而梯度裁剪只可以解决梯度爆炸问题$$\n",
    "\\frac{\\partial L}{\\partial \\boldsymbol{h}_t} \n",
    "= \\sum_{i=t}^T {\\left(\\boldsymbol{W}_{hh}^\\top\\right)}^{T-i} \\boldsymbol{W}_{qh}^\\top \\frac{\\partial L}{\\partial \\boldsymbol{o}_{T+t-i}}.\n",
    "$$"
   ]
  },
  {
   "cell_type": "code",
   "execution_count": null,
   "metadata": {},
   "outputs": [],
   "source": []
  }
 ],
 "metadata": {
  "kernelspec": {
   "display_name": "Python 3",
   "language": "python",
   "name": "python3"
  },
  "language_info": {
   "codemirror_mode": {
    "name": "ipython",
    "version": 3
   },
   "file_extension": ".py",
   "mimetype": "text/x-python",
   "name": "python",
   "nbconvert_exporter": "python",
   "pygments_lexer": "ipython3",
   "version": "3.6.7"
  },
  "toc": {
   "base_numbering": 1,
   "nav_menu": {},
   "number_sections": true,
   "sideBar": true,
   "skip_h1_title": false,
   "title_cell": "Table of Contents",
   "title_sidebar": "Contents",
   "toc_cell": false,
   "toc_position": {
    "height": "calc(100% - 180px)",
    "left": "10px",
    "top": "150px",
    "width": "384px"
   },
   "toc_section_display": true,
   "toc_window_display": true
  },
  "varInspector": {
   "cols": {
    "lenName": 16,
    "lenType": 16,
    "lenVar": 40
   },
   "kernels_config": {
    "python": {
     "delete_cmd_postfix": "",
     "delete_cmd_prefix": "del ",
     "library": "var_list.py",
     "varRefreshCmd": "print(var_dic_list())"
    },
    "r": {
     "delete_cmd_postfix": ") ",
     "delete_cmd_prefix": "rm(",
     "library": "var_list.r",
     "varRefreshCmd": "cat(var_dic_list()) "
    }
   },
   "types_to_exclude": [
    "module",
    "function",
    "builtin_function_or_method",
    "instance",
    "_Feature"
   ],
   "window_display": false
  }
 },
 "nbformat": 4,
 "nbformat_minor": 2
}
