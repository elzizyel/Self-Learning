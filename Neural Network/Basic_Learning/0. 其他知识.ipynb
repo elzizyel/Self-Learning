{
 "cells": [
  {
   "cell_type": "markdown",
   "metadata": {},
   "source": [
    "# super(x, self).\\_\\_init\\_\\_()的用法"
   ]
  },
  {
   "cell_type": "markdown",
   "metadata": {},
   "source": [
    "直接继承父类。继承了父类的方法，但是没有继承父类的属性"
   ]
  },
  {
   "cell_type": "code",
   "execution_count": null,
   "metadata": {
    "ExecuteTime": {
     "end_time": "2020-03-31T09:32:36.229756Z",
     "start_time": "2020-03-31T09:32:36.220083Z"
    }
   },
   "outputs": [],
   "source": [
    "class Root(object):\n",
    "    def __init__(self):\n",
    "        self.x= '这是属性'\n",
    "\n",
    "    def fun(self):\n",
    "        # print(self.x)\n",
    "        print('这是方法')\n",
    "        \n",
    "class A(Root):\n",
    "    def __init__(self):\n",
    "        print('实例化时执行')\n",
    "\n",
    "test = A() #实例化类\n",
    "test.fun() #调用方法\n",
    "test.x #调用属性"
   ]
  },
  {
   "cell_type": "code",
   "execution_count": null,
   "metadata": {
    "ExecuteTime": {
     "end_time": "2020-03-31T09:32:36.635091Z",
     "start_time": "2020-03-31T09:32:36.622341Z"
    }
   },
   "outputs": [],
   "source": [
    "class Root(object):\n",
    "    def __init__(self):\n",
    "        self.x= '这是属性'\n",
    "\n",
    "    def fun(self):\n",
    "        print(self.x)\n",
    "        # print('这是方法')\n",
    "        \n",
    "class A(Root):\n",
    "    def __init__(self):\n",
    "        print('实例化时执行')\n",
    "\n",
    "test = A() #实例化类\n",
    "test.fun() #调用方法\n",
    "test.x #调用属性"
   ]
  },
  {
   "cell_type": "markdown",
   "metadata": {},
   "source": [
    "使用`super(A, self).__init__()`来继承父类的方法和属性"
   ]
  },
  {
   "cell_type": "code",
   "execution_count": null,
   "metadata": {
    "ExecuteTime": {
     "end_time": "2020-03-31T09:59:24.696177Z",
     "start_time": "2020-03-31T09:59:24.688110Z"
    }
   },
   "outputs": [],
   "source": [
    "class Root(object):\n",
    "    def __init__(self):\n",
    "        self.x= '这是属性'\n",
    "\n",
    "    def fun(self):\n",
    "        print(self.x)\n",
    "        print('这是方法')\n",
    "\n",
    "        \n",
    "class A(Root):\n",
    "    def __init__(self):\n",
    "        super(A, self).__init__()\n",
    "        print('实例化时执行')\n",
    "\n",
    "test = A() #实例化类\n",
    "test.fun() #调用方法\n",
    "test.x #调用属性"
   ]
  },
  {
   "cell_type": "code",
   "execution_count": null,
   "metadata": {},
   "outputs": [],
   "source": []
  },
  {
   "cell_type": "markdown",
   "metadata": {},
   "source": [
    "# @装饰器"
   ]
  },
  {
   "cell_type": "markdown",
   "metadata": {},
   "source": [
    "函数也是一个对象，而且函数对象可以被赋值给变量。通过变量也能调用该函数。\n",
    "而装饰器的作用，是将装饰器下定义的函数作为参数传入装饰器所@的那个函数并执行"
   ]
  },
  {
   "cell_type": "markdown",
   "metadata": {},
   "source": [
    "`funA()`的作用是print输入参数的()\n",
    "`funB()`的作用是print B并且返回1"
   ]
  },
  {
   "cell_type": "code",
   "execution_count": 101,
   "metadata": {
    "ExecuteTime": {
     "end_time": "2020-04-01T06:23:19.145232Z",
     "start_time": "2020-04-01T06:23:19.141691Z"
    }
   },
   "outputs": [
    {
     "name": "stdout",
     "output_type": "stream",
     "text": [
      "B\n",
      "1\n"
     ]
    }
   ],
   "source": [
    "def funA(fun):\n",
    "    print (fun())\n",
    "\n",
    "def funB():\n",
    "    print('B')\n",
    "    return 1\n",
    "\n",
    "funA(funB)"
   ]
  },
  {
   "cell_type": "markdown",
   "metadata": {},
   "source": [
    "而装饰器的作用，就相当于将funB作为参数传入funA，并且执行funA。其实际做的事情就与上例相同"
   ]
  },
  {
   "cell_type": "code",
   "execution_count": 100,
   "metadata": {
    "ExecuteTime": {
     "end_time": "2020-04-01T06:23:08.865552Z",
     "start_time": "2020-04-01T06:23:08.861331Z"
    }
   },
   "outputs": [
    {
     "name": "stdout",
     "output_type": "stream",
     "text": [
      "B\n",
      "1\n"
     ]
    }
   ],
   "source": [
    "def funA(fun):\n",
    "    print (fun())\n",
    "\n",
    "@funA\n",
    "def funB():\n",
    "    print('B')\n",
    "    return 1"
   ]
  },
  {
   "cell_type": "markdown",
   "metadata": {},
   "source": [
    "下例中，将funB作为参数传入funA，但是因为funA中没有涉及参数的操作。所以直接print('funA')"
   ]
  },
  {
   "cell_type": "code",
   "execution_count": 94,
   "metadata": {
    "ExecuteTime": {
     "end_time": "2020-04-01T03:52:53.797659Z",
     "start_time": "2020-04-01T03:52:53.794037Z"
    }
   },
   "outputs": [
    {
     "name": "stdout",
     "output_type": "stream",
     "text": [
      "funA\n"
     ]
    }
   ],
   "source": [
    "def funA(fun):\n",
    "    print ('funA')\n",
    "\n",
    "@funA\n",
    "def funB():\n",
    "    print('B')\n",
    "    return 1"
   ]
  },
  {
   "cell_type": "markdown",
   "metadata": {},
   "source": [
    "下例中，将funB作为参数传入funA，并且print了funB这个对象"
   ]
  },
  {
   "cell_type": "code",
   "execution_count": 99,
   "metadata": {
    "ExecuteTime": {
     "end_time": "2020-04-01T06:20:41.614546Z",
     "start_time": "2020-04-01T06:20:41.610191Z"
    }
   },
   "outputs": [
    {
     "name": "stdout",
     "output_type": "stream",
     "text": [
      "<function funB at 0x7ff800fc0730>\n"
     ]
    }
   ],
   "source": [
    "def funA(a):\n",
    "    print(a)\n",
    "\n",
    "@funA\n",
    "def funB():\n",
    "    print('B')\n",
    "    return 1"
   ]
  },
  {
   "cell_type": "markdown",
   "metadata": {},
   "source": [
    "下例中，因为funA没有可以输入的参数，所以funB无法作为参数传入funA，所以报错"
   ]
  },
  {
   "cell_type": "code",
   "execution_count": 102,
   "metadata": {
    "ExecuteTime": {
     "end_time": "2020-04-01T06:26:42.865440Z",
     "start_time": "2020-04-01T06:26:42.857831Z"
    }
   },
   "outputs": [
    {
     "ename": "TypeError",
     "evalue": "funA() takes 0 positional arguments but 1 was given",
     "output_type": "error",
     "traceback": [
      "\u001b[0;31m---------------------------------------------------------------------------\u001b[0m",
      "\u001b[0;31mTypeError\u001b[0m                                 Traceback (most recent call last)",
      "\u001b[0;32m<ipython-input-102-2f75d5ceeb12>\u001b[0m in \u001b[0;36m<module>\u001b[0;34m\u001b[0m\n\u001b[1;32m      2\u001b[0m     \u001b[0mprint\u001b[0m\u001b[0;34m(\u001b[0m\u001b[0;34m'funA'\u001b[0m\u001b[0;34m)\u001b[0m\u001b[0;34m\u001b[0m\u001b[0;34m\u001b[0m\u001b[0m\n\u001b[1;32m      3\u001b[0m \u001b[0;34m\u001b[0m\u001b[0m\n\u001b[0;32m----> 4\u001b[0;31m \u001b[0;34m@\u001b[0m\u001b[0mfunA\u001b[0m\u001b[0;34m\u001b[0m\u001b[0;34m\u001b[0m\u001b[0m\n\u001b[0m\u001b[1;32m      5\u001b[0m \u001b[0;32mdef\u001b[0m \u001b[0mfunB\u001b[0m\u001b[0;34m(\u001b[0m\u001b[0;34m)\u001b[0m\u001b[0;34m:\u001b[0m\u001b[0;34m\u001b[0m\u001b[0;34m\u001b[0m\u001b[0m\n\u001b[1;32m      6\u001b[0m     \u001b[0mprint\u001b[0m\u001b[0;34m(\u001b[0m\u001b[0;34m'B'\u001b[0m\u001b[0;34m)\u001b[0m\u001b[0;34m\u001b[0m\u001b[0;34m\u001b[0m\u001b[0m\n",
      "\u001b[0;31mTypeError\u001b[0m: funA() takes 0 positional arguments but 1 was given"
     ]
    }
   ],
   "source": [
    "def funA():\n",
    "    print('funA')\n",
    "\n",
    "@funA\n",
    "def funB():\n",
    "    print('B')\n",
    "    return 1"
   ]
  },
  {
   "cell_type": "code",
   "execution_count": null,
   "metadata": {},
   "outputs": [],
   "source": []
  },
  {
   "cell_type": "markdown",
   "metadata": {},
   "source": [
    "# yield 的用法"
   ]
  },
  {
   "cell_type": "markdown",
   "metadata": {},
   "source": [
    "yield其实相当于return, 只不过其经常用在循环当中。在循环当中, 若遇到yield, 则返回值。并且循环在当前步停止。直到你再次运行该函数, 会继续进行该循环。"
   ]
  },
  {
   "cell_type": "markdown",
   "metadata": {},
   "source": [
    "如下例所示, \n",
    "1. 因为foo()中有`yield`关键字, 所以该函数并不会直接执行, 而是会生成一个生成器g(相当于一个对象)\n",
    "2. 直到调用next()方法, foo()函数才正式开始执行。执行print后进入while循环\n",
    "3. 遇到`yield`关键字, 返回4, 程序停止。(注意这里并没有执行赋值操作)\n",
    "4. 输出20个*\n",
    "5. 再次调用next()方法, 从上次程序停止的地方开始执行。\n",
    "6. 对res赋值, 因为右侧无值, 所以res的值为None\n",
    "7. 执行print函数"
   ]
  },
  {
   "cell_type": "code",
   "execution_count": 2,
   "metadata": {
    "ExecuteTime": {
     "end_time": "2020-04-13T05:49:19.300325Z",
     "start_time": "2020-04-13T05:49:19.296438Z"
    }
   },
   "outputs": [
    {
     "name": "stdout",
     "output_type": "stream",
     "text": [
      "starting...\n",
      "4\n",
      "********************\n",
      "res: None\n",
      "4\n"
     ]
    }
   ],
   "source": [
    "def foo():\n",
    "    print(\"starting...\")\n",
    "    while True:\n",
    "        res = yield 4\n",
    "        print('res:', res)\n",
    "\n",
    "g = foo()\n",
    "print(next(g))\n",
    "print('*'*20)\n",
    "print(next(g))"
   ]
  },
  {
   "cell_type": "markdown",
   "metadata": {},
   "source": [
    "所以带`yield`的函数是一个生成器, 而不是一个函数。而这个生成器有一个`next`方法, 这一次`next`开始的地方是接着上一次的`next`停止的地方执行的。所以调用`next`方法的时候, 生成器不会直接从foo()函数的开始执行。"
   ]
  },
  {
   "cell_type": "markdown",
   "metadata": {},
   "source": [
    "如下例所示, 该方法除了`next`方法之外, 还有`send`这个方法。该方法与`next`类似, 但是其会将send()内的参数带进循环。"
   ]
  },
  {
   "cell_type": "code",
   "execution_count": 22,
   "metadata": {
    "ExecuteTime": {
     "end_time": "2020-04-13T05:59:30.860664Z",
     "start_time": "2020-04-13T05:59:30.856296Z"
    }
   },
   "outputs": [
    {
     "name": "stdout",
     "output_type": "stream",
     "text": [
      "starting...\n",
      "4\n",
      "********************\n",
      "res: 7\n",
      "4\n"
     ]
    }
   ],
   "source": [
    "def foo():\n",
    "    print(\"starting...\")\n",
    "    while True:\n",
    "        res = yield 4\n",
    "        print(\"res:\",res)\n",
    "g = foo()\n",
    "print(next(g))\n",
    "print(\"*\"*20)\n",
    "print(g.send(7))"
   ]
  },
  {
   "cell_type": "markdown",
   "metadata": {},
   "source": [
    "使用`yield`关键字, 是因为用它占用的内存会更小。如果遇到要重复输出一个对象的时候, 一般的做法是将这些对象组合到list内然后return。但是如果使用了`yield`, 则每次取用本次所需用到的对象, 而不用一次性输出一个包含所有内容的list。"
   ]
  },
  {
   "cell_type": "code",
   "execution_count": null,
   "metadata": {},
   "outputs": [],
   "source": []
  }
 ],
 "metadata": {
  "kernelspec": {
   "display_name": "Python 3",
   "language": "python",
   "name": "python3"
  },
  "language_info": {
   "codemirror_mode": {
    "name": "ipython",
    "version": 3
   },
   "file_extension": ".py",
   "mimetype": "text/x-python",
   "name": "python",
   "nbconvert_exporter": "python",
   "pygments_lexer": "ipython3",
   "version": "3.6.7"
  },
  "toc": {
   "base_numbering": 1,
   "nav_menu": {},
   "number_sections": true,
   "sideBar": true,
   "skip_h1_title": false,
   "title_cell": "Table of Contents",
   "title_sidebar": "Contents",
   "toc_cell": false,
   "toc_position": {},
   "toc_section_display": true,
   "toc_window_display": true
  },
  "varInspector": {
   "cols": {
    "lenName": 16,
    "lenType": 16,
    "lenVar": 40
   },
   "kernels_config": {
    "python": {
     "delete_cmd_postfix": "",
     "delete_cmd_prefix": "del ",
     "library": "var_list.py",
     "varRefreshCmd": "print(var_dic_list())"
    },
    "r": {
     "delete_cmd_postfix": ") ",
     "delete_cmd_prefix": "rm(",
     "library": "var_list.r",
     "varRefreshCmd": "cat(var_dic_list()) "
    }
   },
   "types_to_exclude": [
    "module",
    "function",
    "builtin_function_or_method",
    "instance",
    "_Feature"
   ],
   "window_display": false
  }
 },
 "nbformat": 4,
 "nbformat_minor": 2
}
