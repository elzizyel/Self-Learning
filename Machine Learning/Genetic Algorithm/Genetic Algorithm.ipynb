{
 "cells": [
  {
   "cell_type": "code",
   "execution_count": 1,
   "metadata": {
    "ExecuteTime": {
     "end_time": "2019-01-22T09:14:56.442444Z",
     "start_time": "2019-01-22T09:14:56.286255Z"
    }
   },
   "outputs": [],
   "source": [
    "import numpy as np\n",
    "import matplotlib.pyplot as plt"
   ]
  },
  {
   "cell_type": "markdown",
   "metadata": {},
   "source": [
    "求 `sin(10x)*x + cos(2x)*x` 在 `[-50, 50]` 范围内的最大值"
   ]
  },
  {
   "cell_type": "code",
   "execution_count": 2,
   "metadata": {
    "ExecuteTime": {
     "end_time": "2019-01-22T09:14:57.226624Z",
     "start_time": "2019-01-22T09:14:57.223339Z"
    }
   },
   "outputs": [],
   "source": [
    "# generate population\n",
    "\n",
    "def generate_pop(pop_size, chrom_length):\n",
    "    \n",
    "    pop = np.random.randint(low=0, high=2, size=(pop_size,chrom_length))\n",
    "    \n",
    "    return pop"
   ]
  },
  {
   "cell_type": "code",
   "execution_count": 3,
   "metadata": {
    "ExecuteTime": {
     "end_time": "2019-01-22T09:14:57.629258Z",
     "start_time": "2019-01-22T09:14:57.625541Z"
    }
   },
   "outputs": [],
   "source": [
    "# convert binary DNA to decimal and normalize it to a range(-50, 50)\n",
    "\n",
    "def transfer(pop, chrom_length, x_bound):\n",
    "    \n",
    "    # Transfer to decimal then normalized to [0,1]\n",
    "    decimal = pop.dot(2 ** np.arange(chrom_length)[::-1]) / float(2**chrom_length - 1)\n",
    "    \n",
    "    # normalized to the needed range\n",
    "    length = x_bound[1] - x_bound[0]\n",
    "    pop_transfered = decimal * length + x_bound[0]\n",
    "    \n",
    "    return pop_transfered"
   ]
  },
  {
   "cell_type": "code",
   "execution_count": 4,
   "metadata": {
    "ExecuteTime": {
     "end_time": "2019-01-22T09:14:58.022904Z",
     "start_time": "2019-01-22T09:14:58.019494Z"
    }
   },
   "outputs": [],
   "source": [
    "# to find the maximum of this function\n",
    "# It's target function\n",
    "\n",
    "def F(x): \n",
    "    \n",
    "    y = np.sin(10*x)*x + np.cos(2*x)*x     \n",
    "    \n",
    "    return y"
   ]
  },
  {
   "cell_type": "code",
   "execution_count": 5,
   "metadata": {
    "ExecuteTime": {
     "end_time": "2019-01-22T09:14:58.377679Z",
     "start_time": "2019-01-22T09:14:58.374681Z"
    }
   },
   "outputs": [],
   "source": [
    "# find non-zero fitness for selection\n",
    "# fitness_score is the distance between the point and the min of all points\n",
    "\n",
    "def fitness_score(y): \n",
    "    \n",
    "    # 1e-3 is to make the min point have the chance to be selected\n",
    "    fitness = y + 1e-3 - np.min(y)\n",
    "    \n",
    "    return fitness"
   ]
  },
  {
   "cell_type": "code",
   "execution_count": 6,
   "metadata": {
    "ExecuteTime": {
     "end_time": "2019-01-22T09:14:58.769308Z",
     "start_time": "2019-01-22T09:14:58.765904Z"
    }
   },
   "outputs": [],
   "source": [
    "# selection\n",
    "\n",
    "def selection(pop, fitness):    \n",
    "    \n",
    "    # Selecte all points by fitness and return the index\n",
    "    idx = np.random.choice(np.arange(len(pop)), size=len(pop), replace=True,\n",
    "                           p=fitness/fitness.sum())\n",
    "    \n",
    "    # Get the selected population\n",
    "    pop_selected = pop[idx].copy()\n",
    "    \n",
    "    return pop_selected"
   ]
  },
  {
   "cell_type": "code",
   "execution_count": 7,
   "metadata": {
    "ExecuteTime": {
     "end_time": "2019-01-22T09:14:59.204770Z",
     "start_time": "2019-01-22T09:14:59.199183Z"
    }
   },
   "outputs": [],
   "source": [
    "# crossover\n",
    "\n",
    "def crossover(pop_selected, chrom_length, cross_rate):\n",
    "    pop_crossed = list()\n",
    "    pop_tmp = pop_selected.copy()\n",
    "    \n",
    "    for parent in pop_tmp:\n",
    "        if np.random.rand() < cross_rate:\n",
    "            \n",
    "            # Randomly choose the crossover points\n",
    "            cross_points = np.random.randint(0, 2, chrom_length).astype(np.bool)\n",
    "            \n",
    "            # Randomly choose one DNA from selected population as mate \n",
    "            mate = pop_selected[int(np.random.randint(0, len(pop), size=1))].copy()\n",
    "            \n",
    "            # Crossover\n",
    "            parent[cross_points] = mate[cross_points]\n",
    "            pop_crossed.append(list(parent))\n",
    "        else:\n",
    "            pop_crossed.append(list(parent))\n",
    "            \n",
    "    return  np.array(pop_crossed)"
   ]
  },
  {
   "cell_type": "code",
   "execution_count": 8,
   "metadata": {
    "ExecuteTime": {
     "end_time": "2019-01-22T09:14:59.566614Z",
     "start_time": "2019-01-22T09:14:59.561900Z"
    }
   },
   "outputs": [],
   "source": [
    "# mutation\n",
    "\n",
    "def mutation(pop_crossed, chrom_length, mutation_rate):\n",
    "    pop_mutated = list()\n",
    "    pop_tmp = pop_crossed.copy()\n",
    "    \n",
    "    for child in pop_tmp:\n",
    "        for i in range(chrom_length):\n",
    "            if np.random.rand() < mutation_rate:\n",
    "                if child[i] == 1:\n",
    "                    child[i] = 0\n",
    "                else:\n",
    "                    child[i] = 1\n",
    "        pop_mutated.append(list(child))\n",
    "        \n",
    "    return np.array(pop_mutated)"
   ]
  },
  {
   "cell_type": "code",
   "execution_count": null,
   "metadata": {},
   "outputs": [],
   "source": []
  },
  {
   "cell_type": "code",
   "execution_count": 9,
   "metadata": {
    "ExecuteTime": {
     "end_time": "2019-01-22T09:15:01.047165Z",
     "start_time": "2019-01-22T09:15:00.675211Z"
    },
    "scrolled": true
   },
   "outputs": [
    {
     "data": {
      "image/png": "[encoded data removed]",
      "text/plain": [
       "<Figure size 432x288 with 1 Axes>"
      ]
     },
     "metadata": {
      "needs_background": "light"
     },
     "output_type": "display_data"
    }
   ],
   "source": [
    "chrom_length = 10            # DNA length\n",
    "pop_size = 100               # population size\n",
    "cross_rate = 0.8             # mating probability (DNA crossover)\n",
    "mutation_rate = 0.003        # mutation probability\n",
    "n_generations = 100\n",
    "x_bound = [-50, 50]          # x upper and lower bounds\n",
    "\n",
    "if __name__ == '__main__':\n",
    "    pop = generate_pop(pop_size, chrom_length)\n",
    "    pop_new = pop.copy()\n",
    "    tmp_ = list()\n",
    "    \n",
    "    \n",
    "    for i in range(n_generations):\n",
    "        pop_transfered = transfer(pop_new, chrom_length, x_bound)\n",
    "        y = F(pop_transfered)\n",
    "        fitness = fitness_score(y)\n",
    "        pop_selected = selection(pop_new, fitness)\n",
    "        pop_crossed = crossover(pop_selected, chrom_length, cross_rate)\n",
    "        pop_mutated = mutation(pop_crossed, chrom_length, mutation_rate)\n",
    "        pop_new = pop_mutated.copy()\n",
    "        \n",
    "        tmp_.append(max(fitness))\n",
    "    \n",
    "    # The mean of fitness per iteraion\n",
    "    plt.plot(tmp_)"
   ]
  },
  {
   "cell_type": "markdown",
   "metadata": {},
   "source": [
    "出现上图情况，就是因为当达到上限最大值之后，总会有交配或者突变使得种群的适应度下降的。\n",
    "\n",
    "所以要选择合适的限制条件, 这里的限制条件就是n_generations\n",
    "\n",
    "或者循环很多次, 然后将历届结果的最大值储存住, 完成循环之后, 那个最大值即为我们所需的值。| 最大值在一定循环次数内没有变化, 则可以停止循环"
   ]
  },
  {
   "cell_type": "code",
   "execution_count": null,
   "metadata": {},
   "outputs": [],
   "source": []
  }
 ],
 "metadata": {
  "kernelspec": {
   "display_name": "Python 3",
   "language": "python",
   "name": "python3"
  },
  "language_info": {
   "codemirror_mode": {
    "name": "ipython",
    "version": 3
   },
   "file_extension": ".py",
   "mimetype": "text/x-python",
   "name": "python",
   "nbconvert_exporter": "python",
   "pygments_lexer": "ipython3",
   "version": "3.6.6"
  },
  "toc": {
   "base_numbering": 1,
   "nav_menu": {},
   "number_sections": true,
   "sideBar": true,
   "skip_h1_title": false,
   "title_cell": "Table of Contents",
   "title_sidebar": "Contents",
   "toc_cell": false,
   "toc_position": {},
   "toc_section_display": true,
   "toc_window_display": false
  },
  "varInspector": {
   "cols": {
    "lenName": 16,
    "lenType": 16,
    "lenVar": 40
   },
   "kernels_config": {
    "python": {
     "delete_cmd_postfix": "",
     "delete_cmd_prefix": "del ",
     "library": "var_list.py",
     "varRefreshCmd": "print(var_dic_list())"
    },
    "r": {
     "delete_cmd_postfix": ") ",
     "delete_cmd_prefix": "rm(",
     "library": "var_list.r",
     "varRefreshCmd": "cat(var_dic_list()) "
    }
   },
   "types_to_exclude": [
    "module",
    "function",
    "builtin_function_or_method",
    "instance",
    "_Feature"
   ],
   "window_display": false
  }
 },
 "nbformat": 4,
 "nbformat_minor": 2
}
