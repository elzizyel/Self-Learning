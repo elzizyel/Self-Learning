{
 "cells": [
  {
   "cell_type": "code",
   "execution_count": 16,
   "metadata": {
    "ExecuteTime": {
     "end_time": "2018-12-28T01:55:01.621494Z",
     "start_time": "2018-12-28T01:55:01.616136Z"
    }
   },
   "outputs": [],
   "source": [
    "import numpy as np\n",
    "import pandas as pd\n",
    "import matplotlib.pyplot as plt\n",
    "from sklearn.cluster import SpectralClustering\n",
    "\n",
    "%matplotlib inline"
   ]
  },
  {
   "cell_type": "code",
   "execution_count": null,
   "metadata": {},
   "outputs": [],
   "source": []
  },
  {
   "cell_type": "markdown",
   "metadata": {},
   "source": [
    "### Generate Data"
   ]
  },
  {
   "cell_type": "code",
   "execution_count": 43,
   "metadata": {
    "ExecuteTime": {
     "end_time": "2018-12-28T06:17:57.928977Z",
     "start_time": "2018-12-28T06:17:56.935627Z"
    }
   },
   "outputs": [],
   "source": [
    "x = list(np.arange(0,1.01,0.01))\n",
    "y = list(np.zeros(len(x)))\n",
    "for i in range(len(x)):\n",
    "    if 0.9 <= x[i] <= 1:\n",
    "        y[i] = list(np.arange(0,np.sqrt(1 - x[i]**2),0.01))\n",
    "    else:\n",
    "        y[i] = list(np.arange(np.sqrt(0.81 - x[i]**2),np.sqrt(1 - x[i]**2),0.01))\n",
    "\n",
    "df = pd.DataFrame(columns=['x','y'])\n",
    "for i in range(len(x)):\n",
    "    for j in range(len(y[i])):\n",
    "        insert_row = pd.DataFrame([[x[i],y[i][j]]],columns=['x', 'y'])\n",
    "        df = pd.concat([df, insert_row])\n",
    "\n",
    "df1 = df.copy()\n",
    "\n",
    "df.y = -df['y']\n",
    "df2 = df.copy()\n",
    "\n",
    "df.x = -df['x']\n",
    "df3 = df.copy()\n",
    "\n",
    "df.y = -df['y']\n",
    "df4 = df.copy()\n",
    "\n",
    "circle1 = pd.concat([df1,df2,df3,df4])\n",
    "circle2 = circle1*3\n",
    "\n",
    "df = pd.concat([circle1, circle2])"
   ]
  },
  {
   "cell_type": "code",
   "execution_count": 44,
   "metadata": {
    "ExecuteTime": {
     "end_time": "2018-12-28T06:18:00.476438Z",
     "start_time": "2018-12-28T06:18:00.245966Z"
    }
   },
   "outputs": [
    {
     "data": {
      "text/plain": [
       "<matplotlib.collections.PathCollection at 0x1a37314400>"
      ]
     },
     "execution_count": 44,
     "metadata": {},
     "output_type": "execute_result"
    },
    {
     "data": {
      "image/png": "[encoded data removed]",
      "text/plain": [
       "<Figure size 432x288 with 1 Axes>"
      ]
     },
     "metadata": {
      "needs_background": "light"
     },
     "output_type": "display_data"
    }
   ],
   "source": [
    "# Plot origin dataframe\n",
    "\n",
    "plt.scatter(df.x, df.y)"
   ]
  },
  {
   "cell_type": "code",
   "execution_count": null,
   "metadata": {},
   "outputs": [],
   "source": []
  },
  {
   "cell_type": "markdown",
   "metadata": {},
   "source": [
    "### Spectral Clustring"
   ]
  },
  {
   "cell_type": "markdown",
   "metadata": {},
   "source": [
    "Paramas Intro:\n",
    "1. n_cluster: 一共聚几类，即intro里的k | 默认为8\n",
    "2. affinity: 相似矩阵S的选择 | Default为'rbf'\n",
    "3. gamma: 当相似矩阵为'RBF'时，该参数即RBF中的gamma。可用cross-validation验证哪个最佳 | Default为1\n",
    "4. eigen_solver: 用来计算矩阵特征正向量的，当样本数不大即可无视，样本数大可选用其他方法加速矩阵特征分解。 | Default为None\n",
    "5. n_init: 最后聚类使用K-means的时候用不同初始值组合跑K-means的次数。n_cluster不大时默认就好 | Default为10\n",
    "\n",
    "Params Return：<br>\n",
    "该函数直接返回对应行的所属种类的array"
   ]
  },
  {
   "cell_type": "code",
   "execution_count": 84,
   "metadata": {
    "ExecuteTime": {
     "end_time": "2018-12-28T08:40:07.532240Z",
     "start_time": "2018-12-28T08:38:04.635979Z"
    }
   },
   "outputs": [
    {
     "data": {
      "image/png": "[encoded data removed]",
      "text/plain": [
       "<Figure size 432x288 with 1 Axes>"
      ]
     },
     "metadata": {
      "needs_background": "light"
     },
     "output_type": "display_data"
    }
   ],
   "source": [
    "# 使用默认设置时跑出来的结果\n",
    "\n",
    "# 使用SpectraulClustring\n",
    "result1 = SpectralClustering().fit_predict(df)\n",
    "\n",
    "# 生成df\n",
    "df_result1 = df.copy()\n",
    "df_result1['cluster'] = result1\n",
    "\n",
    "# 画出结果\n",
    "for i in range(len(df_result1)):\n",
    "    if df_result1.iloc[i,2] == 0:\n",
    "        plt.scatter(df_result1.iloc[i,0],df_result1.iloc[i,1],c='red')\n",
    "    elif df_result1.iloc[i,2] == 1:\n",
    "        plt.scatter(df_result1.iloc[i,0],df_result1.iloc[i,1],c='orange')\n",
    "    elif df_result1.iloc[i,2] == 2:\n",
    "        plt.scatter(df_result1.iloc[i,0],df_result1.iloc[i,1],c='yellow')\n",
    "    elif df_result1.iloc[i,2] == 3:\n",
    "        plt.scatter(df_result1.iloc[i,0],df_result1.iloc[i,1],c='green')\n",
    "    elif df_result1.iloc[i,2] == 4:\n",
    "        plt.scatter(df_result1.iloc[i,0],df_result1.iloc[i,1],c='blue')\n",
    "    elif df_result1.iloc[i,2] == 5:\n",
    "        plt.scatter(df_result1.iloc[i,0],df_result1.iloc[i,1],c='cyan')\n",
    "    elif df_result1.iloc[i,2] == 6:\n",
    "        plt.scatter(df_result1.iloc[i,0],df_result1.iloc[i,1],c='violet')\n",
    "    elif df_result1.iloc[i,2] == 7:\n",
    "        plt.scatter(df_result1.iloc[i,0],df_result1.iloc[i,1],c='black')\n",
    "\n",
    "# 从结果可以看出，在默认分8类的情况下，聚类结果还是可以的\n",
    "# 我们可以尝试使用elbow method找到最佳的聚类数量"
   ]
  },
  {
   "cell_type": "code",
   "execution_count": 85,
   "metadata": {
    "ExecuteTime": {
     "end_time": "2018-12-28T08:42:14.514286Z",
     "start_time": "2018-12-28T08:40:07.749747Z"
    }
   },
   "outputs": [
    {
     "data": {
      "image/png": "[encoded data removed]",
      "text/plain": [
       "<Figure size 432x288 with 1 Axes>"
      ]
     },
     "metadata": {
      "needs_background": "light"
     },
     "output_type": "display_data"
    }
   ],
   "source": [
    "# 使用n_clusters=2\n",
    "\n",
    "result2 = SpectralClustering(n_clusters=2).fit_predict(df)\n",
    "\n",
    "df_result2 = df.copy()\n",
    "df_result2['cluster'] = result2\n",
    "\n",
    "for i in range(len(df_result2)):\n",
    "    if df_result2.iloc[i,2] == 0:\n",
    "        plt.scatter(df_result2.iloc[i,0],df_result2.iloc[i,1],c='red')\n",
    "    elif df_result2.iloc[i,2] == 1:\n",
    "        plt.scatter(df_result2.iloc[i,0],df_result2.iloc[i,1],c='orange')"
   ]
  },
  {
   "cell_type": "code",
   "execution_count": null,
   "metadata": {},
   "outputs": [],
   "source": []
  },
  {
   "cell_type": "code",
   "execution_count": null,
   "metadata": {},
   "outputs": [],
   "source": []
  },
  {
   "cell_type": "code",
   "execution_count": null,
   "metadata": {},
   "outputs": [],
   "source": []
  },
  {
   "cell_type": "markdown",
   "metadata": {},
   "source": [
    "### Elbow Method\n",
    "\n",
    "1. 选择不同的n_cluster进行聚类\n",
    "2. 对于每一次的聚类结果，都做如下操作：<br>\n",
    "    2.1 找出聚类的中心点<br>\n",
    "    2.2 计算类别内所有点到中心的距离的平方和<br>\n",
    "    2.3 将所有类别的距离平方和相加<br>\n",
    "    2.4 以上结果即为n_cluster的WCSS<br>\n",
    "3. 对不同的n_cluster的WCSS进行画图，找出最优点"
   ]
  }
 ],
 "metadata": {
  "kernelspec": {
   "display_name": "Python 3",
   "language": "python",
   "name": "python3"
  },
  "language_info": {
   "codemirror_mode": {
    "name": "ipython",
    "version": 3
   },
   "file_extension": ".py",
   "mimetype": "text/x-python",
   "name": "python",
   "nbconvert_exporter": "python",
   "pygments_lexer": "ipython3",
   "version": "3.6.6"
  },
  "toc": {
   "base_numbering": 1,
   "nav_menu": {},
   "number_sections": true,
   "sideBar": true,
   "skip_h1_title": false,
   "title_cell": "Table of Contents",
   "title_sidebar": "Contents",
   "toc_cell": false,
   "toc_position": {},
   "toc_section_display": true,
   "toc_window_display": false
  },
  "varInspector": {
   "cols": {
    "lenName": 16,
    "lenType": 16,
    "lenVar": 40
   },
   "kernels_config": {
    "python": {
     "delete_cmd_postfix": "",
     "delete_cmd_prefix": "del ",
     "library": "var_list.py",
     "varRefreshCmd": "print(var_dic_list())"
    },
    "r": {
     "delete_cmd_postfix": ") ",
     "delete_cmd_prefix": "rm(",
     "library": "var_list.r",
     "varRefreshCmd": "cat(var_dic_list()) "
    }
   },
   "oldHeight": 431,
   "position": {
    "height": "40px",
    "left": "7px",
    "right": "20px",
    "top": "116px",
    "width": "307px"
   },
   "types_to_exclude": [
    "module",
    "function",
    "builtin_function_or_method",
    "instance",
    "_Feature"
   ],
   "varInspector_section_display": "none",
   "window_display": true
  }
 },
 "nbformat": 4,
 "nbformat_minor": 2
}
