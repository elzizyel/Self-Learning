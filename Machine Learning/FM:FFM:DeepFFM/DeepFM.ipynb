{
 "cells": [
  {
   "cell_type": "markdown",
   "metadata": {},
   "source": [
    "https://deepctr-doc.readthedocs.io/en/latest/"
   ]
  },
  {
   "cell_type": "markdown",
   "metadata": {},
   "source": [
    "https://github.com/shenweichen/DeepCTR"
   ]
  },
  {
   "cell_type": "markdown",
   "metadata": {},
   "source": [
    "# Load"
   ]
  },
  {
   "cell_type": "code",
   "execution_count": 26,
   "metadata": {
    "ExecuteTime": {
     "end_time": "2020-05-20T08:38:37.375672Z",
     "start_time": "2020-05-20T08:38:37.371383Z"
    }
   },
   "outputs": [],
   "source": [
    "import numpy as np\n",
    "import pandas as pd"
   ]
  },
  {
   "cell_type": "code",
   "execution_count": 27,
   "metadata": {
    "ExecuteTime": {
     "end_time": "2020-05-20T08:38:37.632328Z",
     "start_time": "2020-05-20T08:38:37.514777Z"
    }
   },
   "outputs": [],
   "source": [
    "# Load Data\n",
    "data_origin = pd.read_csv('lgb_classify.csv')"
   ]
  },
  {
   "cell_type": "code",
   "execution_count": 28,
   "metadata": {
    "ExecuteTime": {
     "end_time": "2020-05-20T08:38:37.727139Z",
     "start_time": "2020-05-20T08:38:37.718845Z"
    }
   },
   "outputs": [],
   "source": [
    "# Create province var\n",
    "data_origin['province'] = data_origin['plate_no'].apply(lambda x:x[0])"
   ]
  },
  {
   "cell_type": "code",
   "execution_count": 29,
   "metadata": {
    "ExecuteTime": {
     "end_time": "2020-05-20T08:38:37.826287Z",
     "start_time": "2020-05-20T08:38:37.812200Z"
    }
   },
   "outputs": [],
   "source": [
    "# Selected needed X and Y\n",
    "data_origin = data_origin.iloc[:,[3,7,8,10,11,12,14,15,16,17,18,20,21,23,24,22]].copy()"
   ]
  },
  {
   "cell_type": "code",
   "execution_count": 30,
   "metadata": {
    "ExecuteTime": {
     "end_time": "2020-05-20T08:38:37.959965Z",
     "start_time": "2020-05-20T08:38:37.947957Z"
    }
   },
   "outputs": [],
   "source": [
    "# Transfer all categorical dtype into object\n",
    "data_origin['sex'] = data_origin['sex'].astype(object)"
   ]
  },
  {
   "cell_type": "markdown",
   "metadata": {},
   "source": [
    "# Model"
   ]
  },
  {
   "cell_type": "code",
   "execution_count": 128,
   "metadata": {
    "ExecuteTime": {
     "end_time": "2020-05-20T09:54:49.777075Z",
     "start_time": "2020-05-20T09:54:49.769245Z"
    }
   },
   "outputs": [],
   "source": [
    "import tensorflow as tf\n",
    "\n",
    "from deepctr.models import DeepFM\n",
    "from deepctr.inputs import SparseFeat,get_feature_names, DenseFeat\n",
    "import deepctr\n",
    "\n",
    "from sklearn.model_selection import train_test_split\n",
    "from sklearn.preprocessing import LabelEncoder,MinMaxScaler\n",
    "from sklearn.metrics import accuracy_score, roc_auc_score, confusion_matrix, roc_curve\n",
    "import matplotlib.pyplot as plt"
   ]
  },
  {
   "cell_type": "code",
   "execution_count": 51,
   "metadata": {
    "ExecuteTime": {
     "end_time": "2020-05-20T08:41:32.373728Z",
     "start_time": "2020-05-20T08:41:32.368269Z"
    }
   },
   "outputs": [],
   "source": [
    "data = data_origin.copy()\n",
    "target = 'is_return'"
   ]
  },
  {
   "cell_type": "code",
   "execution_count": 52,
   "metadata": {
    "ExecuteTime": {
     "end_time": "2020-05-20T08:41:32.596211Z",
     "start_time": "2020-05-20T08:41:32.531571Z"
    }
   },
   "outputs": [],
   "source": [
    "# 找出categorical和continuous\n",
    "def identify_cols(data, target):\n",
    "    cat_cols = []\n",
    "    con_cols = []\n",
    "    for col in data.columns:\n",
    "        if col == target:\n",
    "            pass\n",
    "        elif col in data.select_dtypes(object):\n",
    "            cat_cols.append(col)\n",
    "        else:\n",
    "            con_cols.append(col)\n",
    "    return cat_cols, con_cols\n",
    "\n",
    "sparse_features, dense_features = identify_cols(data, target)"
   ]
  },
  {
   "cell_type": "code",
   "execution_count": 53,
   "metadata": {
    "ExecuteTime": {
     "end_time": "2020-05-20T08:41:32.708134Z",
     "start_time": "2020-05-20T08:41:32.690848Z"
    }
   },
   "outputs": [],
   "source": [
    "# 对categorical做 Label Encoding\n",
    "for feat in sparse_features:\n",
    "    lbe = LabelEncoder()\n",
    "    data[feat] = lbe.fit_transform(data[feat])"
   ]
  },
  {
   "cell_type": "code",
   "execution_count": 54,
   "metadata": {
    "ExecuteTime": {
     "end_time": "2020-05-20T08:41:32.822426Z",
     "start_time": "2020-05-20T08:41:32.779237Z"
    }
   },
   "outputs": [],
   "source": [
    "# 对continuous缩放至[0,1]范围内\n",
    "mms = MinMaxScaler(feature_range=(0, 1))\n",
    "data[dense_features] = mms.fit_transform(data[dense_features])"
   ]
  },
  {
   "cell_type": "code",
   "execution_count": 58,
   "metadata": {
    "ExecuteTime": {
     "end_time": "2020-05-20T08:53:29.013607Z",
     "start_time": "2020-05-20T08:53:29.005202Z"
    }
   },
   "outputs": [],
   "source": [
    "# 对于每个categorical_var的field计算其类别数量\n",
    "# 记录每个continuous_var的field_name\n",
    "fixlen_feature_columns = [\n",
    "    SparseFeat(feat, \n",
    "               vocabulary_size=data[feat].nunique(),\n",
    "               embedding_dim=5) # embedding_dim即Dense Embedding层的k值\n",
    "    for i, feat in enumerate(sparse_features)\n",
    "] + [\n",
    "    DenseFeat(feat)\n",
    "    for feat in dense_features\n",
    "]"
   ]
  },
  {
   "cell_type": "code",
   "execution_count": 60,
   "metadata": {
    "ExecuteTime": {
     "end_time": "2020-05-20T08:54:10.667626Z",
     "start_time": "2020-05-20T08:54:10.572511Z"
    }
   },
   "outputs": [],
   "source": [
    "# 指定哪一部分feature进入dnn/linear部分\n",
    "dnn_feature_columns = fixlen_feature_columns\n",
    "linear_feature_columns = fixlen_feature_columns\n",
    "feature_names = get_feature_names(linear_feature_columns + dnn_feature_columns)"
   ]
  },
  {
   "cell_type": "code",
   "execution_count": 63,
   "metadata": {
    "ExecuteTime": {
     "end_time": "2020-05-20T08:55:31.970440Z",
     "start_time": "2020-05-20T08:55:31.945356Z"
    }
   },
   "outputs": [],
   "source": [
    "# 产生模型使用的数据\n",
    "\n",
    "train, test = train_test_split(data, test_size=0.2)\n",
    "train_model_input = {name:train[name] for name in feature_names}\n",
    "test_model_input = {name:test[name] for name in feature_names}"
   ]
  },
  {
   "cell_type": "code",
   "execution_count": 130,
   "metadata": {
    "ExecuteTime": {
     "end_time": "2020-05-20T10:01:40.257675Z",
     "start_time": "2020-05-20T10:00:20.537295Z"
    },
    "scrolled": true
   },
   "outputs": [
    {
     "name": "stdout",
     "output_type": "stream",
     "text": [
      "WARNING:tensorflow:Falling back from v2 loop because of error: Failed to find data adapter that can handle input: (<class 'dict'> containing {\"<class 'str'>\"} keys and {\"<class 'pandas.core.series.Series'>\"} values), <class 'NoneType'>\n"
     ]
    },
    {
     "name": "stderr",
     "output_type": "stream",
     "text": [
      "/home/yeenlin/.conda/envs/moey_tf2/lib/python3.6/site-packages/tensorflow_core/python/framework/indexed_slices.py:424: UserWarning: Converting sparse IndexedSlices to a dense Tensor of unknown shape. This may consume a large amount of memory.\n",
      "  \"Converting sparse IndexedSlices to a dense Tensor of unknown shape. \"\n",
      "/home/yeenlin/.conda/envs/moey_tf2/lib/python3.6/site-packages/tensorflow_core/python/framework/indexed_slices.py:424: UserWarning: Converting sparse IndexedSlices to a dense Tensor of unknown shape. This may consume a large amount of memory.\n",
      "  \"Converting sparse IndexedSlices to a dense Tensor of unknown shape. \"\n"
     ]
    },
    {
     "name": "stdout",
     "output_type": "stream",
     "text": [
      "Train on 11862 samples, validate on 2966 samples\n",
      "Epoch 1/10000\n",
      "11862/11862 - 3s - loss: 0.5746 - binary_crossentropy: 0.5745 - val_loss: 0.5314 - val_binary_crossentropy: 0.5313\n",
      "Epoch 2/10000\n",
      "11862/11862 - 3s - loss: 0.5352 - binary_crossentropy: 0.5352 - val_loss: 0.5198 - val_binary_crossentropy: 0.5198\n",
      "Epoch 3/10000\n",
      "11862/11862 - 3s - loss: 0.5255 - binary_crossentropy: 0.5254 - val_loss: 0.5181 - val_binary_crossentropy: 0.5180\n",
      "Epoch 4/10000\n",
      "11862/11862 - 3s - loss: 0.5194 - binary_crossentropy: 0.5194 - val_loss: 0.5074 - val_binary_crossentropy: 0.5074\n",
      "Epoch 5/10000\n",
      "11862/11862 - 3s - loss: 0.5143 - binary_crossentropy: 0.5143 - val_loss: 0.5043 - val_binary_crossentropy: 0.5043\n",
      "Epoch 6/10000\n",
      "11862/11862 - 3s - loss: 0.5113 - binary_crossentropy: 0.5112 - val_loss: 0.5067 - val_binary_crossentropy: 0.5067\n",
      "Epoch 7/10000\n",
      "11862/11862 - 3s - loss: 0.5058 - binary_crossentropy: 0.5057 - val_loss: 0.4995 - val_binary_crossentropy: 0.4995\n",
      "Epoch 8/10000\n",
      "11862/11862 - 3s - loss: 0.5047 - binary_crossentropy: 0.5047 - val_loss: 0.4959 - val_binary_crossentropy: 0.4959\n",
      "Epoch 9/10000\n",
      "11862/11862 - 3s - loss: 0.4989 - binary_crossentropy: 0.4989 - val_loss: 0.4952 - val_binary_crossentropy: 0.4952\n",
      "Epoch 10/10000\n",
      "11862/11862 - 3s - loss: 0.4988 - binary_crossentropy: 0.4988 - val_loss: 0.4925 - val_binary_crossentropy: 0.4925\n",
      "Epoch 11/10000\n",
      "11862/11862 - 3s - loss: 0.4955 - binary_crossentropy: 0.4955 - val_loss: 0.4991 - val_binary_crossentropy: 0.4991\n",
      "Epoch 12/10000\n",
      "11862/11862 - 3s - loss: 0.4917 - binary_crossentropy: 0.4916 - val_loss: 0.5042 - val_binary_crossentropy: 0.5042\n",
      "Epoch 13/10000\n",
      "11862/11862 - 3s - loss: 0.4907 - binary_crossentropy: 0.4906 - val_loss: 0.4897 - val_binary_crossentropy: 0.4897\n",
      "Epoch 14/10000\n",
      "11862/11862 - 3s - loss: 0.4880 - binary_crossentropy: 0.4880 - val_loss: 0.4875 - val_binary_crossentropy: 0.4875\n",
      "Epoch 15/10000\n",
      "11862/11862 - 3s - loss: 0.4841 - binary_crossentropy: 0.4841 - val_loss: 0.4890 - val_binary_crossentropy: 0.4890\n",
      "Epoch 16/10000\n",
      "11862/11862 - 3s - loss: 0.4846 - binary_crossentropy: 0.4845 - val_loss: 0.4906 - val_binary_crossentropy: 0.4906\n",
      "Epoch 17/10000\n",
      "11862/11862 - 3s - loss: 0.4793 - binary_crossentropy: 0.4792 - val_loss: 0.5072 - val_binary_crossentropy: 0.5072\n",
      "Epoch 18/10000\n",
      "11862/11862 - 3s - loss: 0.4786 - binary_crossentropy: 0.4786 - val_loss: 0.4894 - val_binary_crossentropy: 0.4894\n",
      "Epoch 19/10000\n",
      "11862/11862 - 3s - loss: 0.4769 - binary_crossentropy: 0.4769 - val_loss: 0.4865 - val_binary_crossentropy: 0.4865\n",
      "Epoch 20/10000\n",
      "11862/11862 - 3s - loss: 0.4755 - binary_crossentropy: 0.4755 - val_loss: 0.4994 - val_binary_crossentropy: 0.4994\n",
      "Epoch 21/10000\n",
      "11862/11862 - 3s - loss: 0.4714 - binary_crossentropy: 0.4714 - val_loss: 0.4916 - val_binary_crossentropy: 0.4916\n",
      "Epoch 22/10000\n",
      "11862/11862 - 3s - loss: 0.4702 - binary_crossentropy: 0.4702 - val_loss: 0.4871 - val_binary_crossentropy: 0.4870\n",
      "Epoch 23/10000\n",
      "11862/11862 - 3s - loss: 0.4680 - binary_crossentropy: 0.4679 - val_loss: 0.4963 - val_binary_crossentropy: 0.4962\n",
      "Epoch 24/10000\n",
      "11862/11862 - 3s - loss: 0.4674 - binary_crossentropy: 0.4674 - val_loss: 0.4890 - val_binary_crossentropy: 0.4889\n",
      "Epoch 25/10000\n",
      "11862/11862 - 3s - loss: 0.4660 - binary_crossentropy: 0.4659 - val_loss: 0.4879 - val_binary_crossentropy: 0.4879\n",
      "Epoch 26/10000\n",
      "11862/11862 - 3s - loss: 0.4628 - binary_crossentropy: 0.4627 - val_loss: 0.4919 - val_binary_crossentropy: 0.4918\n",
      "Epoch 27/10000\n",
      "11862/11862 - 3s - loss: 0.4588 - binary_crossentropy: 0.4588 - val_loss: 0.4914 - val_binary_crossentropy: 0.4913\n",
      "Epoch 28/10000\n",
      "11862/11862 - 3s - loss: 0.4552 - binary_crossentropy: 0.4552 - val_loss: 0.4875 - val_binary_crossentropy: 0.4874\n",
      "Epoch 29/10000\n",
      "11862/11862 - 3s - loss: 0.4553 - binary_crossentropy: 0.4552 - val_loss: 0.4892 - val_binary_crossentropy: 0.4891\n",
      "Epoch 00029: early stopping\n"
     ]
    }
   ],
   "source": [
    "# 定义模型 + 训练\n",
    "# 产生的是基于keras的模型\n",
    "model = DeepFM(\n",
    "    linear_feature_columns, \n",
    "    dnn_feature_columns,\n",
    "    task='binary', # 二分类还是回归; 可选项为'binary'/'regression'\n",
    "    dnn_hidden_units=(128, 128), # 每层的units个数。这里是两层，每层128个units\n",
    "    l2_reg_linear=1e-05, # linear部分的L2正则系数\n",
    "    l2_reg_embedding=1e-05, # Embedding部分的L2正则系数\n",
    "    l2_reg_dnn=0, # Deep部分的L2正则系数,\n",
    "    dnn_dropout=0, # Deep部分的Drop Out系数\n",
    "    dnn_activation='relu', # Deep部分的激活函数\n",
    "    dnn_use_bn=False, # Deep部分是否使用BatchNormalization\n",
    "    seed=1024\n",
    ")\n",
    "\n",
    "model.compile(\n",
    "    optimizer='adam', # 模型的优化器 | tf.keras.optimizers里的优化器小写变str\n",
    "    loss='binary_crossentropy', # 模型的损失函数 | tf.losses里的损失函数小写变str\n",
    "    metrics=['binary_crossentropy'] # 评估模型的metrics | 应用同上\n",
    ")\n",
    "# model.compile(\n",
    "#     optimizer=tf.keras.optimizers.Adam(learning_rate=0.01)\n",
    "#     loss='binary_crossentropy', # 模型的损失函数 | tf.losses里的损失函数小写变str\n",
    "#     metrics=['binary_crossentropy'] # 评估模型的metrics | 应用同上\n",
    "# )\n",
    "\n",
    "history = model.fit(\n",
    "    x=train_model_input,\n",
    "    y=train[target].values,\n",
    "    batch_size=64,\n",
    "    epochs=10000,\n",
    "    verbose=2,\n",
    "    validation_split=0.2,\n",
    "    # early_stop\n",
    "    # 自动会检测'val_loss'并根据其类型决定是增大patience次停止还是减少patience次停止\n",
    "    # patience为容忍增大/变小不动的次数范围\n",
    "    callbacks=[tf.keras.callbacks.EarlyStopping(monitor='val_loss',\n",
    "                                                patience=10, \n",
    "                                                verbose=1)] \n",
    ")"
   ]
  },
  {
   "cell_type": "code",
   "execution_count": 118,
   "metadata": {
    "ExecuteTime": {
     "end_time": "2020-05-20T09:52:06.438616Z",
     "start_time": "2020-05-20T09:52:05.803961Z"
    }
   },
   "outputs": [
    {
     "name": "stdout",
     "output_type": "stream",
     "text": [
      "WARNING:tensorflow:Falling back from v2 loop because of error: Failed to find data adapter that can handle input: (<class 'dict'> containing {\"<class 'str'>\"} keys and {\"<class 'pandas.core.series.Series'>\"} values), <class 'NoneType'>\n",
      "Accuracy:0.7693552738063124\n"
     ]
    }
   ],
   "source": [
    "# 预测 + 评估\n",
    "pred_ans = model.predict(\n",
    "    test_model_input,\n",
    "    batch_size=None, # 如果定义模型的时候使用了BN, 则这里的batch_size需要跟训练的时候保持一致。没有使用则无所谓\n",
    ")\n",
    "\n",
    "# convert result into 1/0 by 0.5 threshold\n",
    "fn = lambda x: 1 if x > 0.5 else 0\n",
    "ypred = [fn(x) for x in pred_ans]\n",
    "\n",
    "# Accuracy in test set\n",
    "accuracy = accuracy_score(test[target].values,ypred)\n",
    "print('Accuracy:{}'.format(accuracy))"
   ]
  },
  {
   "cell_type": "code",
   "execution_count": 126,
   "metadata": {
    "ExecuteTime": {
     "end_time": "2020-05-20T09:54:02.298100Z",
     "start_time": "2020-05-20T09:54:01.661813Z"
    }
   },
   "outputs": [
    {
     "data": {
      "image/png": "[encoded data removed]",
      "text/plain": [
       "<Figure size 432x288 with 2 Axes>"
      ]
     },
     "metadata": {
      "needs_background": "light"
     },
     "output_type": "display_data"
    },
    {
     "data": {
      "image/png": "[encoded data removed]",
      "text/plain": [
       "<Figure size 432x288 with 2 Axes>"
      ]
     },
     "metadata": {
      "needs_background": "light"
     },
     "output_type": "display_data"
    }
   ],
   "source": [
    "# Confusion-Matrix\n",
    "\n",
    "def plot_confusion_matrix(y_true, y_pred, classes,\n",
    "                          normalize=False,\n",
    "                          title=None,\n",
    "                          cmap=plt.cm.Blues):\n",
    "    \"\"\"\n",
    "    This function prints and plots the confusion matrix.\n",
    "    Normalization can be applied by setting `normalize=True`.\n",
    "    \"\"\"\n",
    "    if not title:\n",
    "        if normalize:\n",
    "            title = 'Normalized confusion matrix'\n",
    "        else:\n",
    "            title = 'Confusion matrix, without normalization'\n",
    "\n",
    "    # Compute confusion matrix\n",
    "    cm = confusion_matrix(y_true, y_pred, labels=classes)\n",
    "    if normalize:\n",
    "        cm = cm.astype('float') / cm.sum(axis=1)[:, np.newaxis]\n",
    "\n",
    "    fig, ax = plt.subplots()\n",
    "    im = ax.imshow(cm, interpolation='nearest', cmap=cmap)\n",
    "    ax.figure.colorbar(im, ax=ax)\n",
    "    # We want to show all ticks...\n",
    "    ax.set(xticks=np.arange(cm.shape[1]),\n",
    "           yticks=np.arange(cm.shape[0]),\n",
    "           # ... and label them with the respective list entries\n",
    "           xticklabels=classes, yticklabels=classes,\n",
    "           title=title,\n",
    "           ylabel='True label',\n",
    "           xlabel='Predicted label')\n",
    "\n",
    "    # Rotate the tick labels and set their alignment.\n",
    "    plt.setp(ax.get_xticklabels(), rotation=45, ha=\"right\",\n",
    "             rotation_mode=\"anchor\")\n",
    "\n",
    "    # Loop over data dimensions and create text annotations.\n",
    "    fmt = '.2f' if normalize else 'd'\n",
    "    thresh = cm.max() / 2.\n",
    "    for i in range(cm.shape[0]):\n",
    "        for j in range(cm.shape[1]):\n",
    "            ax.text(j, i, format(cm[i, j], fmt),\n",
    "                    ha=\"center\", va=\"center\",\n",
    "                    color=\"white\" if cm[i, j] > thresh else \"black\")\n",
    "    fig.tight_layout()\n",
    "    return ax\n",
    "\n",
    "classes=[0,1] # Y的类别\n",
    "plot_confusion_matrix(test[target].values, ypred, classes, normalize=False)\n",
    "plot_confusion_matrix(test[target].values, ypred, classes, normalize=True)\n",
    "plt.show()"
   ]
  },
  {
   "cell_type": "code",
   "execution_count": 129,
   "metadata": {
    "ExecuteTime": {
     "end_time": "2020-05-20T09:54:52.408685Z",
     "start_time": "2020-05-20T09:54:52.126255Z"
    }
   },
   "outputs": [
    {
     "data": {
      "image/png": "[encoded data removed]",
      "text/plain": [
       "<Figure size 432x288 with 1 Axes>"
      ]
     },
     "metadata": {
      "needs_background": "light"
     },
     "output_type": "display_data"
    }
   ],
   "source": [
    "# AUC Plot\n",
    "\n",
    "def plot_auc(y_true, y_pred):\n",
    "    fpr, tpr, _ = roc_curve(y_true, y_pred)\n",
    "    auc = roc_auc_score(y_true,y_pred)\n",
    "    plt.plot(fpr, tpr,label = 'AUC = {:1.5f}'.format(auc))\n",
    "    plt.legend(loc = 4)\n",
    "    plt.plot([0,1],[0,1],'r--')\n",
    "    plt.title('AUC of LightGBM')\n",
    "    plt.xlabel('True Positive Rate')\n",
    "    plt.ylabel('False Positive Rate')\n",
    "    plt.show()\n",
    "\n",
    "plot_auc(test[target].values, ypred)"
   ]
  },
  {
   "cell_type": "code",
   "execution_count": 131,
   "metadata": {
    "ExecuteTime": {
     "end_time": "2020-05-20T10:08:02.978727Z",
     "start_time": "2020-05-20T10:08:02.974539Z"
    }
   },
   "outputs": [],
   "source": [
    "# 使用该包除了DeepFM还有很多DeepCTR的模型。\n",
    "# 可以后续再尝试。"
   ]
  },
  {
   "cell_type": "code",
   "execution_count": 134,
   "metadata": {
    "ExecuteTime": {
     "end_time": "2020-05-20T10:12:22.058923Z",
     "start_time": "2020-05-20T10:12:22.052251Z"
    }
   },
   "outputs": [
    {
     "data": {
      "text/plain": [
       "dict"
      ]
     },
     "execution_count": 134,
     "metadata": {},
     "output_type": "execute_result"
    }
   ],
   "source": [
    "type(train_model_input)"
   ]
  }
 ],
 "metadata": {
  "kernelspec": {
   "display_name": "Python 3",
   "language": "python",
   "name": "python3"
  },
  "language_info": {
   "codemirror_mode": {
    "name": "ipython",
    "version": 3
   },
   "file_extension": ".py",
   "mimetype": "text/x-python",
   "name": "python",
   "nbconvert_exporter": "python",
   "pygments_lexer": "ipython3",
   "version": "3.6.10"
  },
  "toc": {
   "base_numbering": 1,
   "nav_menu": {},
   "number_sections": true,
   "sideBar": true,
   "skip_h1_title": false,
   "title_cell": "Table of Contents",
   "title_sidebar": "Contents",
   "toc_cell": false,
   "toc_position": {},
   "toc_section_display": true,
   "toc_window_display": false
  },
  "varInspector": {
   "cols": {
    "lenName": 16,
    "lenType": 16,
    "lenVar": 40
   },
   "kernels_config": {
    "python": {
     "delete_cmd_postfix": "",
     "delete_cmd_prefix": "del ",
     "library": "var_list.py",
     "varRefreshCmd": "print(var_dic_list())"
    },
    "r": {
     "delete_cmd_postfix": ") ",
     "delete_cmd_prefix": "rm(",
     "library": "var_list.r",
     "varRefreshCmd": "cat(var_dic_list()) "
    }
   },
   "types_to_exclude": [
    "module",
    "function",
    "builtin_function_or_method",
    "instance",
    "_Feature"
   ],
   "window_display": false
  },
  "pycharm": {
   "stem_cell": {
    "cell_type": "raw",
    "source": [],
    "metadata": {
     "collapsed": false
    }
   }
  }
 },
 "nbformat": 4,
 "nbformat_minor": 4
}