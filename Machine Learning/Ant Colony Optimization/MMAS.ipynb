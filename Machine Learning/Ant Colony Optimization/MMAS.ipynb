{
 "cells": [
  {
   "cell_type": "code",
   "execution_count": 1,
   "metadata": {
    "ExecuteTime": {
     "end_time": "2019-02-28T11:46:34.102743Z",
     "start_time": "2019-02-28T11:46:33.698594Z"
    }
   },
   "outputs": [],
   "source": [
    "import numpy as np\n",
    "import pandas as pd\n",
    "import random\n",
    "from math import sqrt\n",
    "import matplotlib.pyplot as plt"
   ]
  },
  {
   "cell_type": "code",
   "execution_count": 2,
   "metadata": {
    "ExecuteTime": {
     "end_time": "2019-02-28T11:46:34.125784Z",
     "start_time": "2019-02-28T11:46:34.104338Z"
    }
   },
   "outputs": [],
   "source": [
    "class MASS:\n",
    "    def __init__(self, ant_count=51, q=100, alpha=1, beta=3, rho=0.98, itr=2000,\n",
    "                 fdc=40, p_best=0.005, delta=0.5, pts=300):\n",
    "        \n",
    "        self.ant_count = ant_count      # 蚂蚁数量 | 建议和城市数相同\n",
    "        self.q = q                      # 更新信息素所用参数 | 即 1/f(s^opt)中的 1/f(x)\n",
    "        self.alpha = alpha              \n",
    "        self.beta = beta\n",
    "\n",
    "        self.itr = itr                  # 循环次数\n",
    "        self.Shortest = float('inf')    # 最短路径\n",
    "        self.BestTour = []              # 最短旅程\n",
    "        self.ant_list = []              \n",
    "        \n",
    "        self.fdc = fdc                  # FDC Analysis | 查找离目前城市最近的多少个城市 | 来决定是否使用概率选择城市\n",
    "        self.rho = rho                  # 1-rho 即政法系数\n",
    "        self.tau_max = 99999            # 最大信息素值\n",
    "        self.tau_min = 0                # 最小信息素值\n",
    "        self.p_best = p_best            # 用于计算最小信息素值\n",
    "        \n",
    "        # PTS步骤用的参数\n",
    "        self.delta = delta              # PTS参数\n",
    "        self.pts = pts                  # 当MASS循环pts次最佳结果没改变, 则启用一次PTS\n",
    "        self.pts_count = 0              # 用于计数多少次最佳结果没改变\n",
    "  \n",
    "    \n",
    "    \n",
    "    def ReadCityInfo(self, fileName):\n",
    "        \n",
    "        # 返回N/x/y的df | 第N个城市的坐标为(x,y)\n",
    "        city_info = pd.read_csv(fileName,\n",
    "                                sep=' ',\n",
    "                                skiprows=6, skipfooter=1,\n",
    "                                engine='python',\n",
    "                                header=None,\n",
    "                                names=('N', 'x', 'y'))\n",
    "        \n",
    "        # 城市数量\n",
    "        self.city_count = city_info.shape[0]\n",
    "        \n",
    "        # 初始化城市间距离\n",
    "        self.city_distance = np.zeros(\n",
    "            (self.city_count, self.city_count))\n",
    "        \n",
    "        # 根据tau_max初始化路径间信息素\n",
    "        self.pheromone = [\n",
    "            [self.tau_max] * self.city_count for i in range(self.city_count)]\n",
    "\n",
    "        # 计算城市间距离 | 设置一个节点到自己的信息素为0\n",
    "        for row in city_info.index:\n",
    "            for col in city_info.index:\n",
    "                if row != col:\n",
    "                    distance = sqrt(pow(city_info.x[row] - city_info.x[col], 2) + pow(city_info.y[row] - city_info.y[col], 2))\n",
    "                    self.city_distance[row][col] = distance  # 可用[row, col]索引\n",
    "                else:\n",
    "                    self.pheromone[row][col] = 0\n",
    "                    \n",
    "        # 一个城市到其他城市的距离从小到大排序的索引 | 用于FDC\n",
    "        self.city_nearest = self.city_distance.argsort()  \n",
    "        \n",
    "        # 改变城市间距离形式至列表\n",
    "        self.city_distance = self.city_distance.tolist()\n",
    "        \n",
    "        # 城市个数为N时, 则为[0,1,2,...,N-1]\n",
    "        self.city_list = city_info.index\n",
    "        \n",
    "        # 用于画图\n",
    "        self.city_info = city_info\n",
    "        \n",
    "        \n",
    "        \n",
    "        \n",
    "    def UpdatePheromoneTrail(self, mode):\n",
    "        \n",
    "        if mode == 'gb':\n",
    "            ant = self.global_best_ant\n",
    "        if mode == 'ib':\n",
    "            ant = self.itr_best_ant\n",
    "        pheromone_new = self.q / ant.curr_len\n",
    "        tour = ant.tabu_city_list\n",
    "        citys = self.city_list\n",
    "        \n",
    "        # 信息素蒸发\n",
    "        for c1 in citys:\n",
    "            for c2 in citys:\n",
    "                if c1 != c2:\n",
    "                    self.pheromone[c1][c2] *= self.rho\n",
    "        \n",
    "        # 信息素更新\n",
    "        for ind1, ind2 in zip(tour[:-1], tour[1:]):\n",
    "            self.pheromone[ind1][ind2] += pheromone_new\n",
    "            self.pheromone[ind2][ind1] += pheromone_new\n",
    "        \n",
    "        # 最大最小信息素\n",
    "        self.tau_max = (1 / (1 - self.rho)) * pheromone_new\n",
    "        self.tau_min = (self.tau_max * (1 - pow(self.p_best, 1 / self.city_count))) / (((self.city_count / 2) - 1) * pow(self.p_best, 1 / self.city_count))\n",
    "        for c1 in citys:\n",
    "            for c2 in citys:\n",
    "                if c1 != c2:\n",
    "                    if self.pheromone[c1][c2] > self.tau_max:\n",
    "                        self.pheromone[c1][c2] = self.tau_max\n",
    "                    if self.pheromone[c1][c2] < self.tau_min:\n",
    "                        self.pheromone[c1][c2] = self.tau_min\n",
    "        \n",
    "                        \n",
    "                    \n",
    "                    \n",
    "    def PutAnts(self):\n",
    "        self.ant_list.clear()\n",
    "        for antNum in range(self.ant_count):\n",
    "            init_city = random.choice(self.city_list)\n",
    "            ant = ANT(init_city, self.city_list,\n",
    "                      self.city_distance, self.pheromone,\n",
    "                      self.city_nearest, self.fdc)\n",
    "            self.ant_list.append(ant)    \n",
    "            \n",
    "            \n",
    "            \n",
    "            \n",
    "    def Search(self):\n",
    "        self.global_best_ant = None\n",
    "        pts_best = float('inf')\n",
    "        \n",
    "        for i in range(self.itr):\n",
    "            self.itr_best_ant = None\n",
    "            itr_best_len = float('inf')\n",
    "            \n",
    "            self.PutAnts()\n",
    "            for ant in self.ant_list:\n",
    "                for _ in range(self.city_count):\n",
    "                    ant.MoveToNextCity(self.alpha, self.beta, self.fdc)\n",
    "                ant.TwoOptSearch()\n",
    "                ant.UpdatePathLen()\n",
    "                if ant.curr_len < itr_best_len:\n",
    "                    self.itr_best_ant = ant\n",
    "                    itr_best_len = ant.curr_len\n",
    "                    \n",
    "            if itr_best_len < self.Shortest:\n",
    "                self.global_best_ant = self.itr_best_ant\n",
    "                self.Shortest = self.itr_best_ant.curr_len\n",
    "                self.BestTour = self.itr_best_ant.tabu_city_list\n",
    "            \n",
    "            # 每十次用global_best更新一次信息素 | 可变更\n",
    "            if i % 10 == 0:\n",
    "                mode = 'gb'\n",
    "            else:\n",
    "                mode = 'ib'\n",
    "            self.UpdatePheromoneTrail(mode)\n",
    "            \n",
    "            \n",
    "            # 假设pts次最佳结果没有更新, 则启用一次PTS | 理论上应该放UpdatePheromoneTrail里面, 懒得改了\n",
    "            if pts_best == self.Shortest:\n",
    "                self.pts_count += 1\n",
    "                if self.pts_count == self.pts:\n",
    "                    self.pts_count = 0\n",
    "                    for c1 in self.city_list:\n",
    "                        for c2 in self.city_list:\n",
    "                            if c1 != c2:\n",
    "                                self.pheromone[c1][c2] += self.delta * (self.tau_max - self.pheromone[c1][c2])\n",
    "            else:\n",
    "                pts_best = self.Shortest\n",
    "                self.pts_count = 0\n",
    "            \n",
    "            \n",
    "            \n",
    "            \n",
    "            \n",
    "            # 每100次循环输出一次目前最佳结果\n",
    "            if i % 100 == 0:\n",
    "                print ('The {}th time best distance is {}'.format(i, self.Shortest))  \n",
    "\n",
    "    \n",
    "    \n",
    "    def draw_tour(self):\n",
    "        for ind1, ind2 in zip(self.global_best_ant.tabu_city_list[:-1], self.global_best_ant.tabu_city_list[1:]):\n",
    "            plt.plot([self.city_info.x[ind1], self.city_info.x[ind2]], [self.city_info.y[ind1], self.city_info.y[ind2]], c = 'grey')\n",
    "            plt.scatter([self.city_info.x[ind1], self.city_info.x[ind2]], [self.city_info.y[ind1], self.city_info.y[ind2]], c = 'red')"
   ]
  },
  {
   "cell_type": "code",
   "execution_count": 3,
   "metadata": {
    "ExecuteTime": {
     "end_time": "2019-02-28T11:46:34.143854Z",
     "start_time": "2019-02-28T11:46:34.129121Z"
    }
   },
   "outputs": [],
   "source": [
    "class ANT:\n",
    "    def __init__(self, init_city=None, citys=None, city_distance=None, pheromo=None, cityNear=None, fdc=None):\n",
    "        \n",
    "        self.init_city = init_city\n",
    "        self.tabu_city_list = [init_city, ]\n",
    "        self.allow_city_set = set(citys)\n",
    "        self.allow_city_set.remove(init_city)\n",
    "        self.city_distance = city_distance\n",
    "        self.pheromone = pheromo\n",
    "        self.city_nearest = cityNear\n",
    "        self.transfer_prob_list = []\n",
    "        self.curr_city = init_city\n",
    "        self.curr_len = 0\n",
    "        \n",
    "        \n",
    "        self.fdc = fdc\n",
    "\n",
    "        \n",
    "        \n",
    "        \n",
    "    def SelectNextCity(self, alpha, beta, fdc):\n",
    "\n",
    "        if len(self.allow_city_set) == 0:\n",
    "            return self.init_city\n",
    "        near = self.city_nearest[self.curr_city]\n",
    "        ANset = self.allow_city_set & set(near[1:fdc]) # 可供行走的城市 交 离目前所在城市最近的fdc个城市 | 这步去掉对结果影响？\n",
    "        if ANset: # 假设这样的城市存在, 则对所有的城市进行一次概率计算\n",
    "            sum_prob = 0\n",
    "            self.transfer_prob_list = []\n",
    "            for city in self.allow_city_set:\n",
    "                sum_prob = sum_prob + (\n",
    "                    pow(self.pheromone[self.curr_city][city], alpha) *\n",
    "                    pow(1.0 /\n",
    "                        self.city_distance[self.curr_city][city], beta)\n",
    "                )\n",
    "                transfer_prob = sum_prob\n",
    "                self.transfer_prob_list.append(\n",
    "                    (city, transfer_prob))\n",
    "            threshold = sum_prob * random.random()\n",
    "            for city_ind, city_prob in self.transfer_prob_list:\n",
    "                if threshold <= city_prob:\n",
    "                    return (city_ind)\n",
    "        else:    # 如果最近的fdc个城市不在可供行走的城市里, 则在之后的城市里面, 找一个离现在城市最近的且在可供行走的城市里的当做下一个城市\n",
    "            for city in near[1:]:\n",
    "                if city in self.allow_city_set:\n",
    "                    return city\n",
    "\n",
    "                \n",
    "                \n",
    "    def MoveToNextCity(self, alpha, beta, fdc):\n",
    "        '''\n",
    "        对于有0返回值的if语句不能使用if x: ... 判断\n",
    "        '''\n",
    "        next_city = self.SelectNextCity(alpha, beta, fdc)\n",
    "        self.curr_city = next_city\n",
    "        self.tabu_city_list.append(next_city)\n",
    "        self.allow_city_set -= set([next_city])\n",
    "\n",
    "            \n",
    "            \n",
    "    def UpdatePathLen(self):\n",
    "        for city, next_city in zip(self.tabu_city_list[:-1],\n",
    "                                  self.tabu_city_list[1:]):\n",
    "            self.curr_len = self.curr_len + self.city_distance[city][next_city]\n",
    "\n",
    "        \n",
    "        \n",
    "        \n",
    "        \n",
    "        \n",
    "    def TwoOptSearch(self):\n",
    "        '''\n",
    "        1-2-3-4, 1-2 + 3-4 > 1-3 + 2-4 则交换\n",
    "        '''\n",
    "        city_num = len(self.tabu_city_list)\n",
    "        \n",
    "        best_improve = 0\n",
    "        record = None\n",
    "        \n",
    "        for i in range(city_num):\n",
    "            for j in range(city_num - 1, i, -1):\n",
    "                if j - i >= 3:\n",
    "                    if city_num - i >= 4:\n",
    "                        \n",
    "                        pre_city1 = self.tabu_city_list[i]\n",
    "                        pre_city2 = self.tabu_city_list[i + 1]\n",
    "                        fol_city1 = self.tabu_city_list[j]\n",
    "                        fol_city2 = self.tabu_city_list[j - 1]\n",
    "                        \n",
    "                        new_len = self.city_distance[pre_city1][fol_city2] + self.city_distance[pre_city2][fol_city1]\n",
    "                        old_len = self.city_distance[pre_city1][pre_city2] + self.city_distance[fol_city2][fol_city1]\n",
    "                        \n",
    "                        if old_len - new_len > best_improve:\n",
    "                            record = (i,j)\n",
    "                            best_improve = old_len - new_len\n",
    "                            \n",
    "        if record:               \n",
    "            i,j = record\n",
    "            self.tabu_city_list[i+1:j] = self.tabu_city_list[j-1:i:-1]\n",
    "                        \n",
    "                        \n",
    "                        "
   ]
  },
  {
   "cell_type": "code",
   "execution_count": 4,
   "metadata": {
    "ExecuteTime": {
     "end_time": "2019-02-28T11:46:34.148610Z",
     "start_time": "2019-02-28T11:46:34.146155Z"
    }
   },
   "outputs": [],
   "source": [
    "aco = MASS()"
   ]
  },
  {
   "cell_type": "code",
   "execution_count": 5,
   "metadata": {
    "ExecuteTime": {
     "end_time": "2019-02-28T11:46:34.279954Z",
     "start_time": "2019-02-28T11:46:34.150034Z"
    }
   },
   "outputs": [],
   "source": [
    "aco.ReadCityInfo('eil51.tsp')"
   ]
  },
  {
   "cell_type": "code",
   "execution_count": 6,
   "metadata": {
    "ExecuteTime": {
     "end_time": "2019-02-28T11:49:52.343291Z",
     "start_time": "2019-02-28T11:46:34.281253Z"
    },
    "scrolled": true
   },
   "outputs": [
    {
     "name": "stdout",
     "output_type": "stream",
     "text": [
      "The 0th time best distance is 646.5943817039912\n",
      "The 100th time best distance is 498.043790422388\n",
      "The 200th time best distance is 455.9175149126286\n",
      "The 300th time best distance is 430.3956561252583\n",
      "The 400th time best distance is 429.53028334169977\n",
      "The 500th time best distance is 429.53028334169977\n",
      "The 600th time best distance is 429.53028334169977\n",
      "The 700th time best distance is 429.53028334169977\n",
      "The 800th time best distance is 429.53028334169977\n",
      "The 900th time best distance is 429.53028334169977\n",
      "The 1000th time best distance is 429.53028334169977\n",
      "The 1100th time best distance is 429.53028334169977\n",
      "The 1200th time best distance is 429.53028334169977\n",
      "The 1300th time best distance is 428.87175639203394\n",
      "The 1400th time best distance is 428.87175639203394\n",
      "The 1500th time best distance is 428.87175639203394\n",
      "The 1600th time best distance is 428.87175639203394\n",
      "The 1700th time best distance is 428.87175639203394\n",
      "The 1800th time best distance is 428.87175639203394\n",
      "The 1900th time best distance is 428.87175639203394\n"
     ]
    }
   ],
   "source": [
    "aco.Search()"
   ]
  },
  {
   "cell_type": "code",
   "execution_count": 7,
   "metadata": {
    "ExecuteTime": {
     "end_time": "2019-02-28T11:49:52.675388Z",
     "start_time": "2019-02-28T11:49:52.344791Z"
    }
   },
   "outputs": [
    {
     "data": {
      "image/png": "[encoded data removed]",
      "text/plain": [
       "<Figure size 432x288 with 1 Axes>"
      ]
     },
     "metadata": {
      "needs_background": "light"
     },
     "output_type": "display_data"
    }
   ],
   "source": [
    "aco.draw_tour()"
   ]
  },
  {
   "cell_type": "markdown",
   "metadata": {},
   "source": [
    "**参数设置:**\n",
    "- 每pts=1000次结果没有进步跑一次$\\delta=0.7$的PTS\n",
    "- 每十次用一次global_best更新信息素, 其他时候都用iteration_best更新 |  没有体现在参数里\n",
    "- FDC=40 | 最近的40个城市里在可行城市列表里, 则通过概率选择下一个去的城市 |  不在列表里则直接选最近的城市\n",
    "- $\\rho=0.98$ |   $1-\\rho$即蒸发系数\n",
    "- $\\alpha=1$  $\\beta=3$ |  计算下一个走的城市的概率所用系数"
   ]
  },
  {
   "cell_type": "markdown",
   "metadata": {},
   "source": [
    "目前eil51.tsp的最优解为426\n",
    "我所用的蚁群算法一般会在前500-600次, 在427-428之间停滞住。\n",
    "理论上运气好的话能搜索到最优解"
   ]
  }
 ],
 "metadata": {
  "kernelspec": {
   "display_name": "Python 3",
   "language": "python",
   "name": "python3"
  },
  "language_info": {
   "codemirror_mode": {
    "name": "ipython",
    "version": 3
   },
   "file_extension": ".py",
   "mimetype": "text/x-python",
   "name": "python",
   "nbconvert_exporter": "python",
   "pygments_lexer": "ipython3",
   "version": "3.6.6"
  },
  "toc": {
   "base_numbering": 1,
   "nav_menu": {},
   "number_sections": true,
   "sideBar": true,
   "skip_h1_title": false,
   "title_cell": "Table of Contents",
   "title_sidebar": "Contents",
   "toc_cell": false,
   "toc_position": {},
   "toc_section_display": true,
   "toc_window_display": false
  },
  "varInspector": {
   "cols": {
    "lenName": 16,
    "lenType": 16,
    "lenVar": 40
   },
   "kernels_config": {
    "python": {
     "delete_cmd_postfix": "",
     "delete_cmd_prefix": "del ",
     "library": "var_list.py",
     "varRefreshCmd": "print(var_dic_list())"
    },
    "r": {
     "delete_cmd_postfix": ") ",
     "delete_cmd_prefix": "rm(",
     "library": "var_list.r",
     "varRefreshCmd": "cat(var_dic_list()) "
    }
   },
   "types_to_exclude": [
    "module",
    "function",
    "builtin_function_or_method",
    "instance",
    "_Feature"
   ],
   "window_display": false
  }
 },
 "nbformat": 4,
 "nbformat_minor": 2
}
