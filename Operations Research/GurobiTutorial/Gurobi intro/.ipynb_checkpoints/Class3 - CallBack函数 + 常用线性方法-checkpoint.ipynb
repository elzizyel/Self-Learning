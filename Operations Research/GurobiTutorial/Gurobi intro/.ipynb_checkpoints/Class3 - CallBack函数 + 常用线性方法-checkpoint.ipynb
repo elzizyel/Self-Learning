{
 "cells": [
  {
   "cell_type": "markdown",
   "metadata": {},
   "source": [
    "## CallBack"
   ]
  },
  {
   "cell_type": "markdown",
   "metadata": {},
   "source": [
    "CallBack功能，允许用户在**求解过程中**，获取信息、终止优化、加入额外约束条件、加入自己开发的算法等\n",
    "\n",
    "且Callback函数使用时需要注意两个重要参数:\n",
    "1. where: 回调函数的触发节点\n",
    "2. what: 获取何种信息, what能获取什么取决于当前CallBack的where。(比如在轮询回调POLLING阶段，什么信息都无法获得)\n",
    "\n",
    "定义CallBack函数: def 函数名(model, where):...\n",
    "\n",
    "调用CallBack函数: m.optimize(CallBack函数名)"
   ]
  },
  {
   "cell_type": "markdown",
   "metadata": {},
   "source": [
    "以下为简单的可用where，可用的what太多，暂不列出; 具体参见refman.pdf - page817"
   ]
  },
  {
   "cell_type": "markdown",
   "metadata": {
    "ExecuteTime": {
     "end_time": "2020-02-26T07:12:42.570474Z",
     "start_time": "2020-02-26T07:12:42.566757Z"
    }
   },
   "source": [
    "|where|数值|优化器状态|\n",
    "|:-|:-|:-|\n",
    "|POLLING|0|轮询回调|\n",
    "|PRESOLVE|1|预处理|\n",
    "|SIMPLEX|2|单纯形|\n",
    "|MIP|3|当前MIP|\n",
    "|MIPSOL|4|发现新的MIP解|\n",
    "|MIPNODE|5|当前探索节点|\n",
    "|MESSAGE|6|打印出Log信息|\n",
    "|BARRIER|7|当前内点法|\n",
    "|MULTIOBJ|8|当前多目标|"
   ]
  },
  {
   "cell_type": "markdown",
   "metadata": {},
   "source": [
    "### CallBack + RINS heuristic Example"
   ]
  },
  {
   "cell_type": "markdown",
   "metadata": {},
   "source": [
    "**最大割问题**\n",
    "\n",
    "   \n",
    "  假设图中线段都被赋予了权重，希望找到一个方案将顶点分成两个子集(即为m,n)，使得属于不同子集点的连线权重和最大。例如图中的方案m={A,E,C}; n={B,D}，权重总和=AB+BE+BC+CD+ED"
   ]
  },
  {
   "cell_type": "markdown",
   "metadata": {},
   "source": [
    "<img src=\"class3_pic1.jpg\" style=\"zoom:50%\">"
   ]
  },
  {
   "cell_type": "markdown",
   "metadata": {},
   "source": [
    "- 参数\n",
    "    - $C_{ij}$ 为 线段ij的权重，N顶点数量\n",
    "- 变量\n",
    "    - $x_i = 1$, if $i \\in m$ or $x_i = -1$, if $i \\in n$\n",
    "    - 即当$x_i=1$时，顶点i属于集合m\n",
    "    - 即当$x_i=-1$时，顶点i属于集合n\n",
    "- 目标函数\n",
    "    - max{$\\frac{1}{4} \\sum_{i=1}^{N} \\sum_{j=1}^{N} C_{ij}(1 - x_i x_j)$}\n",
    "    - 上式的$\\frac{1}{4}$是因为当ij为不同集合时，$(1 - x_i x_j)$系数为2; 并且ij和ji都算了一次，所以需要乘上$\\frac{1}{4}$使得其合理\n",
    "- 约束\n",
    "    - $x_i \\in \\{-1, 1\\}$\n",
    "    - 因为Gurobi没有[-1,1]这样的变量，所以需要做一个处理\n",
    "        - $x = 2y - 1$ 且 y为binary"
   ]
  },
  {
   "cell_type": "code",
   "execution_count": 106,
   "metadata": {
    "ExecuteTime": {
     "end_time": "2020-02-26T09:33:18.247288Z",
     "start_time": "2020-02-26T09:33:18.183719Z"
    },
    "scrolled": true
   },
   "outputs": [
    {
     "name": "stdout",
     "output_type": "stream",
     "text": [
      "Gurobi Optimizer version 9.0.0 build v9.0.0rc2 (mac64)\n",
      "Optimize a model with 10 rows, 20 columns and 20 nonzeros\n",
      "Model fingerprint: 0x6c29a9f9\n",
      "Model has 54 quadratic objective terms\n",
      "Variable types: 0 continuous, 20 integer (10 binary)\n",
      "Coefficient statistics:\n",
      "  Matrix range     [1e+00, 2e+00]\n",
      "  Objective range  [0e+00, 0e+00]\n",
      "  QObjective range [2e+00, 1e+02]\n",
      "  Bounds range     [1e+00, 1e+00]\n",
      "  RHS range        [1e+00, 1e+00]\n",
      "Found heuristic solution: objective -0.0000000\n",
      "Presolve removed 10 rows and 10 columns\n",
      "Presolve time: 0.00s\n",
      "Presolved: 45 rows, 55 columns, 135 nonzeros\n",
      "Variable types: 0 continuous, 55 integer (55 binary)\n",
      "\n",
      "Root relaxation: objective -2.541500e+03, 17 iterations, 0.00 seconds\n",
      "\n",
      "    Nodes    |    Current Node    |     Objective Bounds      |     Work\n",
      " Expl Unexpl |  Obj  Depth IntInf | Incumbent    BestBd   Gap | It/Node Time\n",
      "\n",
      "     0     0 2541.50000    0   10   -0.00000 2541.50000      -     -    0s\n",
      "H    0     0                    1463.5000000 2541.50000  73.7%     -    0s\n",
      "H    0     0                    1490.5000000 2541.50000  70.5%     -    0s\n",
      "     0     0 1694.33333    0   10 1490.50000 1694.33333  13.7%     -    0s\n",
      "H    0     0                    1590.5000000 1694.33333  6.53%     -    0s\n",
      "\n",
      "Cutting planes:\n",
      "  Gomory: 3\n",
      "  MIR: 50\n",
      "  Zero half: 24\n",
      "  RLT: 10\n",
      "  BQP: 7\n",
      "\n",
      "Explored 1 nodes (103 simplex iterations) in 0.04 seconds\n",
      "Thread count was 12 (of 12 available processors)\n",
      "\n",
      "Solution count 4: 1590.5 1490.5 1463.5 -0 \n",
      "\n",
      "Optimal solution found (tolerance 1.00e-04)\n",
      "Best objective 1.590500000000e+03, best bound 1.590500000000e+03, gap 0.0000%\n",
      "y[0] 1.0\n",
      "y[1] 0.0\n",
      "y[2] 1.0\n",
      "y[3] 0.0\n",
      "y[4] 1.0\n",
      "y[5] 0.0\n",
      "y[6] 0.0\n",
      "y[7] 0.0\n",
      "y[8] 1.0\n",
      "y[9] 1.0\n",
      "x[0] 1.0\n",
      "x[1] -1.0\n",
      "x[2] 1.0\n",
      "x[3] -1.0\n",
      "x[4] 1.0\n",
      "x[5] -1.0\n",
      "x[6] -1.0\n",
      "x[7] -1.0\n",
      "x[8] 1.0\n",
      "x[9] 1.0\n",
      "Obj: 1590.5\n"
     ]
    }
   ],
   "source": [
    "# 不使用CallBack + RINS heuristic而直接求解\n",
    "\n",
    "# Import Env\n",
    "import random\n",
    "import gurobipy as gp\n",
    "from gurobipy import GRB\n",
    "\n",
    "# Generate Cmatrix\n",
    "N = 10\n",
    "random.seed(1)\n",
    "Cmatrix = {(i,j):random.randint(0,100) for i in range(N) for j in range(N)}\n",
    "\n",
    "# Create Model\n",
    "m = gp.Model('class2_example1-1')\n",
    "\n",
    "# Create Vars\n",
    "y = m.addVars(N, vtype=GRB.BINARY, name='y')\n",
    "x = m.addVars(N, lb=-1.0, ub=1.0, vtype=GRB.INTEGER, name='x')\n",
    "\n",
    "# Create Objective\n",
    "m.setObjective(0.25 * sum(Cmatrix[i,j] * (1 - x[i]*x[j]) for i in range(N) for j in range(N)), \n",
    "               GRB.MAXIMIZE)\n",
    "\n",
    "# Create Constraint\n",
    "m.addConstrs(\n",
    "    (x[i] == 2 * y[i] - 1 for i in range(N)),\n",
    "    name='C0'\n",
    ")\n",
    "\n",
    "# optimize\n",
    "m.optimize()\n",
    "\n",
    "# write into lp\n",
    "m.write('class3_example1-1.lp')\n",
    "\n",
    "# Print result\n",
    "for v in m.getVars():\n",
    "    print('{} {}'.format(v.varName, v.x))\n",
    "print('Obj: {}'.format(m.objVal))"
   ]
  },
  {
   "cell_type": "code",
   "execution_count": null,
   "metadata": {},
   "outputs": [],
   "source": [
    "gp.abs_()"
   ]
  },
  {
   "cell_type": "code",
   "execution_count": null,
   "metadata": {},
   "outputs": [],
   "source": []
  },
  {
   "cell_type": "code",
   "execution_count": null,
   "metadata": {},
   "outputs": [],
   "source": []
  },
  {
   "cell_type": "markdown",
   "metadata": {},
   "source": [
    "**RINS heuristic核心思想:**\n",
    "- 随着整数规划模型的求解进程，节点松弛模型的解与最优解之间的差距可能会越来越小，体现在松弛解的部分变量值与最优解对应变量值相等或差距很小。因此利用松弛模型的信息可能会更快发现高质量的可行解\n",
    "- RINS Heuristic基于上面的思想，在求解过程中抓取节点松弛解(可能是部分整数，部分小数)， 固定模型中对应的变量的取值构造一个子模型(规模往往远小于原模型)，然后求解子模型。如果发现了更好的可行解，把解传递给优化器让其在它的基础上继续求解原模型"
   ]
  },
  {
   "cell_type": "code",
   "execution_count": 104,
   "metadata": {
    "ExecuteTime": {
     "end_time": "2020-02-26T09:12:43.713256Z",
     "start_time": "2020-02-26T09:12:43.569462Z"
    },
    "scrolled": true
   },
   "outputs": [
    {
     "name": "stdout",
     "output_type": "stream",
     "text": [
      "Changed value of parameter TimeLimit to 600.0\n",
      "   Prev: inf  Min: 0.0  Max: inf  Default: inf\n",
      "Gurobi Optimizer version 9.0.0 build v9.0.0rc2 (mac64)\n",
      "Optimize a model with 0 rows, 10 columns and 0 nonzeros\n",
      "Model fingerprint: 0x7341e596\n",
      "Model has 54 quadratic objective terms\n",
      "Variable types: 0 continuous, 10 integer (10 binary)\n",
      "Coefficient statistics:\n",
      "  Matrix range     [0e+00, 0e+00]\n",
      "  Objective range  [4e+02, 6e+02]\n",
      "  QObjective range [6e+00, 4e+02]\n",
      "  Bounds range     [1e+00, 1e+00]\n",
      "  RHS range        [0e+00, 0e+00]\n",
      "Found heuristic solution: objective -0.0000000\n",
      "Presolve time: 0.00s\n",
      "Presolved: 45 rows, 55 columns, 135 nonzeros\n",
      "Variable types: 0 continuous, 55 integer (55 binary)\n",
      "\n",
      "Root relaxation: objective -2.541500e+03, 17 iterations, 0.00 seconds\n",
      "\n",
      "    Nodes    |    Current Node    |     Objective Bounds      |     Work\n",
      " Expl Unexpl |  Obj  Depth IntInf | Incumbent    BestBd   Gap | It/Node Time\n",
      "\n",
      "     0     0 2541.50000    0   10   -0.00000 2541.50000      -     -    0s\n",
      "H    0     0                    1463.5000000 2541.50000  73.7%     -    0s\n",
      "H    0     0                    1490.5000000 2541.50000  70.5%     -    0s\n",
      "Changed value of parameter TimeLimit to 30.0\n",
      "   Prev: 600.0  Min: 0.0  Max: inf  Default: inf\n",
      "Gurobi Optimizer version 9.0.0 build v9.0.0rc2 (mac64)\n",
      "Optimize a model with 0 rows, 10 columns and 0 nonzeros\n",
      "Model fingerprint: 0x7341e596\n",
      "Model has 54 quadratic objective terms\n",
      "Variable types: 0 continuous, 10 integer (10 binary)\n",
      "Coefficient statistics:\n",
      "  Matrix range     [0e+00, 0e+00]\n",
      "  Objective range  [4e+02, 6e+02]\n",
      "  QObjective range [6e+00, 4e+02]\n",
      "  Bounds range     [1e+00, 1e+00]\n",
      "  RHS range        [0e+00, 0e+00]\n",
      "Found heuristic solution: objective -0.0000000\n",
      "Presolve time: 0.00s\n",
      "Presolved: 45 rows, 55 columns, 135 nonzeros\n",
      "Variable types: 0 continuous, 55 integer (55 binary)\n",
      "\n",
      "Root relaxation: objective -2.541500e+03, 17 iterations, 0.00 seconds\n",
      "\n",
      "    Nodes    |    Current Node    |     Objective Bounds      |     Work\n",
      " Expl Unexpl |  Obj  Depth IntInf | Incumbent    BestBd   Gap | It/Node Time\n",
      "\n",
      "     0     0 2541.50000    0   10   -0.00000 2541.50000      -     -    0s\n",
      "H    0     0                    1463.5000000 2541.50000  73.7%     -    0s\n",
      "H    0     0                    1490.5000000 2541.50000  70.5%     -    0s\n",
      "     0     0 1694.33333    0   10 1490.50000 1694.33333  13.7%     -    0s\n",
      "H    0     0                    1590.5000000 1694.33333  6.53%     -    0s\n",
      "\n",
      "Cutting planes:\n",
      "  Gomory: 3\n",
      "  MIR: 50\n",
      "  Zero half: 24\n",
      "  RLT: 10\n",
      "  BQP: 7\n",
      "\n",
      "Explored 1 nodes (103 simplex iterations) in 0.05 seconds\n",
      "Thread count was 12 (of 12 available processors)\n",
      "\n",
      "Solution count 4: 1590.5 1490.5 1463.5 -0 \n",
      "\n",
      "Optimal solution found (tolerance 1.00e-04)\n",
      "Best objective 1.590500000000e+03, best bound 1.590500000000e+03, gap 0.0000%\n",
      "     0     0 1694.33333    0   10 1490.50000 1694.33333  13.7%     -    0s\n",
      "H    0     0                    1590.5000000 1694.33333  6.53%     -    0s\n",
      "\n",
      "Cutting planes:\n",
      "  Gomory: 3\n",
      "  MIR: 50\n",
      "  Zero half: 24\n",
      "  RLT: 10\n",
      "  BQP: 7\n",
      "\n",
      "Explored 1 nodes (103 simplex iterations) in 0.11 seconds\n",
      "Thread count was 12 (of 12 available processors)\n",
      "\n",
      "Solution count 4: 1590.5 1490.5 1463.5 -0 \n",
      "\n",
      "Optimal solution found (tolerance 1.00e-04)\n",
      "Best objective 1.590500000000e+03, best bound 1.590500000000e+03, gap 0.0000%\n",
      "\n",
      "User-callback calls 67, time in user-callback 0.07 sec\n",
      "Obj =  1590.5\n",
      "y[0]  =  1.0\n",
      "y[1]  =  0.0\n",
      "y[2]  =  1.0\n",
      "y[3]  =  0.0\n",
      "y[4]  =  1.0\n",
      "y[5]  =  0.0\n",
      "y[6]  =  0.0\n",
      "y[7]  =  0.0\n",
      "y[8]  =  1.0\n",
      "y[9]  =  1.0\n"
     ]
    }
   ],
   "source": [
    "# 使用RINS heuristic求解\n",
    "\n",
    "from gurobipy import *\n",
    "import random\n",
    "\n",
    "def RINScallback(model, where):\n",
    "    if where == GRB.Callback.MIPNODE:\n",
    "        # MIP node callback\n",
    "        if model.cbGet(GRB.Callback.MIPNODE_NODCNT) % 100 == 0 and \\\n",
    "           model.cbGet(GRB.Callback.MIPNODE_STATUS) == GRB.OPTIMAL:\n",
    "            submodel = model.copy()\n",
    "            suby = submodel.getVars()\n",
    "            #获得节点松弛解\n",
    "            yrelaxation = model.cbGetNodeRel(model._y)\n",
    "            #固定变量取值\n",
    "            for i in range(model._N):\n",
    "                if abs(yrelaxation[i])<0.01:\n",
    "                    suby[i].ub = 0\n",
    "                elif abs(yrelaxation[i]-1)<0.01:\n",
    "                    suby[i].lb = 1\n",
    "            submodel.setParam(GRB.Param.TimeLimit, 30)\n",
    "            submodel.optimize()\n",
    "            if submodel.objval > model.cbGet(GRB.Callback.MIPNODE_OBJBST):\n",
    "                #将解传递给原模型\n",
    "                for i in range(model._N):\n",
    "                    if abs(suby[i].x)<0.001:\n",
    "                        model.cbSetSolution(model._y[i], 0.0)\n",
    "                    elif abs(suby[i].x-1)<0.001: \n",
    "                        model.cbSetSolution(model._y[i], 1.0)\n",
    "\n",
    "try:\n",
    "    random.seed(1)\n",
    "    N = 10\n",
    "    #随机产生线段权重\n",
    "    random.seed(1)\n",
    "    Cmatrix = {(i,j):random.randint(0,100) for i in range(N) for j in range(N)}\n",
    "    m = Model('MaximumCut')\n",
    "    #添加变量\n",
    "    y = m.addVars(N, vtype=GRB.BINARY, name='y')\n",
    "    #构造目标函数\n",
    "    obj = QuadExpr()\n",
    "    for i in range(N):\n",
    "        for j in range(N):\n",
    "            obj = obj+Cmatrix[i,j]*(y[i]+y[j]-2*y[i]*y[j])\n",
    "    m.setObjective(0.5*obj, -1)\n",
    "    #设置求解时间\n",
    "    m.Params.TimeLimit = 600\n",
    "    #外部变量\n",
    "    m._y = y\n",
    "    m._N = N\n",
    "    #求解\n",
    "    m.optimize(RINScallback)\n",
    "    #获得目标值和变量值\n",
    "    print(\"Obj = \",m.ObjVal)\n",
    "    for i in range(N):\n",
    "        print(y[i].VarName,' = ',y[i].x)\n",
    "    \n",
    "except GurobiError:\n",
    "    print('Error reported')"
   ]
  },
  {
   "cell_type": "code",
   "execution_count": null,
   "metadata": {},
   "outputs": [],
   "source": []
  },
  {
   "cell_type": "markdown",
   "metadata": {},
   "source": [
    "## 常用线性方法"
   ]
  },
  {
   "cell_type": "markdown",
   "metadata": {},
   "source": [
    "### 广义约束 - Max"
   ]
  },
  {
   "cell_type": "markdown",
   "metadata": {},
   "source": [
    "$z = max(x, y, 3)$\n",
    "- 在Gurobi中，可以直接写成 m.addConstr(z == max_(x, y, 3))\n",
    "- 但是如果不用广义约束，则我们需要将其转化成其他线性条件\n",
    "    - 因为z为[x, y, 3]中的最大值, 则可以写出\n",
    "        - $ x \\le z, y \\le z, 3 \\le z$\n",
    "    - 上述式子仅确认了z的上界，我们还需要确认z的下界, 即$x \\ge z, y \\ge z, 3 \\ge z$ 至少有一个约束成立, 则可以写成下述形式\n",
    "        - $x \\ge z - M(1 - u_1)$\n",
    "        - $y \\ge z - M(1 - u_2)$\n",
    "        - $3 \\ge z - M(1 - u_3)$\n",
    "        - $u_1 + u_2 + u_3 \\ge 1$\n",
    "        - $u_1, u_2, u_3 \\in \\{0,1\\}$\n",
    "        - 即$u_i = 1$时，对应的那条限制成立；而至少有一个$u_i = 1$, 则至少有一个约束成立\n",
    "        - $M$为一个无穷大的常数\n",
    "- 将上述6条式子联立，则为线性化Max的方法"
   ]
  },
  {
   "cell_type": "code",
   "execution_count": null,
   "metadata": {},
   "outputs": [],
   "source": []
  },
  {
   "cell_type": "markdown",
   "metadata": {},
   "source": [
    "### 广义约束 - Min"
   ]
  },
  {
   "cell_type": "markdown",
   "metadata": {},
   "source": [
    "$z = min(x, y, 3)$\n",
    "- 在Gurobi中，可以直接写成 m.addConstr(z == min_(x, y, 3))\n",
    "- 但是如果不用广义约束，则我们需要将其转化成其他线性条件\n",
    "    - 因为z为[x, y, 3]中的最小值, 则可以写出\n",
    "        - $ x \\ge z, y \\ge z, 3 \\ge z$\n",
    "    - 上述式子仅确认了z的上界，我们还需要确认z的下界, 即$x \\le z, y \\le z, 3 \\le z$ 至少有一个约束成立, 则可以写成下述形式\n",
    "        - $x \\le z - M(1 - u_1)$\n",
    "        - $y \\le z - M(1 - u_2)$\n",
    "        - $3 \\le z - M(1 - u_3)$\n",
    "        - $u_1 + u_2 + u_3 \\ge 1$\n",
    "        - $u_1, u_2, u_3 \\in \\{0,1\\}$\n",
    "        - $M$为一个无穷大的常数\n",
    "        - 即$u_i = 1$时，对应的那条限制成立；而至少有一个$u_i = 1$, 则至少有一个约束成立\n",
    "- 将上述6条式子联立，则为线性化Min的方法"
   ]
  },
  {
   "cell_type": "code",
   "execution_count": null,
   "metadata": {},
   "outputs": [],
   "source": []
  },
  {
   "cell_type": "markdown",
   "metadata": {},
   "source": [
    "### 目标函数中存在绝对值"
   ]
  },
  {
   "cell_type": "markdown",
   "metadata": {},
   "source": [
    "$min \\sum_{i} c_i |x_i|$\n",
    "\n",
    "$Ax = b$\n",
    "\n",
    "$x_i$ free, $c_i \\ge 0$, $\\forall i$\n",
    "\n",
    "- 在Gurobi中，可以将其转化为 m.addConstr(y==abs_(x)), 然后将目标函数中的$|x_i|$替代为$y_i$\n",
    "- 线性化方法1:\n",
    "    - $y_i = |x_i|$, 可以推出下式:\n",
    "        - $y_i \\ge x_i$, $y_i \\ge -x_i$\n",
    "        - 但该式只确定了$y_i$的下界，$y_i$可以取到无穷大\n",
    "        - 但是如下述规划所示，我们要求的是min，所以会使得$y_i$尽量的小，所以没必要确定$y_i$的上界\n",
    "    - 则可以获得如下规划\n",
    "        - $min \\sum_{i} c_i y_i$\n",
    "        - $Ax = b$\n",
    "        - $y_i \\ge x_i$, $y_i \\ge x_i$\n",
    "        - $x_i$ free, $c_i \\gt 0$\n",
    "\n",
    "- 线性化方法2:\n",
    "    - 定理: $\\forall \\ x, \\exists \\ u,v \\ge 0$, 使得$x = u - v$, $|x| = u + v$, 其中 $u = \\frac{|x|+x}{2}$, $v = \\frac{|x|-x}{2}$\n",
    "    - 根据如上定理，可以将其规划转化为\n",
    "        - $min \\sum_i c_i (u_i + v_i)$\n",
    "        - $A(u - v) = b$\n",
    "        - $u,v \\ge 0$"
   ]
  },
  {
   "cell_type": "code",
   "execution_count": null,
   "metadata": {},
   "outputs": [],
   "source": []
  },
  {
   "cell_type": "markdown",
   "metadata": {},
   "source": [
    "### Maxmin / Minmax 目标函数\n"
   ]
  },
  {
   "cell_type": "markdown",
   "metadata": {},
   "source": [
    "- $max(min_{k \\in k}(\\sum_i c_{ki} x_i))$\n",
    "    - 可以线性化成:\n",
    "        - $max (z)$\n",
    "        - $z \\le \\sum_i c_{ki} x_i$, $\\forall \\ k \\in K$\n",
    "\n",
    "\n",
    "- $min(max_{k \\in k}(\\sum_i c_{ki} x_i))$\n",
    "    - 可以线性化成:\n",
    "        - $min (z)$\n",
    "        - $z \\ge \\sum_i c_{ki} x_i$, $\\forall \\ k \\in K$"
   ]
  },
  {
   "cell_type": "code",
   "execution_count": 107,
   "metadata": {
    "ExecuteTime": {
     "end_time": "2020-02-26T10:01:32.914629Z",
     "start_time": "2020-02-26T10:01:32.912198Z"
    }
   },
   "outputs": [],
   "source": [
    "# 例子\n",
    "\n",
    "# max(min(x+2y+10, 3x+y+1))\n",
    "# ->\n",
    "# max z\n",
    "# z <= x + 2y + 10\n",
    "# z <= 3x + y + 1"
   ]
  },
  {
   "cell_type": "code",
   "execution_count": null,
   "metadata": {},
   "outputs": [],
   "source": []
  },
  {
   "cell_type": "markdown",
   "metadata": {},
   "source": [
    "### Maxmax / Minmin 目标函数"
   ]
  },
  {
   "cell_type": "markdown",
   "metadata": {},
   "source": [
    "- $max(max_{k \\ \\in k} \\sum_i c_{ki} x_i)$\n",
    "    - 可以线性化成(结合了2.1与2.4):\n",
    "        - $max (z)$\n",
    "        - $\\sum_i c_{ki} x_i \\ge z - M(1 - y_k)$, $\\forall \\ k \\in K$\n",
    "        - $\\sum_k y_k \\ge 1$\n",
    "        - $y_k \\ \\in \\{0,1\\}$\n",
    "        \n",
    "- $min(min_{k \\ \\in k} \\sum_i c_{ki} x_i)$\n",
    "    - 可以线性化成(结合了2.1与2.4):\n",
    "        - $min (z)$\n",
    "        - $\\sum_i c_{ki} x_i \\le z - M(1 - y_k)$, $\\forall \\ k \\in K$\n",
    "        - $\\sum_k y_k \\ge 1$\n",
    "        - $y_k \\ \\in \\{0,1\\}$\n",
    "    - $M$为一个无穷大的常数"
   ]
  },
  {
   "cell_type": "code",
   "execution_count": 109,
   "metadata": {
    "ExecuteTime": {
     "end_time": "2020-02-26T10:14:48.224520Z",
     "start_time": "2020-02-26T10:14:48.221822Z"
    }
   },
   "outputs": [],
   "source": [
    "# 例子\n",
    "\n",
    "# max(max(x+2y+10, 3x+y+1))\n",
    "# ->\n",
    "# max(z)\n",
    "# x + 2y + 10 >= z - M(1 - u)\n",
    "# 3x + y + 1 >= z - M(1 - v)\n",
    "# u + v >= 1\n",
    "# u,v binary\n",
    "\n",
    "# x + 2y + 10 <= z 可被省略, 因其优化方向为最大值\n",
    "# 3x + y + 1 <= z 可被省略, 因其优化方向为最大值"
   ]
  },
  {
   "cell_type": "code",
   "execution_count": null,
   "metadata": {},
   "outputs": [],
   "source": []
  },
  {
   "cell_type": "markdown",
   "metadata": {},
   "source": [
    "### 带fixed cost的目标函数"
   ]
  },
  {
   "cell_type": "markdown",
   "metadata": {
    "ExecuteTime": {
     "end_time": "2020-02-26T10:18:57.171044Z",
     "start_time": "2020-02-26T10:18:57.166624Z"
    }
   },
   "source": [
    "- $min \\ f(x) = \\begin{cases} \n",
    "0,  & \\mbox{if }x=0 \\\\\n",
    "cx + k, & \\mbox{if }x \\gt 0 , k \\gt0\n",
    "\\end{cases}$\n",
    "    - 可以线性化成 (即引入了一个二分类的y，当y为0时表示x为0，当y为1时表示x大于0)\n",
    "        - $min (cx + ky)$\n",
    "        - $ x \\le My$\n",
    "        - $ y \\in \\{0,1\\}$\n",
    "        - $M$为一个无穷大的常数"
   ]
  },
  {
   "cell_type": "code",
   "execution_count": null,
   "metadata": {},
   "outputs": [],
   "source": []
  },
  {
   "cell_type": "markdown",
   "metadata": {},
   "source": [
    "### 分式目标函数"
   ]
  },
  {
   "cell_type": "markdown",
   "metadata": {},
   "source": [
    "- $min \\sum_i(c_i x_i + \\alpha) / \\sum_i(d_i x_i + \\beta)$\n",
    "- $\\sum_i a_{ij} x_i \\le b_j$, $\\forall j \\in J$\n",
    "- $\\sum_i d_i x_i + \\beta \\gt 0$, $x_i \\ge 0$, $\\forall j \\in J$\n",
    "\n",
    "    - 线性化方法: 令 $y = \\frac{1}{\\sum_i(d_ix_i + \\beta)} \\gt 0$\n",
    "        - $min \\sum_i (c_i x_i y + \\alpha y)$\n",
    "        - $\\sum_i a_{ij} x_i \\le b_j$, $\\forall j \\in j$\n",
    "        - $\\sum_i d_i x_i y + \\beta y = 1$, $\\forall j \\in J$\n",
    "        - $y \\gt 0$, $x_i \\ge 0$, $forall j \\in J$\n",
    "    - 由上述式子含两个变量相乘，为二次方，所以需要进一步线性化。加上 $z_i = x_i y$, 可得\n",
    "        - $min \\sum_i (c_i z_i + \\alpha y)$\n",
    "        - $\\sum_i a_{ij} z_i \\le b_j y$, $\\forall j \\in j$\n",
    "        - $\\sum_i d_i z_i + \\beta y = 1$, $\\forall j \\in J$\n",
    "        - $y \\gt 0$, $z_i \\ge 0$, $forall j \\in J$        \n",
    "    "
   ]
  },
  {
   "cell_type": "code",
   "execution_count": 111,
   "metadata": {
    "ExecuteTime": {
     "end_time": "2020-02-27T02:14:01.750180Z",
     "start_time": "2020-02-27T02:14:01.747588Z"
    }
   },
   "outputs": [],
   "source": [
    "# 例子\n",
    "# min (2x + y + 1) / (x + 3y)\n",
    "# 5x +y <= 6\n",
    "# x + 3y > 0, x,y >= 0\n",
    "# ->\n",
    "# 令: z = 1 / (x + 3y) > 0\n",
    "# min (2xz + yz + z)\n",
    "# 5x + y <= 6\n",
    "# xz + 3yz = 1\n",
    "# x,y >= 0, z > 0\n",
    "# ->\n",
    "# 令 u = xz, v = yz, 5xz+yz <= 6z\n",
    "# min (2u + v + z)\n",
    "# 5u + v <= 6z\n",
    "# u + 3v = 1\n",
    "# z>0\n",
    "# u,v >= 0"
   ]
  },
  {
   "cell_type": "code",
   "execution_count": null,
   "metadata": {},
   "outputs": [],
   "source": []
  },
  {
   "cell_type": "markdown",
   "metadata": {},
   "source": [
    "### 逻辑或 约束"
   ]
  },
  {
   "cell_type": "markdown",
   "metadata": {},
   "source": [
    "- $\\sum_j a_{1j} x \\le b_1$ or $\\sum_j a_{2j} x \\le b_2$ (两个约束至少一个成立)\n",
    "    - 线性化方法:\n",
    "        - $\\sum_j a_{ij} x \\le b_i + M(1 - y_i)$, $i = 1,2$\n",
    "        - $\\sum_i y_i \\ge 1$\n",
    "        - $y \\in \\{0,1\\}$, $i = 1,2$\n",
    "        - $M$为一个无穷大的常数"
   ]
  },
  {
   "cell_type": "code",
   "execution_count": null,
   "metadata": {},
   "outputs": [],
   "source": [
    "# 例子\n",
    "# x + 2y + 10 <= 15 or 3x + y + 1 <= 5\n",
    "# ->\n",
    "# x + 2y + 10 <= 15 + M(1 - u)\n",
    "# 3x + y + 1 <= 5 + M(1 - v)\n",
    "# u + v >= 1\n",
    "# u,v in {0,1}"
   ]
  },
  {
   "cell_type": "markdown",
   "metadata": {},
   "source": [
    "- $\\sum_j a_{1j} x \\le b_1$ or $\\sum_j a_{2j} x = b_2$ (两个约束至少一个成立)\n",
    "    - 线性化方法:\n",
    "        - $\\sum_j a_{ij} x \\le b_i + M(1 - y_i)$, $i = 1,2$\n",
    "        - $\\sum_j a_{2j} x \\ge b_2 - M(1 - y_2)$\n",
    "        - $\\sum_i y_i \\ge 1$\n",
    "        - $y_i \\in \\{0,1\\}$, $i = 1,2$"
   ]
  },
  {
   "cell_type": "code",
   "execution_count": 130,
   "metadata": {
    "ExecuteTime": {
     "end_time": "2020-02-27T02:45:23.349265Z",
     "start_time": "2020-02-27T02:45:23.346629Z"
    }
   },
   "outputs": [],
   "source": [
    "# 例子\n",
    "# x + 2y + 10 <= 15 or 3x + y + 1 = 5\n",
    "# ->\n",
    "# x + 2y + 10 <= 15 + M(1 - u)\n",
    "# 3x + y + 1 <= 5 + M(1 - v)\n",
    "# 3x + y + 1 >= 5 - M(1 - v)\n",
    "# u + v >= 1\n",
    "# u,v in {0,1}"
   ]
  },
  {
   "cell_type": "markdown",
   "metadata": {},
   "source": [
    "- $\\sum_j a_{1j} x = b_1$ or $\\sum_j a_{2j} x = b_2$ (两个约束至少一个成立)\n",
    "    - 线性化方法:\n",
    "        - $\\sum_j a_{ij} x \\le b_i + M(1 - y_i)$, $i = 1,2$\n",
    "        - $\\sum_j a_{ij} x \\ge b_i - M(1 - y_i)$, $i = 1,2$\n",
    "        - $\\sum_i y_i \\ge 1$\n",
    "        - $y_i \\in \\{0,1\\}$, $i = 1,2$"
   ]
  },
  {
   "cell_type": "code",
   "execution_count": 131,
   "metadata": {
    "ExecuteTime": {
     "end_time": "2020-02-27T02:46:23.849627Z",
     "start_time": "2020-02-27T02:46:23.846907Z"
    }
   },
   "outputs": [],
   "source": [
    "# 例子\n",
    "# x + 2y + 10 = 15 or 3x + y + 1 = 5\n",
    "# ->\n",
    "# x + 2y + 10 <= 15 + M(1 - u)\n",
    "# x + 2y + 10 >= 15 - M(1 - u)\n",
    "# 3x + y + 1 <= 5 + M(1 - v)\n",
    "# 3x + y + 1 >= 5 - M(1 - v)\n",
    "# u + v >= 1\n",
    "# u,v in {0,1}"
   ]
  },
  {
   "cell_type": "code",
   "execution_count": null,
   "metadata": {},
   "outputs": [],
   "source": []
  },
  {
   "cell_type": "markdown",
   "metadata": {},
   "source": [
    "### 乘积式"
   ]
  },
  {
   "cell_type": "markdown",
   "metadata": {},
   "source": [
    "- $x_1 x_2$, 其中 $x_1, x_2 \\in \\{0,1\\}$\n",
    "    - 线性化方法: $y = x_1 x_2$\n",
    "        - $y \\le x_1$\n",
    "        - $y \\le x_2$\n",
    "        - $y \\ge x_1 + x_2 - 1$\n",
    "        - $y \\in \\{0,1\\}$"
   ]
  },
  {
   "cell_type": "markdown",
   "metadata": {
    "ExecuteTime": {
     "end_time": "2020-02-27T02:48:58.826530Z",
     "start_time": "2020-02-27T02:48:58.821456Z"
    }
   },
   "source": [
    "- $x_1 x_2$, 其中 $x_1 \\in \\{0,1\\}$, $x_2 \\in [0, u]$\n",
    "    - 线性化方法: $y = x_1 x_2$\n",
    "        - $y \\le u x_1$\n",
    "        - $y \\le x_2$\n",
    "        - $y \\ge x_2 - u(1 - x_1)$\n",
    "        - $y \\in \\{0,u\\}$"
   ]
  },
  {
   "cell_type": "markdown",
   "metadata": {},
   "source": [
    "- $x_1 x_2$, 其中 $x_1 \\in \\{0,1\\}$, $x_2 \\in [l, u]$\n",
    "    - 线性化方法: $y = x_1 x_2$\n",
    "        - $y \\le x_2$\n",
    "        - $y \\ge x_2 - u(1 - x_1)$\n",
    "        - $l x_1 \\le y \\le u x_1$"
   ]
  },
  {
   "cell_type": "code",
   "execution_count": null,
   "metadata": {},
   "outputs": [],
   "source": []
  },
  {
   "cell_type": "markdown",
   "metadata": {},
   "source": [
    "### 部分整数变量"
   ]
  },
  {
   "cell_type": "markdown",
   "metadata": {},
   "source": [
    "- $z \\in [0, a] \\ integer$  or  $z \\in [a, b] \\ continuous$\n",
    "    - 线性化方法: 令\n",
    "    - $x \\in [0,a] \\ integer$\n",
    "    - $y \\in [a, b] \\ continuous$\n",
    "    - $u \\in \\{0,1\\}$\n",
    "        - $z \\le x + (1 - u)M$\n",
    "        - $z \\ge x - (1 - u)M$\n",
    "        - $z \\le y + u M$\n",
    "        - $z \\ge y - u M$"
   ]
  },
  {
   "cell_type": "code",
   "execution_count": null,
   "metadata": {},
   "outputs": [],
   "source": []
  }
 ],
 "metadata": {
  "kernelspec": {
   "display_name": "Python 3",
   "language": "python",
   "name": "python3"
  },
  "language_info": {
   "codemirror_mode": {
    "name": "ipython",
    "version": 3
   },
   "file_extension": ".py",
   "mimetype": "text/x-python",
   "name": "python",
   "nbconvert_exporter": "python",
   "pygments_lexer": "ipython3",
   "version": "3.6.7"
  },
  "toc": {
   "base_numbering": 1,
   "nav_menu": {},
   "number_sections": true,
   "sideBar": true,
   "skip_h1_title": false,
   "title_cell": "Table of Contents",
   "title_sidebar": "Contents",
   "toc_cell": false,
   "toc_position": {},
   "toc_section_display": true,
   "toc_window_display": false
  },
  "varInspector": {
   "cols": {
    "lenName": 16,
    "lenType": 16,
    "lenVar": 40
   },
   "kernels_config": {
    "python": {
     "delete_cmd_postfix": "",
     "delete_cmd_prefix": "del ",
     "library": "var_list.py",
     "varRefreshCmd": "print(var_dic_list())"
    },
    "r": {
     "delete_cmd_postfix": ") ",
     "delete_cmd_prefix": "rm(",
     "library": "var_list.r",
     "varRefreshCmd": "cat(var_dic_list()) "
    }
   },
   "types_to_exclude": [
    "module",
    "function",
    "builtin_function_or_method",
    "instance",
    "_Feature"
   ],
   "window_display": false
  }
 },
 "nbformat": 4,
 "nbformat_minor": 2
}
