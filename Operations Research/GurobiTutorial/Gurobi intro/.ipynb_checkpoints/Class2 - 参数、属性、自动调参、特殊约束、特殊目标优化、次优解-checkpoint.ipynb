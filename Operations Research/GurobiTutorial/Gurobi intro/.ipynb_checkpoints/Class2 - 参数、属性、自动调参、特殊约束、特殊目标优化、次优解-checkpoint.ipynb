{
 "cells": [
  {
   "cell_type": "markdown",
   "metadata": {},
   "source": [
    "# 重要参数及属性"
   ]
  },
  {
   "cell_type": "markdown",
   "metadata": {},
   "source": [
    "## 简介"
   ]
  },
  {
   "cell_type": "markdown",
   "metadata": {},
   "source": [
    "Parameter控制优化器的行为，需要在优化启动前(即optimize()之前)设置好。\n",
    "\n",
    "如: 控制求解时间 TimeLimit; 控制控制台输出Log记录 LogToConsole\n",
    "\n",
    "----\n",
    "\n",
    "Attributes控制模型(模型、变量、约束、目标等对象)的特征。\n",
    "\n",
    "如: 模型ModelSense; 变量 LB/UB; 约束 RHs"
   ]
  },
  {
   "cell_type": "markdown",
   "metadata": {},
   "source": [
    "## Parameter - 参数"
   ]
  },
  {
   "cell_type": "markdown",
   "metadata": {},
   "source": [
    "- 参数类别, 共13大类, 具体参见refman.pdf\n",
    "    - Termination 停止参数，控制求解停止条件\n",
    "    - Tolerances 容差参数， 控制求解器的最优或可行的偏差\n",
    "    - Simplex 单纯性参数，控制单纯形法\n",
    "    - Barrier 障碍法参数，控制障碍法\n",
    "    - Mip 混合整数参数，控制混合整数规划算法\n",
    "    - Mip Cuts 割平面参数，控制割平面\n",
    "    - Tuning 调参参数，控制调参工具\n",
    "    - Multiple Solution 多解参数，尝试寻找多个解\n",
    "    - Distributed Algoritums 分布式计算参数\n",
    "    - Compute Server 计算服务器参数\n",
    "    - Cloud 云参数\n",
    "    - Token Server 令牌服务器参数\n",
    "    - Other 其他一些参数"
   ]
  },
  {
   "cell_type": "markdown",
   "metadata": {},
   "source": [
    "常用参数:"
   ]
  },
  {
   "cell_type": "markdown",
   "metadata": {},
   "source": [
    "|参数名称|作用|取值|\n",
    "|:-|:-|:-|\n",
    "|TimeLimit|时间设定|单位秒|\n",
    "|MIPFocus|设定MIP的求解侧重点|0:默认, 均衡搜寻可行解和证明最优; <br> 1:侧重快速找到可行解; <br>2:侧重证明最优; <br>3:侧重界提升|\n",
    "|LogToConsole|log记录是否在控制台显示|0:关闭控制台显示; <br>1:默认,打开控制台显示|\n",
    "|LogFile|设定log文件名称|默认空字符串|\n",
    "|MIPGap|设gap值|默认0.0001, 小于给定值终止计算|\n",
    "|ObjNumber|目标函数索引(多目标)|索引从0开始编号|"
   ]
  },
  {
   "cell_type": "code",
   "execution_count": 1,
   "metadata": {
    "ExecuteTime": {
     "end_time": "2020-01-14T02:12:56.599251Z",
     "start_time": "2020-01-14T02:12:56.596444Z"
    }
   },
   "outputs": [],
   "source": [
    "# 使用.setParam(paramname, newvalue)来进行参数设置\n",
    "# 以下三种方法等价\n",
    "\n",
    "# model.setParam(\"TimeLimit\", 600)\n",
    "# model.setParam(GRB.Param.TimeLimit, 600)\n",
    "# model.Params.TimeLimit = 600"
   ]
  },
  {
   "cell_type": "markdown",
   "metadata": {},
   "source": [
    "### Parameter Example"
   ]
  },
  {
   "cell_type": "code",
   "execution_count": 1,
   "metadata": {
    "ExecuteTime": {
     "end_time": "2020-02-25T08:52:51.807871Z",
     "start_time": "2020-02-25T08:51:32.149816Z"
    },
    "scrolled": true
   },
   "outputs": [
    {
     "name": "stdout",
     "output_type": "stream",
     "text": [
      "Using license file /Users/elziz/gurobi.lic\n",
      "Read LP format model from file class2_net12.lp\n",
      "Reading time = 0.07 seconds\n",
      "R14022: 14021 rows, 14115 columns, 80384 nonzeros\n",
      "Changed value of parameter TimeLimit to 2.0\n",
      "   Prev: inf  Min: 0.0  Max: inf  Default: inf\n",
      "Gurobi Optimizer version 9.0.0 build v9.0.0rc2 (mac64)\n",
      "Optimize a model with 14021 rows, 14115 columns and 80384 nonzeros\n",
      "Model fingerprint: 0x18d5bcc5\n",
      "Variable types: 12512 continuous, 1603 integer (1603 binary)\n",
      "Coefficient statistics:\n",
      "  Matrix range     [1e+00, 1e+01]\n",
      "  Objective range  [1e+00, 2e+01]\n",
      "  Bounds range     [1e+00, 3e+00]\n",
      "  RHS range        [1e+00, 3e+00]\n",
      "Presolve removed 3165 rows and 3495 columns\n",
      "Presolve time: 0.35s\n",
      "Presolved: 10856 rows, 10620 columns, 56999 nonzeros\n",
      "Variable types: 9507 continuous, 1113 integer (1113 binary)\n",
      "\n",
      "Root relaxation: objective 7.064054e+01, 2529 iterations, 0.22 seconds\n",
      "\n",
      "    Nodes    |    Current Node    |     Objective Bounds      |     Work\n",
      " Expl Unexpl |  Obj  Depth IntInf | Incumbent    BestBd   Gap | It/Node Time\n",
      "\n",
      "     0     0   70.64054    0  360          -   70.64054      -     -    0s\n",
      "     0     0          -    0               -   70.64054      -     -    2s\n",
      "\n",
      "Cutting planes:\n",
      "  Gomory: 21\n",
      "  Cover: 47\n",
      "  Implied bound: 47\n",
      "  Clique: 9\n",
      "  MIR: 39\n",
      "  Flow cover: 123\n",
      "  GUB cover: 15\n",
      "  Zero half: 15\n",
      "  RLT: 597\n",
      "  Relax-and-lift: 28\n",
      "  BQP: 10\n",
      "\n",
      "Explored 1 nodes (3893 simplex iterations) in 2.01 seconds\n",
      "Thread count was 12 (of 12 available processors)\n",
      "\n",
      "Solution count 0\n",
      "\n",
      "Time limit reached\n",
      "Best objective -, best bound 7.100000000000e+01, gap -\n",
      "Discarded solution information\n",
      "Changed value of parameter MIPFocus to 1\n",
      "   Prev: 0  Min: 0  Max: 3  Default: 0\n",
      "Gurobi Optimizer version 9.0.0 build v9.0.0rc2 (mac64)\n",
      "Optimize a model with 14021 rows, 14115 columns and 80384 nonzeros\n",
      "Model fingerprint: 0x18d5bcc5\n",
      "Variable types: 12512 continuous, 1603 integer (1603 binary)\n",
      "Coefficient statistics:\n",
      "  Matrix range     [1e+00, 1e+01]\n",
      "  Objective range  [1e+00, 2e+01]\n",
      "  Bounds range     [1e+00, 3e+00]\n",
      "  RHS range        [1e+00, 3e+00]\n",
      "Presolve removed 3165 rows and 3495 columns\n",
      "Presolve time: 0.34s\n",
      "Presolved: 10856 rows, 10620 columns, 56999 nonzeros\n",
      "Variable types: 9507 continuous, 1113 integer (1113 binary)\n",
      "\n",
      "Root relaxation: objective 7.064054e+01, 2529 iterations, 0.20 seconds\n",
      "\n",
      "    Nodes    |    Current Node    |     Objective Bounds      |     Work\n",
      " Expl Unexpl |  Obj  Depth IntInf | Incumbent    BestBd   Gap | It/Node Time\n",
      "\n",
      "     0     0   70.64054    0  360          -   70.64054      -     -    0s\n",
      "     0     0          -    0               -   70.64054      -     -    2s\n",
      "\n",
      "Cutting planes:\n",
      "  Gomory: 3\n",
      "  Cover: 40\n",
      "  Implied bound: 58\n",
      "  Clique: 8\n",
      "  MIR: 27\n",
      "  Flow cover: 91\n",
      "  GUB cover: 10\n",
      "  Zero half: 8\n",
      "  RLT: 575\n",
      "  BQP: 11\n",
      "\n",
      "Explored 1 nodes (3893 simplex iterations) in 2.01 seconds\n",
      "Thread count was 12 (of 12 available processors)\n",
      "\n",
      "Solution count 0\n",
      "\n",
      "Time limit reached\n",
      "Best objective -, best bound 7.100000000000e+01, gap -\n",
      "Discarded solution information\n",
      "Changed value of parameter MIPFocus to 2\n",
      "   Prev: 1  Min: 0  Max: 3  Default: 0\n",
      "Gurobi Optimizer version 9.0.0 build v9.0.0rc2 (mac64)\n",
      "Optimize a model with 14021 rows, 14115 columns and 80384 nonzeros\n",
      "Model fingerprint: 0x18d5bcc5\n",
      "Variable types: 12512 continuous, 1603 integer (1603 binary)\n",
      "Coefficient statistics:\n",
      "  Matrix range     [1e+00, 1e+01]\n",
      "  Objective range  [1e+00, 2e+01]\n",
      "  Bounds range     [1e+00, 3e+00]\n",
      "  RHS range        [1e+00, 3e+00]\n",
      "Presolve removed 3165 rows and 3495 columns\n",
      "Presolve time: 0.50s\n",
      "Presolved: 10856 rows, 10620 columns, 60559 nonzeros\n",
      "Variable types: 9507 continuous, 1113 integer (1113 binary)\n",
      "Presolve removed 46 rows and 0 columns\n",
      "Presolved: 10810 rows, 10620 columns, 60329 nonzeros\n",
      "\n",
      "\n",
      "Root relaxation: objective 7.395084e+01, 3891 iterations, 0.61 seconds\n",
      "\n",
      "    Nodes    |    Current Node    |     Objective Bounds      |     Work\n",
      " Expl Unexpl |  Obj  Depth IntInf | Incumbent    BestBd   Gap | It/Node Time\n",
      "\n",
      "     0     0   73.95084    0  363          -   73.95084      -     -    1s\n",
      "H    0     0                     337.0000000   73.95084  78.1%     -    1s\n",
      "     0     0          -    0       337.00000   74.01685  78.0%     -    2s\n",
      "\n",
      "Cutting planes:\n",
      "  Gomory: 20\n",
      "  Cover: 309\n",
      "  Implied bound: 79\n",
      "  Clique: 9\n",
      "  MIR: 82\n",
      "  StrongCG: 2\n",
      "  Flow cover: 118\n",
      "  GUB cover: 149\n",
      "  Zero half: 39\n",
      "  RLT: 228\n",
      "  Relax-and-lift: 134\n",
      "  BQP: 3\n",
      "\n",
      "Explored 1 nodes (6187 simplex iterations) in 2.02 seconds\n",
      "Thread count was 12 (of 12 available processors)\n",
      "\n",
      "Solution count 1: 337 \n",
      "\n",
      "Time limit reached\n",
      "Best objective 3.370000000000e+02, best bound 7.500000000000e+01, gap 77.7448%\n",
      "Discarded solution information\n",
      "Changed value of parameter MIPFocus to 3\n",
      "   Prev: 0  Min: 0  Max: 3  Default: 0\n",
      "Gurobi Optimizer version 9.0.0 build v9.0.0rc2 (mac64)\n",
      "Optimize a model with 14021 rows, 14115 columns and 80384 nonzeros\n",
      "Model fingerprint: 0x18d5bcc5\n",
      "Variable types: 12512 continuous, 1603 integer (1603 binary)\n",
      "Coefficient statistics:\n",
      "  Matrix range     [1e+00, 1e+01]\n",
      "  Objective range  [1e+00, 2e+01]\n",
      "  Bounds range     [1e+00, 3e+00]\n",
      "  RHS range        [1e+00, 3e+00]\n",
      "Presolve removed 3165 rows and 3495 columns\n",
      "Presolve time: 0.48s\n",
      "Presolved: 10856 rows, 10620 columns, 60559 nonzeros\n",
      "Variable types: 9507 continuous, 1113 integer (1113 binary)\n",
      "Presolve removed 46 rows and 0 columns\n",
      "Presolved: 10810 rows, 10620 columns, 60329 nonzeros\n",
      "\n",
      "\n",
      "Root relaxation: objective 7.395084e+01, 3891 iterations, 0.62 seconds\n",
      "\n",
      "    Nodes    |    Current Node    |     Objective Bounds      |     Work\n",
      " Expl Unexpl |  Obj  Depth IntInf | Incumbent    BestBd   Gap | It/Node Time\n",
      "\n",
      "     0     0   73.95084    0  363          -   73.95084      -     -    1s\n",
      "H    0     0                     337.0000000   73.95084  78.1%     -    1s\n",
      "\n",
      "Cutting planes:\n",
      "  Gomory: 17\n",
      "  Cover: 271\n",
      "  Implied bound: 78\n",
      "  Clique: 6\n",
      "  MIR: 258\n",
      "  StrongCG: 7\n",
      "  Flow cover: 289\n",
      "  GUB cover: 140\n",
      "  Zero half: 9\n",
      "  Relax-and-lift: 79\n",
      "\n",
      "Explored 1 nodes (5028 simplex iterations) in 2.05 seconds\n",
      "Thread count was 12 (of 12 available processors)\n",
      "\n",
      "Solution count 1: 337 \n",
      "\n",
      "Time limit reached\n",
      "Best objective 3.370000000000e+02, best bound 7.500000000000e+01, gap 77.7448%\n",
      "Changed value of parameter timeLimit to inf\n",
      "   Prev: 2.0  Min: 0.0  Max: inf  Default: inf\n",
      "Gurobi Optimizer version 9.0.0 build v9.0.0rc2 (mac64)\n",
      "Optimize a model with 14021 rows, 14115 columns and 80384 nonzeros\n",
      "Model fingerprint: 0x18d5bcc5\n",
      "Variable types: 12512 continuous, 1603 integer (1603 binary)\n",
      "Coefficient statistics:\n",
      "  Matrix range     [1e+00, 1e+01]\n",
      "  Objective range  [1e+00, 2e+01]\n",
      "  Bounds range     [1e+00, 3e+00]\n",
      "  RHS range        [1e+00, 3e+00]\n",
      "Presolved: 10856 rows, 10620 columns, 60559 nonzeros\n",
      "\n",
      "Continuing optimization...\n",
      "\n",
      "     2     3  124.06793    1  447  337.00000   94.11129  72.1%  7106   13s\n",
      "     4     6  124.06793    2  439  337.00000  100.21270  70.3%  3881   15s\n",
      "    19    13  134.47735    5  485  337.00000  120.93829  64.1%  2889   20s\n",
      "    56    41  152.30664   10  454  337.00000  121.02084  64.1%  2035   25s\n",
      "H  111    67                     296.0000000  121.02084  59.1%  1482   28s\n",
      "H  154    94                     255.0000000  130.48233  48.8%  1196   29s\n",
      "   168   101  169.15067    8  403  255.00000  130.48233  48.8%  1143   31s\n",
      "*  215   116              31     214.0000000  130.48233  39.0%   976   32s\n",
      "   231   115  185.92727   11  376  214.00000  130.48233  39.0%   975   35s\n",
      "   277   125     cutoff   13       214.00000  130.48233  39.0%  1048   40s\n",
      "   349   126  200.00000   10  217  214.00000  147.17876  31.2%  1076   45s\n",
      "   417   129  188.98246   10  302  214.00000  148.33803  30.7%  1097   50s\n",
      "   523   124 infeasible    7       214.00000  153.00000  28.5%  1104   56s\n",
      "   624   124  178.27299   11  348  214.00000  164.50690  23.1%  1090   60s\n",
      "   710   106  191.50000   13  380  214.00000  172.08261  19.6%  1057   65s\n",
      "   859    42     cutoff    8       214.00000  178.02877  16.8%  1032   71s\n",
      "\n",
      "Cutting planes:\n",
      "  Gomory: 22\n",
      "  Cover: 355\n",
      "  Implied bound: 466\n",
      "  Clique: 23\n",
      "  MIR: 470\n",
      "  StrongCG: 5\n",
      "  Flow cover: 1307\n",
      "  GUB cover: 156\n",
      "  Inf proof: 25\n",
      "  Zero half: 432\n",
      "  RLT: 1777\n",
      "  Relax-and-lift: 259\n",
      "  BQP: 13\n",
      "\n",
      "Explored 951 nodes (945967 simplex iterations) in 71.43 seconds\n",
      "Thread count was 12 (of 12 available processors)\n",
      "\n",
      "Solution count 4: 214 255 296 337 \n"
     ]
    },
    {
     "name": "stdout",
     "output_type": "stream",
     "text": [
      "\n",
      "Optimal solution found (tolerance 1.00e-04)\n",
      "Best objective 2.140000000000e+02, best bound 2.140000000000e+02, gap 0.0000%\n",
      "Solved with MIPFocus: 2\n"
     ]
    }
   ],
   "source": [
    "# Example\n",
    "# Import Envs\n",
    "import sys\n",
    "import gurobipy as gp\n",
    "from gurobipy import GRB\n",
    "\n",
    "# Read model\n",
    "m = gp.read('class2_net12.lp')\n",
    "\n",
    "# Set a 2 second time limit\n",
    "# Below are equivalent\n",
    "# model.setParam(\"TimeLimit\", 600)\n",
    "# model.setParam(GRB.Param.TimeLimit, 600)\n",
    "# model.Params.TimeLimit = 600\n",
    "m.setParam(GRB.Param.TimeLimit, 2)\n",
    "\n",
    "# solve the model with diff values of MIPFocus\n",
    "bestModel = m.copy()\n",
    "bestModel.optimize()\n",
    "\n",
    "for i in range(1, 4):\n",
    "    # .reset() discard any solution information\n",
    "    m.reset()\n",
    "    m.Params.MIPFocus = i\n",
    "    m.optimize()\n",
    "    if bestModel.MIPGap > m.MIPGap:\n",
    "        bestModel, m = m, bestModel\n",
    "        \n",
    "# Set timeLimit to inf and print the bestModel resuslt\n",
    "del m\n",
    "bestModel.Params.timeLimit = 'default'\n",
    "bestModel.optimize()\n",
    "print('Solved with MIPFocus: %d' % bestModel.Params.MIPFocus)"
   ]
  },
  {
   "cell_type": "markdown",
   "metadata": {},
   "source": [
    "## Attribute - 属性 "
   ]
  },
  {
   "cell_type": "markdown",
   "metadata": {},
   "source": [
    "- 属性类别, 共10大类, 具体参见refman.pdf\n",
    "    - Model Attributes; 模型属性\n",
    "        - ModelSense; 模型优化方向(最大化/最小化)\n",
    "        - ObjVal; 当前目标值\n",
    "    - Variable Attributes; 变量属性\n",
    "        - Start; 初始解(给一个质量比较好的初始解)\n",
    "    - Linear Constraint Attributes; 线性约束属性\n",
    "    - Special-Ordered Set Constraints Attributes; SOS约束条件\n",
    "    - Quadratic Constraint Attributes; 二次约束属性\n",
    "    - General Constraint Attributes; 广义约束属性\n",
    "    - Quality Attributes; 解质量属性\n",
    "    - Multi-objective Attributes; 多目标属性\n",
    "    - Multi-Scenario Attributes;\n",
    "    - Batch Attributes; "
   ]
  },
  {
   "cell_type": "markdown",
   "metadata": {},
   "source": [
    "常用属性："
   ]
  },
  {
   "cell_type": "markdown",
   "metadata": {
    "ExecuteTime": {
     "end_time": "2020-01-14T02:34:05.275695Z",
     "start_time": "2020-01-14T02:34:05.271105Z"
    }
   },
   "source": [
    "|类别|属性名称|作用|取值|\n",
    "|:-|:-|:-|:-|\n",
    "|模型|ModelSense(可调整)|模型优化方向|1:最小化(默认); -1:最大化|\n",
    "|模型|ObjVal(不可调整)|目标函数值|double|\n",
    "|模型|Status(不可调整)|解的状态|1-15分别表示不同含义, 具体看refman|\n",
    "|变量|LB/UB(可调整)|变量下界/上界|double|\n",
    "|变量|Obj(可调整)|变量的线性目标系数|double|\n",
    "|变量|VType(可调整)|变量类型|'C':continuous; <br>'B':Binary; 'I':Integer; <br>'S':Semi-Continuous; <br>'N':Semi-Integer|\n",
    "|变量|X(不可调整)|变量值|double|\n",
    "|变量|Start(可调整)|变量的初始值|double|\n",
    "|约束|RHS(可调整)|线性约束的右端项|double|\n",
    "|约束|Pi(不可调整)|线性约束对应的对偶变量|double|"
   ]
  },
  {
   "cell_type": "code",
   "execution_count": 3,
   "metadata": {
    "ExecuteTime": {
     "end_time": "2020-01-14T02:32:38.271859Z",
     "start_time": "2020-01-14T02:32:38.269239Z"
    }
   },
   "outputs": [],
   "source": [
    "# 使用.setAttr(attrname, newvalue)来进行属性设置。 注: 并不是所有的属性都可以设置\n",
    "# 使用.getAttr(attrname, objs)来查询属性设置。\n",
    "\n",
    "\n",
    "# model.setParam(\"TimeLimit\", 600)\n",
    "# model.setParam(GRB.Param.TimeLimit, 600)\n",
    "# model.Params.TimeLimit = 600"
   ]
  },
  {
   "cell_type": "markdown",
   "metadata": {},
   "source": [
    "### Attribute Example"
   ]
  },
  {
   "cell_type": "code",
   "execution_count": 2,
   "metadata": {
    "ExecuteTime": {
     "end_time": "2020-02-25T09:02:04.401165Z",
     "start_time": "2020-02-25T09:02:04.398467Z"
    }
   },
   "outputs": [],
   "source": [
    "import gurobipy as gp\n",
    "from gurobipy import GRB"
   ]
  },
  {
   "cell_type": "code",
   "execution_count": 3,
   "metadata": {
    "ExecuteTime": {
     "end_time": "2020-02-25T09:02:04.676038Z",
     "start_time": "2020-02-25T09:02:04.670774Z"
    }
   },
   "outputs": [],
   "source": [
    "# Create Model\n",
    "m = gp.Model()\n",
    "\n",
    "# Create Vars\n",
    "x = m.addVar(obj=1, vtype=GRB.CONTINUOUS, name='x')\n",
    "y = m.addVar(obj=1, vtype=GRB.CONTINUOUS, name='y')\n",
    "z = m.addVar(obj=1, vtype=GRB.CONTINUOUS, name='z')\n",
    "\n",
    "# Write Model\n",
    "m.update()\n",
    "m.write('class2_Attribute_Example_1.lp')\n",
    "\n",
    "# Set the vtype of vars\n",
    "# Change the object of vars\n",
    "x.vtype = 'B'\n",
    "x.obj=100\n",
    "m.update()\n",
    "m.write('class2_Attribute_Example_2.lp')"
   ]
  },
  {
   "cell_type": "code",
   "execution_count": null,
   "metadata": {},
   "outputs": [],
   "source": []
  },
  {
   "cell_type": "markdown",
   "metadata": {},
   "source": [
    "# 自动参数调优"
   ]
  },
  {
   "cell_type": "markdown",
   "metadata": {},
   "source": [
    "## 简介"
   ]
  },
  {
   "cell_type": "markdown",
   "metadata": {},
   "source": [
    "1. 通过命令行:\n",
    "\n",
    "    grbtune TuneTimelimit=100 lp_file_path/mps_file_path\n",
    "    \n",
    "    \n",
    "2. 通过API：\n",
    "    \n",
    "    model.tune()"
   ]
  },
  {
   "cell_type": "markdown",
   "metadata": {},
   "source": [
    "常用调优参数:"
   ]
  },
  {
   "cell_type": "markdown",
   "metadata": {},
   "source": [
    "|参数名称|作用|取值|\n",
    "|:-|:-|:-|\n",
    "|tuneCriterion|调整调参准则|-1:默认, 缩短发现最优解所需的时间; <br>1:最优的Gap; <br>2:最好的可行解; <br>3:最好的bound|\n",
    "|tuneJobs|分布式并行调参|0:默认|\n",
    "|tuneOutPut|控制输出结果的量|0:没有输出; 1:发现最好参数组合时输出; 2:默认,输出试过的参数组合; 3:试过的参数组合和详细的求解器输出|\n",
    "|tuneResults|返回最优参数组合的数量|-1:默认, 按照调整参数的个数返回调参结果|\n",
    "|tuneTimelimit|调参时间|-1:默认, 自动选择时间|\n",
    "|tuneTrails|每组参数组合运行的次数|主要目的减小随机因素的影响|"
   ]
  },
  {
   "cell_type": "markdown",
   "metadata": {},
   "source": [
    "### Tune Example"
   ]
  },
  {
   "cell_type": "code",
   "execution_count": 7,
   "metadata": {
    "ExecuteTime": {
     "end_time": "2020-02-25T09:26:48.368270Z",
     "start_time": "2020-02-25T09:26:28.279863Z"
    }
   },
   "outputs": [
    {
     "name": "stdout",
     "output_type": "stream",
     "text": [
      "Read LP format model from file class2_net12.lp\n",
      "Reading time = 0.06 seconds\n",
      "R14022: 14021 rows, 14115 columns, 80384 nonzeros\n",
      "Changed value of parameter tuneResults to 1\n",
      "   Prev: -1  Min: -1  Max: 2000000000  Default: -1\n",
      "Changed value of parameter tuneTimeLimit to 20.0\n",
      "   Prev: -1.0  Min: -1.0  Max: inf  Default: -1.0\n",
      "\n",
      "Solving model using baseline parameter set with TimeLimit=2s\n",
      "\n",
      "Solving with random seed #1 ...\n",
      "Optimize a model with 14021 rows, 14115 columns and 80384 nonzeros\n",
      "Model fingerprint: 0x18d5bcc5\n",
      "Variable types: 12512 continuous, 1603 integer (1603 binary)\n",
      "Coefficient statistics:\n",
      "  Matrix range     [1e+00, 1e+01]\n",
      "  Objective range  [1e+00, 2e+01]\n",
      "  Bounds range     [1e+00, 3e+00]\n",
      "  RHS range        [1e+00, 3e+00]\n",
      "Presolve removed 3165 rows and 3495 columns\n",
      "Presolve time: 0.39s\n",
      "Presolved: 10856 rows, 10620 columns, 56999 nonzeros\n",
      "Variable types: 9507 continuous, 1113 integer (1113 binary)\n",
      "\n",
      "Root relaxation: objective 7.064054e+01, 2529 iterations, 0.22 seconds\n",
      "\n",
      "    Nodes    |    Current Node    |     Objective Bounds      |     Work\n",
      " Expl Unexpl |  Obj  Depth IntInf | Incumbent    BestBd   Gap | It/Node Time\n",
      "\n",
      "     0     0   70.64054    0  360          -   70.64054      -     -    0s\n",
      "     0     0          -    0               -   70.64054      -     -    2s\n",
      "\n",
      "Cutting planes:\n",
      "  Gomory: 21\n",
      "  Cover: 47\n",
      "  Implied bound: 47\n",
      "  Clique: 9\n",
      "  MIR: 39\n",
      "  Flow cover: 123\n",
      "  GUB cover: 15\n",
      "  Zero half: 15\n",
      "  RLT: 597\n",
      "  Relax-and-lift: 28\n",
      "  BQP: 10\n",
      "\n",
      "Explored 1 nodes (3893 simplex iterations) in 2.01 seconds\n",
      "Thread count was 12 (of 12 available processors)\n",
      "\n",
      "Solution count 0\n",
      "\n",
      "Time limit reached\n",
      "Best objective -, best bound 7.100000000000e+01, gap -\n",
      "\n",
      "-------------------------------------------------------------------------------\n",
      "\n",
      "Solving with random seed #2 ...\n",
      "Optimize a model with 14021 rows, 14115 columns and 80384 nonzeros\n",
      "Model fingerprint: 0x18d5bcc5\n",
      "Variable types: 12512 continuous, 1603 integer (1603 binary)\n",
      "Coefficient statistics:\n",
      "  Matrix range     [1e+00, 1e+01]\n",
      "  Objective range  [1e+00, 2e+01]\n",
      "  Bounds range     [1e+00, 3e+00]\n",
      "  RHS range        [1e+00, 3e+00]\n",
      "Presolve removed 3165 rows and 3495 columns\n",
      "Presolve time: 0.42s\n",
      "Presolved: 10856 rows, 10620 columns, 56999 nonzeros\n",
      "Variable types: 9507 continuous, 1113 integer (1113 binary)\n",
      "\n",
      "Root relaxation: objective 7.064054e+01, 2571 iterations, 0.28 seconds\n",
      "\n",
      "    Nodes    |    Current Node    |     Objective Bounds      |     Work\n",
      " Expl Unexpl |  Obj  Depth IntInf | Incumbent    BestBd   Gap | It/Node Time\n",
      "\n",
      "     0     0   70.64054    0  337          -   70.64054      -     -    0s\n",
      "H    0     0                     337.0000000   70.64054  79.0%     -    1s\n",
      "     0     0          -    0       337.00000   70.93825  79.0%     -    2s\n",
      "\n",
      "Cutting planes:\n",
      "  Gomory: 21\n",
      "  Cover: 55\n",
      "  Implied bound: 90\n",
      "  Clique: 9\n",
      "  MIR: 36\n",
      "  Flow cover: 133\n",
      "  GUB cover: 16\n",
      "  Zero half: 14\n",
      "  RLT: 565\n",
      "  Relax-and-lift: 26\n",
      "  BQP: 11\n",
      "\n",
      "Explored 1 nodes (7564 simplex iterations) in 2.01 seconds\n",
      "Thread count was 12 (of 12 available processors)\n",
      "\n",
      "Solution count 1: 337 \n",
      "\n",
      "Time limit reached\n",
      "Best objective 3.370000000000e+02, best bound 7.100000000000e+01, gap 78.9318%\n",
      "\n",
      "-------------------------------------------------------------------------------\n",
      "\n",
      "Solving with random seed #3 ...\n",
      "Optimize a model with 14021 rows, 14115 columns and 80384 nonzeros\n",
      "Model fingerprint: 0x18d5bcc5\n",
      "Variable types: 12512 continuous, 1603 integer (1603 binary)\n",
      "Coefficient statistics:\n",
      "  Matrix range     [1e+00, 1e+01]\n",
      "  Objective range  [1e+00, 2e+01]\n",
      "  Bounds range     [1e+00, 3e+00]\n",
      "  RHS range        [1e+00, 3e+00]\n",
      "Presolve removed 3165 rows and 3495 columns\n",
      "Presolve time: 0.36s\n",
      "Presolved: 10856 rows, 10620 columns, 56999 nonzeros\n",
      "Variable types: 9507 continuous, 1113 integer (1113 binary)\n",
      "\n",
      "Root relaxation: objective 7.064054e+01, 2031 iterations, 0.21 seconds\n",
      "\n",
      "    Nodes    |    Current Node    |     Objective Bounds      |     Work\n",
      " Expl Unexpl |  Obj  Depth IntInf | Incumbent    BestBd   Gap | It/Node Time\n",
      "\n",
      "     0     0   70.64054    0  343          -   70.64054      -     -    0s\n",
      "H    0     0                     337.0000000   70.64054  79.0%     -    0s\n",
      "     0     0   89.23658    0  490  337.00000   89.23658  73.5%     -    1s\n",
      "\n",
      "Cutting planes:\n",
      "  Gomory: 1\n",
      "  Cover: 18\n",
      "  Implied bound: 14\n",
      "  Clique: 2\n",
      "  MIR: 17\n",
      "  Flow cover: 68\n",
      "  GUB cover: 4\n",
      "  Zero half: 5\n",
      "  RLT: 491\n",
      "  Relax-and-lift: 13\n",
      "  BQP: 2\n",
      "\n",
      "Explored 1 nodes (6856 simplex iterations) in 2.01 seconds\n",
      "Thread count was 12 (of 12 available processors)\n",
      "\n",
      "Solution count 1: 337 \n",
      "\n",
      "Time limit reached\n",
      "Best objective 3.370000000000e+02, best bound 9.000000000000e+01, gap 73.2938%\n",
      "\n",
      "\n",
      "-------------------------------------------------------------------------------\n",
      "Begin tuning (baseline 1 no_solution, mean MIP gap 76.1%)...\n",
      "-------------------------------------------------------------------------------\n",
      "\n",
      "Testing candidate parameter set 2...\n",
      "\n",
      "\tMethod 2\n",
      "\n",
      "Solving with random seed #1 ... MIP gap -\n",
      "Solving with random seed #2 ... MIP gap -\n",
      "\n",
      "Total elapsed tuning time 10s (10s remaining)\n",
      "\n",
      "-------------------------------------------------------------------------------\n",
      "\n",
      "Testing candidate parameter set 3...\n",
      "\n",
      "\tRINS 500\n",
      "\n",
      "Solving with random seed #1 ... MIP gap -\n",
      "Solving with random seed #2 ... MIP gap 78.9%\n",
      "Solving with random seed #3 ... MIP gap 73.3%\n",
      "\n",
      "Total elapsed tuning time 16s (4s remaining)\n",
      "\n",
      "-------------------------------------------------------------------------------\n",
      "\n",
      "Testing candidate parameter set 4...\n",
      "\n",
      "\tNormAdjust 2\n",
      "\n",
      "Solving with random seed #1 ... MIP gap -\n",
      "Solving with random seed #2 ... \n",
      "\n",
      "Tune time limit reached.\n",
      "\n",
      "-------------------------------------------------------------------------------\n",
      "\n",
      "Tested 3 parameter sets in 20.01s\n",
      "\n",
      "Baseline parameter set: 1 no_solution, mean MIP gap 76.1%\n",
      "\n",
      "-------------------------------------------------------------------------------\n",
      "\n",
      "Tested 3 parameter sets in 20.02s\n",
      "Unable to improve on baseline parameter set.\n",
      "\n"
     ]
    }
   ],
   "source": [
    "import gurobipy as gp\n",
    "from gurobipy import GRB\n",
    "\n",
    "# Load Model\n",
    "model = gp.read('class2_net12.lp')\n",
    "\n",
    "# Set the TuneResults parameter to 1\n",
    "model.Params.tuneResults = 1\n",
    "model.Params.tuneTimeLimit = 20\n",
    "\n",
    "# Tune the model\n",
    "model.tune()\n",
    "\n",
    "# 该案例因无更优参数，所以不会输出\n",
    "# 若调参后发现了更好的参数组合\n",
    "if model.tuneResultCount > 0:\n",
    "\n",
    "    # Load the best tuned parameters into the model\n",
    "    # index从0开始，第0个为最好的参数\n",
    "    model.getTuneResult(0)\n",
    "\n",
    "    # Write tuned parameters to a file\n",
    "    model.write('class2_tune.prm')\n",
    "\n",
    "    # Solve the model using the tuned parameters\n",
    "    model.optimize()"
   ]
  },
  {
   "cell_type": "code",
   "execution_count": null,
   "metadata": {},
   "outputs": [],
   "source": []
  },
  {
   "cell_type": "markdown",
   "metadata": {},
   "source": [
    "# 特殊约束的表达方式及使用"
   ]
  },
  {
   "cell_type": "markdown",
   "metadata": {},
   "source": [
    "## 广义约束"
   ]
  },
  {
   "cell_type": "markdown",
   "metadata": {},
   "source": [
    "- 广义约束约束的表达方式和使用\n",
    "    - 广义约束 - Max | 一组变量(包含常数)中取最大\n",
    "        - addGenConstrMax(resvar, vars, constant, name)\n",
    "            - resvar 变量(x = max(x1, x2, 10))\n",
    "            - vars 一组变量(可以包含常数)\n",
    "            - constant 常数\n",
    "            - name 广义约束名称\n",
    "    - 广义约束 - Min | 一组变量(包含常数)中取最小\n",
    "        - addGenConstrMin(resvar, vars, constant, name)\n",
    "            - resvar 变量(x = min(x1, x2, 10))\n",
    "            - vars 一组变量(可以包含常数)\n",
    "            - constant 常数\n",
    "            - name 广义约束名称\n",
    "    - 广义约束 - Abs | 取绝对值\n",
    "        - addGenConstrMin(resvar, argvars, name)\n",
    "            - resvar 变量\n",
    "            - argvars 变量\n",
    "            - name 广义约束名称\n",
    "    - 广义约束 - And | 一组变量的值全等于1则取1，否则取0. 注: 所有输入的变量均被视为binary，不论之前被定义为什么类型\n",
    "        - addGenConstrAnd(resvar, vars, name)\n",
    "            - resvar 变量\n",
    "            - vars 变量\n",
    "            - name 广义约束名称    \n",
    "    - 广义约束 - Or | 一组变量的值有一个等于1则取1，否则取0. 注: 所有输入的变量均被视为binary，不论之前被定义为什么类型\n",
    "        - addGenConstrAnd(resvar, vars, name)\n",
    "            - resvar 变量\n",
    "            - vars 变量\n",
    "            - name 广义约束名称     \n",
    "    - 广义约束 - Indicator | 指示变量的值为1，约束成立，否则约束可被违反\n",
    "        - addGenConstrIndicator(binvar, binval, lhs, sense, rhs, name)\n",
    "            - binvar 指示变量\n",
    "            - binval 指示变量的值(boolen)\n",
    "            - lhs 约束左端项\n",
    "            - sense 约束符号\n",
    "            - rhs 约束右端项\n",
    "            - name 广义约束名称            "
   ]
  },
  {
   "cell_type": "markdown",
   "metadata": {},
   "source": [
    "### Gneral Constraints Example"
   ]
  },
  {
   "cell_type": "code",
   "execution_count": 8,
   "metadata": {
    "ExecuteTime": {
     "end_time": "2020-02-25T09:26:48.393994Z",
     "start_time": "2020-02-25T09:26:48.390765Z"
    }
   },
   "outputs": [],
   "source": [
    "# Max / Min / Abs / And / Or / Indicator\n",
    "# general constraint example\n",
    "\n",
    "# MAX\n",
    "# z = max(x, y, 3)\n",
    "# -->\n",
    "# m.addGenConstrMax(z, [x, y], 3, 'maxconstr')\n",
    "# m.addGenConstrMax(z, [x, y, 3], name='maxconstr')\n",
    "# m.addConstr(z == max_([x, y, 3]), 'maxconstr')\n",
    "# m.addConstr(z == max_(x, y, 3), 'maxconstr')\n",
    "\n",
    "# MIN\n",
    "# z = min(x, y, 3)\n",
    "# -->\n",
    "# m.addGenConstrMin(z, [x, y], 3, 'minconstr')\n",
    "# m.addGenConstrMin(z, [x, y, 3], name='minconstr')\n",
    "# m.addConstr(z == min_([x, y, 3]), 'minconstr')\n",
    "# m.addConstr(z == min_(x, y, 3), 'minconstr')\n",
    "\n",
    "# ABS\n",
    "# z = |y|\n",
    "# -->\n",
    "# m.addGenConstrAbs(z, y, 'absconstr')\n",
    "# m.addConstr(z == abs_(y), 'absconstr')\n",
    "\n",
    "# AND\n",
    "# x=1且y=1，则z=1；否则为z=0\n",
    "# -->\n",
    "# m.addGenConstrAnd(z, [x,y], 'andconstr')\n",
    "# m.addConstr(z == and_(x,y), 'andconstr')\n",
    "\n",
    "# OR\n",
    "# x=1或y=1，则z=1；否则为z=0\n",
    "# -->\n",
    "# m.addGenConstrOr(z, [x,y], 'andconstr')\n",
    "# m.addConstr(z == or_(x,y), 'andconstr')\n",
    "\n",
    "# INDICATOR\n",
    "# 例子: 如果z=1， 则 x+y<=4; 若z!=1, 则无约束\n",
    "# -->\n",
    "# m.addGenConstrIndicator(z, True, x+y, GRB.LESS_EQUAL, 4, 'indicatorconstr')\n",
    "# m.addConstr((z==1) >> (x+y<=4))"
   ]
  },
  {
   "cell_type": "code",
   "execution_count": 15,
   "metadata": {
    "ExecuteTime": {
     "end_time": "2020-02-25T09:35:14.420520Z",
     "start_time": "2020-02-25T09:35:14.413041Z"
    }
   },
   "outputs": [],
   "source": [
    "import gurobipy as gp\n",
    "from gurobipy import GRB\n",
    "\n",
    "# Create Model\n",
    "m = gp.Model()\n",
    "\n",
    "# Create Vars\n",
    "x = m.addVar(vtype=GRB.CONTINUOUS, name='x')\n",
    "y = m.addVar(vtype=GRB.CONTINUOUS, name='y')\n",
    "z = m.addVar(vtype=GRB.CONTINUOUS, name='z')\n",
    "\n",
    "# Set Objective\n",
    "m.setObjective(x + y + z, GRB.MAXIMIZE)\n",
    "\n",
    "# MAX\n",
    "m.addGenConstrMax(z, [x, y, 3], name='maxconstr')\n",
    "# MIN\n",
    "m.addGenConstrMin(z, [x, y, 3], name='minconstr')\n",
    "# ABS\n",
    "m.addGenConstrAbs(z, y, name='absconstr')\n",
    "# AND\n",
    "m.addGenConstrAnd(z, [x, y], name='andconstr')\n",
    "# OR\n",
    "m.addGenConstrOr(z, [x, y], name='orconstr')\n",
    "# INDICATOR\n",
    "m.addGenConstrIndicator(z, True, x+y, GRB.LESS_EQUAL, 4, 'indicatorconstr')\n",
    "\n",
    "# Write\n",
    "m.write('class2_GenConstr_Example.lp')"
   ]
  },
  {
   "cell_type": "markdown",
   "metadata": {},
   "source": [
    "## 其他特殊约束"
   ]
  },
  {
   "cell_type": "markdown",
   "metadata": {},
   "source": [
    "- 其他特殊约束的表达方式和使用\n",
    "    - 范围约束\n",
    "        - addRange(expr, lower, upper, name) | 一个表达式需要在一定范围内\n",
    "            - expr 表达式\n",
    "            - lower 下界\n",
    "            - upper 上界\n",
    "            - name 约束名称\n",
    "    - SOS(Special-Ordered Set)约束 | \n",
    "        - addSOS(type, vars, wts=None)\n",
    "            - type 约束种类(GRB.SOS_TYPE1 或者 GRB.SOS_TYPE2)\n",
    "                - GRB.SOS_TYPE1 表示一组有序变量中最多有一个变量取值不为0\n",
    "                - GRB.SOS_TYPE2 表示一组有序变量中最多有两个变量取值不为0,且非零变量相邻。变量是否相邻由权重决定。\n",
    "            - vars 变量\n",
    "            - wts 变量对应的权重, 且权重唯一, 默认1,2,3.....\n",
    "            "
   ]
  },
  {
   "cell_type": "markdown",
   "metadata": {},
   "source": [
    "### Special Constraints Example"
   ]
  },
  {
   "cell_type": "code",
   "execution_count": 99,
   "metadata": {
    "ExecuteTime": {
     "end_time": "2020-01-14T07:13:30.496507Z",
     "start_time": "2020-01-14T07:13:30.494253Z"
    }
   },
   "outputs": [],
   "source": [
    "# RANGE\n",
    "# 5 <= x + y + z <= 10\n",
    "# -->\n",
    "# m.addRange(x+y+z, 5, 10, 'c')\n",
    "# m.addConstr(x+y+z==[5,10])\n",
    "# 当然也可以拆成两个约束来写\n",
    "\n",
    "# SOS\n",
    "# model.addSOS(GRB.SOS_TYPE2, [x,y,z], [1,2,4])"
   ]
  },
  {
   "cell_type": "code",
   "execution_count": 16,
   "metadata": {
    "ExecuteTime": {
     "end_time": "2020-02-25T09:36:53.244641Z",
     "start_time": "2020-02-25T09:36:53.238477Z"
    }
   },
   "outputs": [],
   "source": [
    "import gurobipy as gp\n",
    "from gurobipy import GRB\n",
    "\n",
    "# Create Model\n",
    "m = gp.Model()\n",
    "\n",
    "# Create Vars\n",
    "x = m.addVar(obj=1, vtype=GRB.CONTINUOUS, name='x')\n",
    "y = m.addVar(obj=1, vtype=GRB.CONTINUOUS, name='y')\n",
    "z = m.addVar(obj=1, vtype=GRB.CONTINUOUS, name='z')\n",
    "\n",
    "# RANGE\n",
    "m.addRange(x+y+z, 5, 10, 'c')\n",
    "# SOS\n",
    "# SOS1 - x与y相邻，y与z相邻\n",
    "m.addSOS(GRB.SOS_TYPE2, [x,y,z], [1,2,4])\n",
    "# SOS2 - y与z相邻，z与x相邻\n",
    "m.addSOS(GRB.SOS_TYPE2, [x,y,z], [1,4,2])\n",
    "\n",
    "\n",
    "# Write\n",
    "m.write('class2_SpeConstr_Example.lp')"
   ]
  },
  {
   "cell_type": "code",
   "execution_count": null,
   "metadata": {},
   "outputs": [],
   "source": []
  },
  {
   "cell_type": "markdown",
   "metadata": {},
   "source": [
    "# 特殊目标优化的表达方式及使用"
   ]
  },
  {
   "cell_type": "markdown",
   "metadata": {},
   "source": [
    "## 多目标优化"
   ]
  },
  {
   "cell_type": "markdown",
   "metadata": {
    "ExecuteTime": {
     "end_time": "2020-01-14T06:21:33.302306Z",
     "start_time": "2020-01-14T06:21:33.297190Z"
    }
   },
   "source": [
    "- 目标函数(多个目标) \n",
    "    - setObjectiveN(expr, index, priority, weight, abstol, reltol, name)\n",
    "        - expr 目标函数表达式\n",
    "        - index 目标函数对应的序号(0,1,2,...)\n",
    "        - priority 优先级(整数值)\n",
    "        - weight 权重(浮点数)\n",
    "        - abstol 允许的目标函数值最大的降低值(浮点数)\n",
    "        - reltol 允许的目标函数值最大的降低至reltol*|目标函数值|(浮点数)\n",
    "        - name 目标函数名\n",
    "        - 注: 所有的目标函数均需为线性的，且目标函数的优化方向一致(全最大化或全最小化)。若优化方向不一致,可以通过乘'-1'实现不同的优化方向\n",
    "    \n",
    "    - 可以通过参数ObjNumber选择特定的目标，进而获得对应的目标函数值"
   ]
  },
  {
   "cell_type": "markdown",
   "metadata": {},
   "source": [
    "### Multi-Objective Example"
   ]
  },
  {
   "cell_type": "code",
   "execution_count": 82,
   "metadata": {
    "ExecuteTime": {
     "end_time": "2020-01-14T06:29:23.077036Z",
     "start_time": "2020-01-14T06:29:23.074124Z"
    }
   },
   "outputs": [],
   "source": [
    "# Gurobi支持三种多目标模式\n",
    "# 1. Blend(合成型) | 有权重，没有优先级\n",
    "#     Obj1 = x + y, weight1 = 1\n",
    "#     Obj2 = x - 5y, weight2 = -2\n",
    "#     Gurobi会混合这两个目标值形成 -> 1*(x+y) - 2*(x-5y) -> -x+11y\n",
    "# 2. Hierarchial(分层性) | 有优先级\n",
    "#     Obj1 = x + y, priority1 = 10\n",
    "#     Obj2 = x - 5y, priority2 = 5\n",
    "#     Gurobi按照优先级大小优化(先优化Obj1), 若没有设定abstol或reltol, 在优化低优先级目标时, 不会改变高优先级的目标值。\n",
    "#     假设Obj1=5, 在优化Obj2时只能在是的Obj1=5的所有解中挑选最优解(当未设置abstol与reltol时)\n",
    "# 3. 混合以上两种"
   ]
  },
  {
   "cell_type": "code",
   "execution_count": 84,
   "metadata": {
    "ExecuteTime": {
     "end_time": "2020-01-14T06:31:55.945928Z",
     "start_time": "2020-01-14T06:31:55.943284Z"
    }
   },
   "outputs": [],
   "source": [
    "# 1. Blend\n",
    "#     m.setObjectiveN(x+y+3*z, index=0, weight=0.1, name='obj1')\n",
    "#     m.setObjectiveN(2*x+y+3*z, index=1, weight=3, name='obj2')\n",
    "# 2. Hierarchial\n",
    "#     m.setObjectiveN(x+y+3*z, index=0, priority=1, name='obj1')\n",
    "#     m.setObjectiveN(2*x+y+3*z, index=1, priority=3, name='obj2')\n",
    "# 3. 混合以上两种\n",
    "#     m.setObjectiveN(x+y+3*z, index=0, weight=0.1, priority=1, name='obj1')\n",
    "#     m.setObjectiveN(2*x+y+3*z, index=1, weight=3, priority=3, name='obj2')"
   ]
  },
  {
   "cell_type": "code",
   "execution_count": 86,
   "metadata": {
    "ExecuteTime": {
     "end_time": "2020-01-14T06:37:26.824436Z",
     "start_time": "2020-01-14T06:37:26.822075Z"
    }
   },
   "outputs": [],
   "source": [
    "# 通过参数ObjNumber选择特定的目标，进而获得对应的目标函数值\n",
    "# for i in range(model.NumObj):\n",
    "#     modle.setParam(GRB.Param.ObjNumber, i)\n",
    "#     print('Obj%d =' %(i+1), model.ObjNVal)"
   ]
  },
  {
   "cell_type": "markdown",
   "metadata": {},
   "source": [
    "   假设工厂需要把N项工作分配给N个工人, 且每项工作只能由一个工人做, 每位工人也只能做一项工作。已知工人i(i$\\in$N)处理工作j(j$\\in$N)需要时间$T_{ij}$, 获得的利润为$C_{ij}$。找出一种安排方案使得完成所有工作需要的总时间最短且获得的总利润最大。\n",
    "   \n",
    "$$obj1: min \\sum_{i=1}^{N} \\sum_{j=1}^{N} T_{ij}x_{ij} \\\\\n",
    "obj2: max \\sum_{i=1}^{N} \\sum_{j=1}^{N} C_{ij}x_{ij} \\\\\n",
    "\\sum_{i=1}^{N}x_{ij}=1, \\forall j \\in N \\\\\n",
    "\\sum_{j=1}^{N}x_{ij}=1, \\forall i \\in N \\\\\n",
    "x_{ij} \\in {0,1}, \\forall i,j \\in N\n",
    "$$"
   ]
  },
  {
   "cell_type": "code",
   "execution_count": 17,
   "metadata": {
    "ExecuteTime": {
     "end_time": "2020-02-25T09:39:14.636272Z",
     "start_time": "2020-02-25T09:39:14.562821Z"
    }
   },
   "outputs": [
    {
     "name": "stdout",
     "output_type": "stream",
     "text": [
      "Changed value of parameter LogFile to class2_MultiAssignmentLog.log\n",
      "   Prev:   Default: \n",
      "Gurobi Optimizer version 9.0.0 build v9.0.0rc2 (mac64)\n",
      "Optimize a model with 40 rows, 400 columns and 800 nonzeros\n",
      "Model fingerprint: 0x2b0bae5e\n",
      "Variable types: 0 continuous, 400 integer (400 binary)\n",
      "Coefficient statistics:\n",
      "  Matrix range     [1e+00, 1e+00]\n",
      "  Objective range  [1e+00, 1e+02]\n",
      "  Bounds range     [1e+00, 1e+00]\n",
      "  RHS range        [1e+00, 1e+00]\n",
      "\n",
      "---------------------------------------------------------------------------\n",
      "Multi-objectives: starting optimization with 2 objectives (1 combined) ...\n",
      "---------------------------------------------------------------------------\n",
      "---------------------------------------------------------------------------\n",
      "\n",
      "Multi-objectives: optimize objective 1 (weighted) ...\n",
      "---------------------------------------------------------------------------\n",
      "\n",
      "Optimize a model with 40 rows, 400 columns and 800 nonzeros\n",
      "Variable types: 0 continuous, 400 integer (400 binary)\n",
      "Coefficient statistics:\n",
      "  Matrix range     [1e+00, 1e+00]\n",
      "  Objective range  [1e-01, 5e+01]\n",
      "  Bounds range     [1e+00, 1e+00]\n",
      "  RHS range        [1e+00, 1e+00]\n",
      "Found heuristic solution: objective -484.7000000\n",
      "Presolve time: 0.00s\n",
      "Presolved: 40 rows, 400 columns, 800 nonzeros\n",
      "Variable types: 0 continuous, 400 integer (400 binary)\n",
      "\n",
      "Root relaxation: objective -8.391000e+02, 40 iterations, 0.00 seconds\n",
      "\n",
      "    Nodes    |    Current Node    |     Objective Bounds      |     Work\n",
      " Expl Unexpl |  Obj  Depth IntInf | Incumbent    BestBd   Gap | It/Node Time\n",
      "\n",
      "*    0     0               0    -839.1000000 -839.10000  0.00%     -    0s\n",
      "\n",
      "Explored 0 nodes (40 simplex iterations) in 0.03 seconds\n",
      "Thread count was 12 (of 12 available processors)\n",
      "\n",
      "Solution count 2: -839.1 -484.7 \n",
      "No other solutions better than -839.1\n",
      "\n",
      "Optimal solution found (tolerance 1.00e-04)\n",
      "Best objective -8.391000000000e+02, best bound -8.391000000000e+02, gap 0.0000%\n",
      "\n",
      "---------------------------------------------------------------------------\n",
      "Multi-objectives: solved in 0.05 seconds, solution count 2\n",
      "\n",
      "工人 1 \t ----> \t 工作 15\n",
      "工人 2 \t ----> \t 工作 18\n",
      "工人 3 \t ----> \t 工作 13\n",
      "工人 4 \t ----> \t 工作 12\n",
      "工人 5 \t ----> \t 工作 6\n",
      "工人 6 \t ----> \t 工作 11\n",
      "工人 7 \t ----> \t 工作 5\n",
      "工人 8 \t ----> \t 工作 19\n",
      "工人 9 \t ----> \t 工作 17\n",
      "工人 10 \t ----> \t 工作 4\n",
      "工人 11 \t ----> \t 工作 8\n",
      "工人 12 \t ----> \t 工作 1\n",
      "工人 13 \t ----> \t 工作 10\n",
      "工人 14 \t ----> \t 工作 2\n",
      "工人 15 \t ----> \t 工作 9\n",
      "工人 16 \t ----> \t 工作 14\n",
      "工人 17 \t ----> \t 工作 3\n",
      "工人 18 \t ----> \t 工作 16\n",
      "工人 19 \t ----> \t 工作 20\n",
      "工人 20 \t ----> \t 工作 7\n",
      "Obj1 =  669.0\n",
      "Obj2 =  -1812.0\n"
     ]
    }
   ],
   "source": [
    "import gurobipy as gp\n",
    "import random\n",
    "from gurobipy import GRB\n",
    "\n",
    "\n",
    "# 设定工作与工人数量； 还有种子值\n",
    "N = 20\n",
    "random.seed(1)\n",
    "\n",
    "# 产生随机 Tmatrix 和 Cmatrix\n",
    "Tmatrix = {(i+1,j+1):random.randint(0,100) for i in range(N) for j in range(N)}\n",
    "Cmatrix = {(i+1,j+1):random.randint(0,100) for i in range(N) for j in range(N)}\n",
    "\n",
    "# 定义 model\n",
    "m = gp.Model('MultiAssignment')\n",
    "\n",
    "# 添加变量\n",
    "x = m.addVars(Tmatrix.keys(), vtype=GRB.BINARY, name='x')\n",
    "\n",
    "# 添加约束\n",
    "m.addConstrs((x.sum('*',j+1)== 1 for j in range(N)),'C1')\n",
    "m.addConstrs((x.sum(i+1,'*')== 1 for i in range(N)),'C2')\n",
    " \n",
    "# 设置多目标 权重\n",
    "# 所有目标函数，默认求min\n",
    "# 总和就是目标函数为 min(0.1*Time - 0.5*Cost)\n",
    "m.setObjectiveN(x.prod(Tmatrix),  index=0, weight=0.1, name='obj1')\n",
    "m.setObjectiveN(-x.prod(Cmatrix), index=1, weight=0.5, name='obj2')\n",
    "\n",
    "# # 设置多目标 优先级\n",
    "# m.setObjectiveN(x.prod(Tmatrix),  index=0,  priority=1, abstol=0, reltol=0, name='obj1')\n",
    "# m.setObjectiveN(-x.prod(Cmatrix), index=1,  priority=2, abstol=100, reltol=0, name='obj2')\n",
    "\n",
    "# 设置logFile的名称\n",
    "m.setParam(GRB.Param.LogFile, 'class2_MultiAssignmentLog.log')\n",
    "\n",
    "# 启动求解\n",
    "m.optimize()\n",
    "\n",
    "# 获得求解结果\n",
    "for i in Tmatrix.keys():\n",
    "    if x[i].x>0.9:\n",
    "        print (\"工人 %d \\t ----> \\t 工作 %d\" %(i[0], i[1]))\n",
    "\n",
    "for i in range(2):\n",
    "    m.setParam(GRB.Param.ObjNumber, i)\n",
    "    print('Obj%d = '%(i+1), m.ObjNVal)\n",
    "\n",
    "#将model输出到 lp格式文件中\n",
    "m.write('class2_MultiAssinment.lp')"
   ]
  },
  {
   "cell_type": "markdown",
   "metadata": {},
   "source": [
    "## 分段线性目标"
   ]
  },
  {
   "cell_type": "markdown",
   "metadata": {},
   "source": [
    "- 目标函数(分段线性目标)\n",
    "    - setPWLObj(var, x, y) | 对一些非线性模型，可以使用这一功能去逼近\n",
    "        - var 指定变量的目标函数是分段线性\n",
    "        - x 定义分段线性目标函数的点的横坐标值(非减序列)\n",
    "        - y 定义分段线性目标函数的点的纵坐标值"
   ]
  },
  {
   "cell_type": "markdown",
   "metadata": {},
   "source": [
    "### Piecewise Linear-Objective Example"
   ]
  },
  {
   "cell_type": "markdown",
   "metadata": {},
   "source": [
    "Example1:\n",
    "\n",
    "$$\n",
    "Max \\ f(x) = \n",
    "\\begin{cases} \n",
    "x \\ \\ \\ \\ \\ \\ \\ \\ \\ \\ \\ \\ \\ \\ \\ \\ \\ \\ (0 <= x <= 2) \\\\\n",
    "\\frac{1}{3}x + \\frac{4}{3} \\ \\ \\ \\ \\ \\ \\ \\ (2 <= x <= 5)\n",
    "\\end{cases}\n",
    "$$"
   ]
  },
  {
   "cell_type": "code",
   "execution_count": 100,
   "metadata": {
    "ExecuteTime": {
     "end_time": "2020-01-14T07:30:35.668379Z",
     "start_time": "2020-01-14T07:30:35.665990Z"
    }
   },
   "outputs": [],
   "source": [
    "# 相当于取了(0,0)、(2,2)、(5,3)三个点, 然后自动将这三个点用两条线段相连\n",
    "# m.setPWLObj(x, [0,2,5], [0,2,3])\n",
    "# m.setAttr(GRB.Attr.ModelSense, -1)"
   ]
  },
  {
   "cell_type": "code",
   "execution_count": 18,
   "metadata": {
    "ExecuteTime": {
     "end_time": "2020-02-25T09:40:12.216567Z",
     "start_time": "2020-02-25T09:40:12.196104Z"
    }
   },
   "outputs": [
    {
     "name": "stdout",
     "output_type": "stream",
     "text": [
      "Gurobi Optimizer version 9.0.0 build v9.0.0rc2 (mac64)\n",
      "Optimize a model with 0 rows, 1 columns and 0 nonzeros\n",
      "Model fingerprint: 0x6c8074b8\n",
      "Model has 1 piecewise-linear objective term\n",
      "Variable types: 1 continuous, 0 integer (0 binary)\n",
      "Coefficient statistics:\n",
      "  Matrix range     [0e+00, 0e+00]\n",
      "  Objective range  [0e+00, 0e+00]\n",
      "  Bounds range     [5e+00, 5e+00]\n",
      "  RHS range        [0e+00, 0e+00]\n",
      "Found heuristic solution: objective 0.0000000\n",
      "Presolve removed 0 rows and 1 columns\n",
      "Presolve time: 0.00s\n",
      "Presolve: All rows and columns removed\n",
      "\n",
      "Explored 0 nodes (0 simplex iterations) in 0.01 seconds\n",
      "Thread count was 1 (of 12 available processors)\n",
      "\n",
      "Solution count 1: 0 \n",
      "\n",
      "Optimal solution found (tolerance 1.00e-04)\n",
      "Best objective 0.000000000000e+00, best bound 0.000000000000e+00, gap 0.0000%\n",
      "Obj: 0\n",
      "x 0.000000\n"
     ]
    }
   ],
   "source": [
    "# Create Model\n",
    "m = gp.Model()\n",
    "\n",
    "# Create Vars\n",
    "x = m.addVar(ub=5, vtype=GRB.CONTINUOUS, name='x')\n",
    "\n",
    "# PWL\n",
    "m.setPWLObj(x, [0, 2, 5], [0, 2, 3])\n",
    "\n",
    "#启动求解\n",
    "m.optimize()\n",
    "\n",
    "#获得求解结果\n",
    "print('Obj: %g' % m.ObjVal)\n",
    "for v in m.getVars():\n",
    "    print('%s %f' % (v.VarName, v.X))\n",
    "\n",
    "# write file\n",
    "m.write('class2_PiecewiseLinear_Example_1.lp')"
   ]
  },
  {
   "cell_type": "markdown",
   "metadata": {},
   "source": [
    "Example2: 使用分段目标逼近非线性(其实该模型为二阶线性，可以直接求的，只不过这里使用线性模型去做逼近这件事)\n",
    "\n",
    "$$min \\ f(x) = (x-1)^2 + x, x\\in [0,10]$$"
   ]
  },
  {
   "cell_type": "code",
   "execution_count": 110,
   "metadata": {
    "ExecuteTime": {
     "end_time": "2020-01-14T07:56:26.366479Z",
     "start_time": "2020-01-14T07:56:26.305758Z"
    }
   },
   "outputs": [
    {
     "name": "stdout",
     "output_type": "stream",
     "text": [
      "Gurobi Optimizer version 9.0.0 build v9.0.0rc2 (mac64)\n",
      "Optimize a model with 0 rows, 1 columns and 0 nonzeros\n",
      "Model fingerprint: 0x7120dcfc\n",
      "Model has 1 piecewise-linear objective term\n",
      "Coefficient statistics:\n",
      "  Matrix range     [0e+00, 0e+00]\n",
      "  Objective range  [0e+00, 0e+00]\n",
      "  Bounds range     [1e+01, 1e+01]\n",
      "  RHS range        [0e+00, 0e+00]\n",
      "Presolve time: 0.01s\n",
      "Presolved: 0 rows, 1 columns, 0 nonzeros\n",
      "\n",
      "Iteration    Objective       Primal Inf.    Dual Inf.      Time\n",
      "       0    2.0000000e+00   0.000000e+00   0.000000e+00      0s\n",
      "\n",
      "Solved in 0 iterations and 0.01 seconds\n",
      "Optimal objective  2.000000010e+00\n",
      "Obj: 2\n",
      "x 1.000100\n"
     ]
    }
   ],
   "source": [
    "import gurobipy as gp\n",
    "from gurobipy import GRB\n",
    "\n",
    "try:\n",
    "    #分割的密度\n",
    "    npts = 10000\n",
    "    \n",
    "    #定义model\n",
    "    m = gp.Model()               \n",
    "    \n",
    "    #添加变量\n",
    "    x = m.addVar(ub=10, vtype=GRB.CONTINUOUS, name='x')\n",
    "    \n",
    "    #定义分割点\n",
    "    px = []\n",
    "    f = []\n",
    "    for i in range(npts):\n",
    "        px.append(10 * i / (npts - 1))\n",
    "        f.append((px[i]*px[i])-2*px[i] + 3)\n",
    "    m.setPWLObj(x, px, f)\n",
    "    \n",
    "    #启动求解\n",
    "    m.optimize()\n",
    "    \n",
    "    #获得求解结果\n",
    "    print('Obj: %g' % m.ObjVal)\n",
    "    for v in m.getVars():\n",
    "        print('%s %f' % (v.VarName, v.X))\n",
    "    \n",
    "    m.write(\"class2_PiecewiseLinear_Example_2.lp\")\n",
    "\n",
    "except GurobiError:\n",
    "    print('Error reported') "
   ]
  },
  {
   "cell_type": "code",
   "execution_count": null,
   "metadata": {},
   "outputs": [],
   "source": []
  },
  {
   "cell_type": "markdown",
   "metadata": {},
   "source": [
    "# 多个解集合的实现方式及使用"
   ]
  },
  {
   "cell_type": "markdown",
   "metadata": {},
   "source": [
    "## 次优解"
   ]
  },
  {
   "cell_type": "code",
   "execution_count": 112,
   "metadata": {
    "ExecuteTime": {
     "end_time": "2020-01-14T08:11:04.036319Z",
     "start_time": "2020-01-14T08:11:04.033620Z"
    }
   },
   "outputs": [],
   "source": [
    "# Gurobi在搜寻最优解过程中，会找到一些次优解(sub-optimal solutions), 有时候用户也希望知道次优解的具体情况。\n",
    "# Gurobi会将计算过程中发现的所有解记录在Solution Pool里供用户查询"
   ]
  },
  {
   "cell_type": "markdown",
   "metadata": {},
   "source": [
    "|参数名称|作用|取值|\n",
    "|:-|:-|:-|\n",
    "|PoolSearchMode|发现解的方法|0:默认。搜寻最优解; <br>1:搜寻更多的解但是不保证解的质量; <br>2:尝试寻找n个解(n由PoolSolutions设定)|\n",
    "|PoolGap|设定Pool的Gap值|Infinity, 默认。所有解与最优解的gap小于设定的值|\n",
    "|PoolSolutions|设定Pool存放解的数量|10, 默认。设定pool里储存解的个数|"
   ]
  },
  {
   "cell_type": "code",
   "execution_count": 113,
   "metadata": {
    "ExecuteTime": {
     "end_time": "2020-01-14T08:15:51.460653Z",
     "start_time": "2020-01-14T08:15:51.457832Z"
    }
   },
   "outputs": [],
   "source": [
    "# Solution Pool里的解按照质量非增排序，并从零开始编号。\n",
    "# 因此，查询具体解的情况(变量值和对应目标值等)，需要先设定SolutionNumber的值，\n",
    "# 然后通过模型属性PoolObjVal和变量属性Xn获得目标值和变量值\n",
    "\n",
    "# 例如: 查询Pool里面第四个解的目标值和变量值\n",
    "# model.setparam(GRB.Param.SolutionNumber, 3)\n",
    "# print('obj=', model.PoolObjVal)\n",
    "# for i in range(model.NumVars):\n",
    "#     print(Vars[i].VarName, '=', Vars[i].Xn)"
   ]
  },
  {
   "cell_type": "code",
   "execution_count": 114,
   "metadata": {
    "ExecuteTime": {
     "end_time": "2020-01-14T08:33:17.988190Z",
     "start_time": "2020-01-14T08:33:17.903704Z"
    }
   },
   "outputs": [
    {
     "name": "stdout",
     "output_type": "stream",
     "text": [
      "Changed value of parameter PoolSolutions to 1024\n",
      "   Prev: 10  Min: 1  Max: 2000000000  Default: 10\n",
      "Changed value of parameter PoolGap to 0.1\n",
      "   Prev: inf  Min: 0.0  Max: inf  Default: inf\n",
      "Changed value of parameter PoolSearchMode to 2\n",
      "   Prev: 0  Min: 0  Max: 2  Default: 0\n",
      "Gurobi Optimizer version 9.0.0 build v9.0.0rc2 (mac64)\n",
      "Optimize a model with 1 rows, 10 columns and 10 nonzeros\n",
      "Model fingerprint: 0x9a9b8430\n",
      "Variable types: 0 continuous, 10 integer (10 binary)\n",
      "Coefficient statistics:\n",
      "  Matrix range     [1e+00, 2e+01]\n",
      "  Objective range  [1e+00, 3e+01]\n",
      "  Bounds range     [1e+00, 1e+00]\n",
      "  RHS range        [3e+01, 3e+01]\n",
      "Found heuristic solution: objective 65.0000000\n",
      "Presolve time: 0.00s\n",
      "Presolved: 1 rows, 10 columns, 10 nonzeros\n",
      "Variable types: 0 continuous, 10 integer (10 binary)\n",
      "\n",
      "Root relaxation: objective 6.587500e+01, 1 iterations, 0.00 seconds\n",
      "\n",
      "    Nodes    |    Current Node    |     Objective Bounds      |     Work\n",
      " Expl Unexpl |  Obj  Depth IntInf | Incumbent    BestBd   Gap | It/Node Time\n",
      "\n",
      "     0     0   65.87500    0    1   65.00000   65.87500  1.35%     -    0s\n",
      "\n",
      "Optimal solution found at node 0 - now completing solution pool...\n",
      "\n",
      "    Nodes    |    Current Node    |      Pool Obj. Bounds     |     Work\n",
      "             |                    |   Worst                   |\n",
      " Expl Unexpl |  Obj  Depth IntInf | Incumbent    BestBd   Gap | It/Node Time\n",
      "\n",
      "     0     0   65.00000    0    1          -   65.00000      -     -    0s\n",
      "     0     0          -    0               -   65.00000      -     -    0s\n",
      "     0     0          -    0               -   65.00000      -     -    0s\n",
      "     0     0          -    0               -   65.00000      -     -    0s\n",
      "     0     2          -    0               -   65.00000      -     -    0s\n",
      "\n",
      "Cutting planes:\n",
      "  Cover: 1\n",
      "  MIR: 1\n",
      "  StrongCG: 1\n",
      "\n",
      "Explored 67 nodes (43 simplex iterations) in 0.03 seconds\n",
      "Thread count was 12 (of 12 available processors)\n",
      "\n",
      "Solution count 21: 65 65 64 ... 59\n",
      "No other solutions better than -1e+100\n",
      "\n",
      "Optimal solution found (tolerance 1.00e-04)\n",
      "Best objective 6.500000000000e+01, best bound 6.500000000000e+01, gap 0.0000%\n",
      "Selected elements in best solution:\n",
      "\t El0 El1 El8\n",
      "Number of solutions found: 21\n",
      "65 65 64 63 63 63 63 62 62 60 60 60 60 60 60 \n",
      "60 60 59 59 59 59 \n",
      "Selected elements in fourth best solution:\n",
      "\t El1 El2 El3 El8\n"
     ]
    }
   ],
   "source": [
    "from gurobipy import *\n",
    "\n",
    "try:\n",
    "    # Sample data\n",
    "    Groundset = range(10)\n",
    "    objCoef = [32, 32, 15, 15, 6, 6, 1, 1, 1, 1]\n",
    "    knapsackCoef = [16, 16, 8, 8, 4, 4, 2, 2, 1, 1]\n",
    "    Budget = 33\n",
    "\n",
    "    # Create initial model\n",
    "    model = Model(\"poolsearch\")\n",
    "\n",
    "    # Create dicts for tupledict.prod() function\n",
    "    objCoefDict = dict(zip(Groundset, objCoef))\n",
    "    knapsackCoefDict = dict(zip(Groundset, knapsackCoef))\n",
    "\n",
    "    # Initialize decision variables for ground set:\n",
    "    # x[e] == 1 if element e is chosen\n",
    "    Elem = model.addVars(Groundset, vtype=GRB.BINARY, name='El')\n",
    "\n",
    "    # Set objective function\n",
    "    model.ModelSense = GRB.MAXIMIZE\n",
    "    model.setObjective(Elem.prod(objCoefDict))\n",
    "\n",
    "    # Constraint: limit total number of elements to be picked to be at most\n",
    "    # Budget\n",
    "    model.addConstr(Elem.prod(knapsackCoefDict) <= Budget, name='Budget')\n",
    "\n",
    "    # Limit how many solutions to collect\n",
    "    model.setParam(GRB.Param.PoolSolutions, 1024)\n",
    "    # Limit the search space by setting a gap for the worst possible solution that will be accepted\n",
    "    model.setParam(GRB.Param.PoolGap, 0.10)\n",
    "    # do a systematic search for the k-best solutions\n",
    "    model.setParam(GRB.Param.PoolSearchMode, 2)\n",
    "\n",
    "    # save problem\n",
    "    model.write('poolsearch.lp')\n",
    "\n",
    "    # Optimize\n",
    "    model.optimize()\n",
    "\n",
    "    model.setParam(GRB.Param.OutputFlag, 0)\n",
    "\n",
    "    # Status checking\n",
    "    status = model.Status\n",
    "    if status == GRB.Status.INF_OR_UNBD or \\\n",
    "       status == GRB.Status.INFEASIBLE or \\\n",
    "       status == GRB.Status.UNBOUNDED:\n",
    "        print('The model cannot be solved because it is infeasible or unbounded')\n",
    "        sys.exit(1)\n",
    "\n",
    "    if status != GRB.Status.OPTIMAL:\n",
    "        print('Optimization was stopped with status ' + str(status))\n",
    "        sys.exit(1)\n",
    "\n",
    "    # Print best selected set\n",
    "    print('Selected elements in best solution:')\n",
    "    print('\\t', end='')\n",
    "    for e in Groundset:\n",
    "        if Elem[e].X > .9:\n",
    "            print(' El%d' % e, end='')\n",
    "    print('')\n",
    "\n",
    "    # Print number of solutions stored\n",
    "    nSolutions = model.SolCount\n",
    "    print('Number of solutions found: ' + str(nSolutions))\n",
    "\n",
    "    # Print objective values of solutions\n",
    "    for e in range(nSolutions):\n",
    "        model.setParam(GRB.Param.SolutionNumber, e)\n",
    "        print('%g ' % model.PoolObjVal, end='')\n",
    "        if e % 15 == 14:\n",
    "            print('')\n",
    "    print('')\n",
    "\n",
    "    # print fourth best set if available\n",
    "    if (nSolutions >= 4):\n",
    "        model.setParam(GRB.Param.SolutionNumber, 3)\n",
    "        print('Selected elements in fourth best solution:')\n",
    "        print('\\t', end='')\n",
    "        for e in Groundset:\n",
    "            if Elem[e].Xn > .9:\n",
    "                print(' El%d' % e, end='')\n",
    "        print('')\n",
    "\n",
    "except GurobiError as e:\n",
    "    print('Gurobi error ' + str(e.errno) + \": \" + str(e.message))\n",
    "\n",
    "except AttributeError as e:\n",
    "    print('Encountered an attribute error: ' + str(e))\n",
    "    \n",
    "    \n",
    "# 在设置gap为0.1的情况下，Gurobi一共找到21各解\n",
    "# 其中第四个解，中El1 El2 El3 El8为1，其他均为0"
   ]
  },
  {
   "cell_type": "code",
   "execution_count": 115,
   "metadata": {
    "ExecuteTime": {
     "end_time": "2020-01-14T08:37:31.798979Z",
     "start_time": "2020-01-14T08:37:31.795963Z"
    }
   },
   "outputs": [],
   "source": [
    "model.write('1.lp')"
   ]
  },
  {
   "cell_type": "code",
   "execution_count": 123,
   "metadata": {
    "ExecuteTime": {
     "end_time": "2020-01-14T08:57:51.287161Z",
     "start_time": "2020-01-14T08:57:51.282829Z"
    }
   },
   "outputs": [
    {
     "name": "stdout",
     "output_type": "stream",
     "text": [
      "Obj: 65\n",
      "El[0] 1.000000\n",
      "El[1] 1.000000\n",
      "El[2] -0.000000\n",
      "El[3] -0.000000\n",
      "El[4] -0.000000\n",
      "El[5] -0.000000\n",
      "El[6] -0.000000\n",
      "El[7] -0.000000\n",
      "El[8] 1.000000\n",
      "El[9] -0.000000\n"
     ]
    }
   ],
   "source": [
    "print('Obj: %g' % model.ObjVal)\n",
    "for v in model.getVars():\n",
    "    print('%s %f' % (v.VarName, v.X))"
   ]
  },
  {
   "cell_type": "code",
   "execution_count": null,
   "metadata": {},
   "outputs": [],
   "source": []
  }
 ],
 "metadata": {
  "kernelspec": {
   "display_name": "Python 3",
   "language": "python",
   "name": "python3"
  },
  "language_info": {
   "codemirror_mode": {
    "name": "ipython",
    "version": 3
   },
   "file_extension": ".py",
   "mimetype": "text/x-python",
   "name": "python",
   "nbconvert_exporter": "python",
   "pygments_lexer": "ipython3",
   "version": "3.6.7"
  },
  "toc": {
   "base_numbering": 1,
   "nav_menu": {},
   "number_sections": true,
   "sideBar": true,
   "skip_h1_title": false,
   "title_cell": "Table of Contents",
   "title_sidebar": "Contents",
   "toc_cell": false,
   "toc_position": {
    "height": "calc(100% - 180px)",
    "left": "10px",
    "top": "150px",
    "width": "384px"
   },
   "toc_section_display": true,
   "toc_window_display": true
  },
  "varInspector": {
   "cols": {
    "lenName": 16,
    "lenType": 16,
    "lenVar": 40
   },
   "kernels_config": {
    "python": {
     "delete_cmd_postfix": "",
     "delete_cmd_prefix": "del ",
     "library": "var_list.py",
     "varRefreshCmd": "print(var_dic_list())"
    },
    "r": {
     "delete_cmd_postfix": ") ",
     "delete_cmd_prefix": "rm(",
     "library": "var_list.r",
     "varRefreshCmd": "cat(var_dic_list()) "
    }
   },
   "types_to_exclude": [
    "module",
    "function",
    "builtin_function_or_method",
    "instance",
    "_Feature"
   ],
   "window_display": false
  }
 },
 "nbformat": 4,
 "nbformat_minor": 2
}
