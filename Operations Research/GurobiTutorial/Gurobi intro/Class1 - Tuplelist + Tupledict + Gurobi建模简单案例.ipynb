{
 "cells": [
  {
   "cell_type": "code",
   "execution_count": 11,
   "metadata": {
    "ExecuteTime": {
     "end_time": "2020-02-25T07:08:59.498720Z",
     "start_time": "2020-02-25T07:08:59.495953Z"
    }
   },
   "outputs": [],
   "source": [
    "import pandas as pd\n",
    "import numpy as np\n",
    "import gurobipy as gp\n",
    "from gurobipy import GRB"
   ]
  },
  {
   "cell_type": "markdown",
   "metadata": {},
   "source": [
    "## 使用Tuplelist与Tupledict的原因"
   ]
  },
  {
   "cell_type": "markdown",
   "metadata": {},
   "source": [
    "list 用 [ ] 表示，适合做下标、索引、变量、约束等各种对象的**集合**\n",
    "\n",
    "tuple 用 ( ) 表示，因其不可修改的特性，其适合做**多维下标**\n",
    "\n",
    "dict 用 { } 表示，适合用来表示**带下标的数值**，例如变量\n",
    "\n",
    "但是Python的 list/tuple/dict 均有不足，例如在建模过程中，经常需要对下标数据做挑选，不同下标的数据进行组合; 当使用上述三种方式时，智能全部循环+if条件进行筛选，效率非常低，所以需要采用Gurobi的扩展对象 TupleList与TupleDict"
   ]
  },
  {
   "cell_type": "markdown",
   "metadata": {},
   "source": [
    "### Tuplelist"
   ]
  },
  {
   "cell_type": "markdown",
   "metadata": {},
   "source": [
    "Tuplelist可以使用select函数去选择"
   ]
  },
  {
   "cell_type": "markdown",
   "metadata": {
    "ExecuteTime": {
     "end_time": "2020-02-26T08:12:50.053572Z",
     "start_time": "2020-02-26T08:12:50.048413Z"
    }
   },
   "source": [
    "在tupledict中可以使用 select / sum / prod 进行 选择 / 求和 / 求积之和\n",
    "\n",
    "Gurobi的变量一般都是tupledict形式的，因为需要有一个下标去定义，且有sum/prod这样的函数\n",
    "\n",
    "建模时建议采用tuplelists筛选和指定合适的下标组合，再基于这些组合关系建立变量和数据字典；然后利用gp.tupledict.select() / gp.tupledict.sum() / gp.tupledict.prod()来对下标进行组合处理 \n"
   ]
  },
  {
   "cell_type": "code",
   "execution_count": 90,
   "metadata": {
    "ExecuteTime": {
     "end_time": "2020-02-26T08:12:58.499522Z",
     "start_time": "2020-02-26T08:12:58.496265Z"
    }
   },
   "outputs": [],
   "source": [
    "# OD-Pairs\n",
    "cities = [('A', 'B'), ('A', 'C'), ('B', 'C'), ('B', 'D'), ('C', 'D')]\n",
    "routes = gp.tuplelist(cities)"
   ]
  },
  {
   "cell_type": "markdown",
   "metadata": {},
   "source": [
    "现在需要选出所有O为'A'的OD-Pairs"
   ]
  },
  {
   "cell_type": "code",
   "execution_count": 6,
   "metadata": {
    "ExecuteTime": {
     "end_time": "2020-02-25T06:59:42.189041Z",
     "start_time": "2020-02-25T06:59:42.184531Z"
    }
   },
   "outputs": [
    {
     "data": {
      "text/plain": [
       "[('A', 'B'), ('A', 'C')]"
      ]
     },
     "execution_count": 6,
     "metadata": {},
     "output_type": "execute_result"
    }
   ],
   "source": [
    "# 正常使用list的方法\n",
    "\n",
    "result = []\n",
    "for i,j in cities:\n",
    "    if i == 'A':\n",
    "        result.append((i,j))\n",
    "result"
   ]
  },
  {
   "cell_type": "code",
   "execution_count": 46,
   "metadata": {
    "ExecuteTime": {
     "end_time": "2020-02-25T07:24:24.415697Z",
     "start_time": "2020-02-25T07:24:24.410605Z"
    }
   },
   "outputs": [
    {
     "name": "stdout",
     "output_type": "stream",
     "text": [
      "select('A', '*'):  \n",
      " <gurobi.tuplelist (2 tuples, 2 values each):\n",
      " ( A , B )\n",
      " ( A , C )\n",
      ">\n",
      "\n",
      "\n",
      "select(['A', 'B'], '*'):  \n",
      " <gurobi.tuplelist (4 tuples, 2 values each):\n",
      " ( A , B )\n",
      " ( A , C )\n",
      " ( B , C )\n",
      " ( B , D )\n",
      ">\n",
      "\n",
      "\n",
      "select('A', 'C'):  \n",
      " <gurobi.tuplelist (1 tuples, 2 values each):\n",
      " ( A , C )\n",
      ">\n"
     ]
    }
   ],
   "source": [
    "# 使用Grurobi自带的tuplelist的select方法\n",
    "# '*' 代表任意值\n",
    "# [XXX] 代表[]内任何值均可匹配\n",
    "\n",
    "\n",
    "print(\"select('A', '*'): \", '\\n', routes.select('A', '*'))\n",
    "print('\\n')\n",
    "print(\"select(['A', 'B'], '*'): \", '\\n', routes.select(['A', 'B'], '*'))\n",
    "print('\\n')\n",
    "print(\"select('A', 'C'): \", '\\n', routes.select('A', 'C'))"
   ]
  },
  {
   "cell_type": "markdown",
   "metadata": {},
   "source": [
    "### Tupledict"
   ]
  },
  {
   "cell_type": "markdown",
   "metadata": {},
   "source": [
    "tupledict 是一个key为tuple的dictinary\n",
    "\n",
    "在tupledict中可以使用 select - 选择 / sum - 求和 / prod - 求积\n",
    "\n",
    "因为数学规划的变量一般都需要有下标，且去求和或求积，所以Gurobi的变量一般都是tupledict形式\n",
    "\n",
    "建模时建议采用tuplelist筛选和指定合适的下标组合，再基于这些组合关系建立变量和数据字典；然后利用gp.tupledict.select() / gp.tupledict.sum() / gp.tupledict.prod()来对下标进行组合处理 "
   ]
  },
  {
   "cell_type": "code",
   "execution_count": 22,
   "metadata": {
    "ExecuteTime": {
     "end_time": "2020-02-25T07:15:05.662819Z",
     "start_time": "2020-02-25T07:15:05.657023Z"
    }
   },
   "outputs": [
    {
     "name": "stdout",
     "output_type": "stream",
     "text": [
      "cities: ['A', 'B', 'C', 'D'] \n",
      "supply: {'A': 100, 'B': 150, 'C': 20, 'D': 10} \n",
      "demand: {'A': 20, 'B': 50, 'C': 300, 'D': 200}\n",
      "cities: <class 'gurobipy.tuplelist'> \n",
      "supply: <class 'gurobipy.tupledict'> \n",
      "demand: <class 'gurobipy.tupledict'>\n"
     ]
    }
   ],
   "source": [
    "# 可以使用 multidict() 更便捷的创建tuplelist和tupledict\n",
    "\n",
    "cities, supply, demand = gp.multidict({\n",
    "    'A': [100, 20],\n",
    "    'B': [150, 50],\n",
    "    'C': [20, 300],\n",
    "    'D': [10, 200]\n",
    "})\n",
    "\n",
    "print(\"cities: {} \\nsupply: {} \\ndemand: {}\".format(cities, supply, demand))\n",
    "print(\"cities: {} \\nsupply: {} \\ndemand: {}\".format(type(cities), type(supply), type(demand)))"
   ]
  },
  {
   "cell_type": "code",
   "execution_count": 58,
   "metadata": {
    "ExecuteTime": {
     "end_time": "2020-02-25T07:58:17.013286Z",
     "start_time": "2020-02-25T07:58:17.007031Z"
    }
   },
   "outputs": [],
   "source": [
    "# x 为一个 3*4 下标的变量(共12个)， 且其均为BINARY。 | x[0,1] x[0,2] .... x[2,3] -> 共12个\n",
    "# 其中x为tupledict\n",
    "# 产生如下限制条件\n",
    "# x[0,0] + x[0,1] + x[0,2] + x[0,3] <= 1\n",
    "# x[1,0] + x[1,1] + x[1,2] + x[1,3] <= 1\n",
    "# x[2,0] + x[2,1] + x[2,2] + x[2,3] <= 1\n",
    "\n",
    "m = gp.Model()\n",
    "x = m.addVars(3, 4, vtype=GRB.BINARY, name='x')\n",
    "m.addConstrs((x.sum(i, '*') <= 1 for i in range(3)), name='con')\n",
    "m.update()\n",
    "m.write(\"class1_example_0.lp\")"
   ]
  },
  {
   "cell_type": "code",
   "execution_count": null,
   "metadata": {},
   "outputs": [],
   "source": [
    "# Gurobi里面可以使用quicksum来代替sum，效率更高\n",
    "# 以下两段代码是等价的\n",
    "# x.prod(y) 相当于x与y下标相同的求积之后再求和\n",
    "# 可以使用 x.prod(y, '*', 3)这样的来进行下标的筛选之后，再求积+求和\n",
    "\n",
    "obj = gp.quicksum(cost[i,j]*x[i,j] for i,j in arcs if j == 3)\n",
    "obj = x.prod(cost, '*', 3)"
   ]
  },
  {
   "cell_type": "code",
   "execution_count": null,
   "metadata": {},
   "outputs": [],
   "source": []
  },
  {
   "cell_type": "markdown",
   "metadata": {},
   "source": [
    "## 建模过程"
   ]
  },
  {
   "cell_type": "markdown",
   "metadata": {},
   "source": [
    "按以下流程进行建模，不要混合在一起\n",
    "\n",
    "1. Create all variables objects\n",
    "\n",
    "    1.1 addVar()\n",
    "    \n",
    "    1.2 addVars()\n",
    "   \n",
    "   \n",
    "2. Set Objective Function(s)\n",
    "\n",
    "    2.1 setObjective()\n",
    "\n",
    "\n",
    "3. Create Constraints\n",
    "\n",
    "    3.1 addConstr()\n",
    "    \n",
    "    3.2 addConstrs()\n",
    "\n",
    "\n",
    "4. Run Optimization\n",
    "\n",
    "    4.1 optimize()"
   ]
  },
  {
   "cell_type": "code",
   "execution_count": null,
   "metadata": {},
   "outputs": [],
   "source": []
  },
  {
   "cell_type": "markdown",
   "metadata": {},
   "source": [
    "## Example1 - mip1"
   ]
  },
  {
   "cell_type": "code",
   "execution_count": 59,
   "metadata": {
    "ExecuteTime": {
     "end_time": "2020-02-25T07:58:39.847804Z",
     "start_time": "2020-02-25T07:58:39.845217Z"
    }
   },
   "outputs": [],
   "source": [
    "# Maximize\n",
    "#   obj1: x + y + 2 z\n",
    "# Subject To\n",
    "#   c0: x + 2 y + 3 z <= 4\n",
    "#   c1: x + y >= 1\n",
    "# Binary\n",
    "#   x y z\n",
    "# End"
   ]
  },
  {
   "cell_type": "code",
   "execution_count": 61,
   "metadata": {
    "ExecuteTime": {
     "end_time": "2020-02-25T08:01:22.424421Z",
     "start_time": "2020-02-25T08:01:22.400316Z"
    }
   },
   "outputs": [
    {
     "name": "stdout",
     "output_type": "stream",
     "text": [
      "Gurobi Optimizer version 9.0.0 build v9.0.0rc2 (mac64)\n",
      "Optimize a model with 2 rows, 3 columns and 5 nonzeros\n",
      "Model fingerprint: 0xb2adf8c4\n",
      "Variable types: 0 continuous, 3 integer (3 binary)\n",
      "Coefficient statistics:\n",
      "  Matrix range     [1e+00, 3e+00]\n",
      "  Objective range  [1e+00, 2e+00]\n",
      "  Bounds range     [1e+00, 1e+00]\n",
      "  RHS range        [1e+00, 4e+00]\n",
      "Found heuristic solution: objective 2.0000000\n",
      "Presolve removed 2 rows and 3 columns\n",
      "Presolve time: 0.00s\n",
      "Presolve: All rows and columns removed\n",
      "\n",
      "Explored 0 nodes (0 simplex iterations) in 0.01 seconds\n",
      "Thread count was 1 (of 12 available processors)\n",
      "\n",
      "Solution count 2: 3 \n",
      "\n",
      "Optimal solution found (tolerance 1.00e-04)\n",
      "Best objective 3.000000000000e+00, best bound 3.000000000000e+00, gap 0.0000%\n",
      "x 1.0\n",
      "y 0.0\n",
      "z 1.0\n",
      "Obj: 3.0\n"
     ]
    }
   ],
   "source": [
    "# Import Env\n",
    "import gurobipy as gp\n",
    "from gurobipy import GRB\n",
    "\n",
    "try:\n",
    "    # Create a new model\n",
    "    m = gp.Model('mip1')\n",
    "\n",
    "    # Create variables\n",
    "    x = m.addVar(vtype=GRB.BINARY, name='x')\n",
    "    y = m.addVar(vtype=GRB.BINARY, name='y')\n",
    "    z = m.addVar(vtype=GRB.BINARY, name='z')\n",
    "\n",
    "    # Set Objective\n",
    "    m.setObjective(x + y + 2 * z, GRB.MAXIMIZE)\n",
    "\n",
    "    # Add constraint\n",
    "    m.addConstr(x + 2 * y + 3 * z <= 4, 'c0')\n",
    "    m.addConstr(x + y >= 1, 'c1')\n",
    "\n",
    "    # Optimize Model\n",
    "    m.optimize()\n",
    "\n",
    "    # Print result\n",
    "    for v in m.getVars():\n",
    "        print('{} {}'.format(v.varName, v.x))\n",
    "    print('Obj: {}'.format(m.objVal))\n",
    "\n",
    "except gp.GurobiError as e:\n",
    "    print('Error Code ' + str(e.errno) + ':' + str(e))\n",
    "\n",
    "except AttributeError:\n",
    "    print('Encountered an attribute error')"
   ]
  },
  {
   "cell_type": "code",
   "execution_count": null,
   "metadata": {},
   "outputs": [],
   "source": []
  },
  {
   "cell_type": "markdown",
   "metadata": {},
   "source": [
    "## Example2 - Diet"
   ]
  },
  {
   "cell_type": "markdown",
   "metadata": {},
   "source": [
    "人类需要四种营养. category: calories, protein, fat, sodium\n",
    "\n",
    "食物来源. foods = hamburger, chicken, hot dog, fries, macaroni, pizza, salad, milk, ice cream\n",
    "\n",
    "营养吸收每天有上下限，单位重量食物价格不同，单位重量食物所含营养成分不同\n",
    "\n",
    "求达到足够营养的cost最小"
   ]
  },
  {
   "cell_type": "code",
   "execution_count": 80,
   "metadata": {
    "ExecuteTime": {
     "end_time": "2020-02-25T08:14:15.523611Z",
     "start_time": "2020-02-25T08:14:15.513624Z"
    }
   },
   "outputs": [],
   "source": [
    "# Import data\n",
    "\n",
    "categories, minNutrition, maxNutrition = gp.multidict({\n",
    "    'calories': [1800, 2000],\n",
    "    'protein': [91, GRB.INFINITY],\n",
    "    'fat': [0, 65],\n",
    "    'sodium': [0, 1779]\n",
    "})\n",
    "\n",
    "foods, cost = gp.multidict({\n",
    "    'hamburger': 2.49,\n",
    "    'chicken': 2.89,\n",
    "    'hot dog': 1.50,\n",
    "    'fries': 1.89,\n",
    "    'macaroni': 2.09,\n",
    "    'pizza': 1.99,\n",
    "    'salad': 2.49,\n",
    "    'milk': 0.89,\n",
    "    'ice cream': 1.59\n",
    "})\n",
    "\n",
    "nutritionValues = gp.tupledict({\n",
    "    ('hamburger', 'calories'): 410,\n",
    "    ('hamburger', 'protein'): 24,\n",
    "    ('hamburger', 'fat'): 26,\n",
    "    ('hamburger', 'sodium'): 730,\n",
    "    ('chicken', 'calories'): 420,\n",
    "    ('chicken', 'protein'): 32,\n",
    "    ('chicken', 'fat'): 10,\n",
    "    ('chicken', 'sodium'): 1190,\n",
    "    ('hot dog', 'calories'): 560,\n",
    "    ('hot dog', 'protein'): 20,\n",
    "    ('hot dog', 'fat'): 32,\n",
    "    ('hot dog', 'sodium'): 1800,\n",
    "    ('fries', 'calories'): 380,\n",
    "    ('fries', 'protein'): 4,\n",
    "    ('fries', 'fat'): 19,\n",
    "    ('fries', 'sodium'): 270,\n",
    "    ('macaroni', 'calories'): 320,\n",
    "    ('macaroni', 'protein'): 12,\n",
    "    ('macaroni', 'fat'): 10,\n",
    "    ('macaroni', 'sodium'): 930,\n",
    "    ('pizza', 'calories'): 320,\n",
    "    ('pizza', 'protein'): 15,\n",
    "    ('pizza', 'fat'): 12,\n",
    "    ('pizza', 'sodium'): 820,\n",
    "    ('salad', 'calories'): 320,\n",
    "    ('salad', 'protein'): 31,\n",
    "    ('salad', 'fat'): 12,\n",
    "    ('salad', 'sodium'): 1230,\n",
    "    ('milk', 'calories'): 100,\n",
    "    ('milk', 'protein'): 8,\n",
    "    ('milk', 'fat'): 2.5,\n",
    "    ('milk', 'sodium'): 125,\n",
    "    ('ice cream', 'calories'): 330,\n",
    "    ('ice cream', 'protein'): 8,\n",
    "    ('ice cream', 'fat'): 10,\n",
    "    ('ice cream', 'sodium'): 180\n",
    "})"
   ]
  },
  {
   "cell_type": "code",
   "execution_count": 87,
   "metadata": {
    "ExecuteTime": {
     "end_time": "2020-02-25T08:32:06.783219Z",
     "start_time": "2020-02-25T08:32:06.738804Z"
    }
   },
   "outputs": [
    {
     "name": "stdout",
     "output_type": "stream",
     "text": [
      "Gurobi Optimizer version 9.0.0 build v9.0.0rc2 (mac64)\n",
      "Optimize a model with 4 rows, 12 columns and 39 nonzeros\n",
      "Model fingerprint: 0xaaaebbf6\n",
      "Variable types: 3 continuous, 9 integer (0 binary)\n",
      "Coefficient statistics:\n",
      "  Matrix range     [1e+00, 2e+03]\n",
      "  Objective range  [9e-01, 3e+00]\n",
      "  Bounds range     [6e+01, 2e+03]\n",
      "  RHS range        [6e+01, 2e+03]\n",
      "Presolve removed 0 rows and 5 columns\n",
      "Presolve time: 0.00s\n",
      "Presolved: 4 rows, 7 columns, 25 nonzeros\n",
      "Variable types: 0 continuous, 7 integer (1 binary)\n",
      "Found heuristic solution: objective 12.7800000\n",
      "\n",
      "Root relaxation: objective 1.183513e+01, 3 iterations, 0.00 seconds\n",
      "\n",
      "    Nodes    |    Current Node    |     Objective Bounds      |     Work\n",
      " Expl Unexpl |  Obj  Depth IntInf | Incumbent    BestBd   Gap | It/Node Time\n",
      "\n",
      "     0     0   11.83513    0    3   12.78000   11.83513  7.39%     -    0s\n",
      "     0     0   12.57000    0    3   12.78000   12.57000  1.64%     -    0s\n",
      "\n",
      "Cutting planes:\n",
      "  MIR: 2\n",
      "  StrongCG: 1\n",
      "\n",
      "Explored 1 nodes (6 simplex iterations) in 0.03 seconds\n",
      "Thread count was 12 (of 12 available processors)\n",
      "\n",
      "Solution count 1: 12.78 \n",
      "\n",
      "Optimal solution found (tolerance 1.00e-04)\n",
      "Best objective 1.278000000000e+01, best bound 1.278000000000e+01, gap 0.0000%\n",
      "\n",
      "Cost: 12.78\n",
      "\n",
      "Buy:\n",
      "milk 9\n",
      "ice cream 3\n"
     ]
    }
   ],
   "source": [
    "# Create Model\n",
    "m = gp.Model('diet')\n",
    "\n",
    "# Create Vars\n",
    "# 创建下标(key)是食物，值(value)待定的tupledict\n",
    "buyNum = m.addVars(foods, name='buyNum', vtype=GRB.INTEGER)\n",
    "# buyNum = {}\n",
    "# for f in foods:\n",
    "#     buyNum[f] = m.addVar(name=f)\n",
    "\n",
    "\n",
    "# Create Objective\n",
    "m.setObjective(buyNum.prod(cost), GRB.MINIMIZE)\n",
    "# m.setObjective(sum(buyNum[f] * cost[f] for f in foods), GRB.MINIMIZE)\n",
    "\n",
    "\n",
    "# Create Constraints\n",
    "# 来自于所有营养成分需要在其上下限之间\n",
    "# 使用 '== [a, b]' 表示在[a,b]范围之内\n",
    "# \"_\" 代表名字为前述循环的名字，在这个案例里为c\n",
    "m.addConstrs(\n",
    "    (gp.quicksum(nutritionValues[f, c] * buyNum[f] for f in foods) \n",
    "     == [minNutrition[c], maxNutrition[c]] \n",
    "     for c in categories), \"_\"\n",
    ")\n",
    "# m.addRange(expr, lhs, rhs, name)\n",
    "# for c in categories:\n",
    "#     m.addRange(\n",
    "#         gp.quicksum(nutritionValues[f, c] * buyNum[f] for f in foods),\n",
    "#         minNutrition[c], maxNutrition[c], c\n",
    "#     )\n",
    "\n",
    "def printSolution():\n",
    "    '''\n",
    "    :return: 优化结果\n",
    "    '''\n",
    "    if m.status == GRB.OPTIMAL:\n",
    "        print('\\nCost: %g' % m.objVal)\n",
    "        print('\\nBuy:')\n",
    "        buyx = m.getAttr('x', buyNum)\n",
    "        for f in foods:\n",
    "            if buyNum[f].x > 0:\n",
    "                print('%s %g' % (f, buyx[f]))\n",
    "    else:\n",
    "        print('No solution')\n",
    "        \n",
    "# Solve\n",
    "m.optimize()\n",
    "printSolution()"
   ]
  },
  {
   "cell_type": "code",
   "execution_count": null,
   "metadata": {},
   "outputs": [],
   "source": []
  }
 ],
 "metadata": {
  "kernelspec": {
   "display_name": "Python 3",
   "language": "python",
   "name": "python3"
  },
  "language_info": {
   "codemirror_mode": {
    "name": "ipython",
    "version": 3
   },
   "file_extension": ".py",
   "mimetype": "text/x-python",
   "name": "python",
   "nbconvert_exporter": "python",
   "pygments_lexer": "ipython3",
   "version": "3.6.7"
  },
  "toc": {
   "base_numbering": 1,
   "nav_menu": {},
   "number_sections": true,
   "sideBar": true,
   "skip_h1_title": false,
   "title_cell": "Table of Contents",
   "title_sidebar": "Contents",
   "toc_cell": false,
   "toc_position": {},
   "toc_section_display": true,
   "toc_window_display": false
  },
  "varInspector": {
   "cols": {
    "lenName": 16,
    "lenType": 16,
    "lenVar": 40
   },
   "kernels_config": {
    "python": {
     "delete_cmd_postfix": "",
     "delete_cmd_prefix": "del ",
     "library": "var_list.py",
     "varRefreshCmd": "print(var_dic_list())"
    },
    "r": {
     "delete_cmd_postfix": ") ",
     "delete_cmd_prefix": "rm(",
     "library": "var_list.r",
     "varRefreshCmd": "cat(var_dic_list()) "
    }
   },
   "types_to_exclude": [
    "module",
    "function",
    "builtin_function_or_method",
    "instance",
    "_Feature"
   ],
   "window_display": false
  }
 },
 "nbformat": 4,
 "nbformat_minor": 2
}
