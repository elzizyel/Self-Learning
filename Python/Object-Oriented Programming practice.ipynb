{
 "cells": [
  {
   "cell_type": "markdown",
   "metadata": {},
   "source": [
    "# 使用GA求最大值来练习面向对象编程"
   ]
  },
  {
   "cell_type": "code",
   "execution_count": 9,
   "metadata": {
    "ExecuteTime": {
     "end_time": "2019-01-22T08:29:01.553170Z",
     "start_time": "2019-01-22T08:29:00.899457Z"
    }
   },
   "outputs": [],
   "source": [
    "import numpy as np\n",
    "import matplotlib.pyplot as plt"
   ]
  },
  {
   "cell_type": "code",
   "execution_count": 43,
   "metadata": {
    "ExecuteTime": {
     "end_time": "2019-01-22T09:25:09.172475Z",
     "start_time": "2019-01-22T09:25:09.156339Z"
    }
   },
   "outputs": [],
   "source": [
    "class GA(object):\n",
    "    \n",
    "    # Generate the population\n",
    "    def __generate_pop(self):\n",
    "        \n",
    "        self.pop = np.random.randint(low=0, high=2, size=(pop_size, chrom_length))\n",
    "    \n",
    "    \n",
    "    \n",
    "    # Transfer the chrom to the wanted boundary\n",
    "    def __transfer2decimal(self):\n",
    "        \n",
    "        # Transfer to decimal then normalized to [0,1]\n",
    "        tmp_decimal = self.pop.dot(2 ** np.arange(chrom_length)[::-1]) / float(2**chrom_length - 1)\n",
    "        \n",
    "        # Normalized to the needed range\n",
    "        length = x_bound[1] - x_bound[0]\n",
    "        self.decimal = tmp_decimal * length + x_bound[0]\n",
    "    \n",
    "    \n",
    "    \n",
    "    # The target function\n",
    "    def __F(self): \n",
    "    \n",
    "        self.target = np.sin(10*self.decimal)*self.decimal + np.cos(2*self.decimal)*self.decimal     \n",
    "\n",
    "    \n",
    "    \n",
    "    # Fitness_score\n",
    "    def __fitness_score(self):\n",
    "        \n",
    "        # 1e-3 to make the min point have the chance to be selected\n",
    "        self.score = self.target + 1e-3 - np.min(self.target)\n",
    "    \n",
    "    \n",
    "    \n",
    "    # Selection\n",
    "    def __selection(self):\n",
    "        \n",
    "        # Select all points by fitness and return the index\n",
    "        idx = np.random.choice(np.arange(pop_size), size=pop_size, replace=True,\n",
    "                           p=self.score/self.score.sum())\n",
    "        \n",
    "        # Get the selected population\n",
    "        self.pop = self.pop[idx].copy()\n",
    "        \n",
    "    \n",
    "    \n",
    "    # Crossover\n",
    "    def __crossover(self):\n",
    "        \n",
    "        pop_crossed = list()\n",
    "        \n",
    "        for parent in self.pop:\n",
    "            if np.random.rand() < cross_rate:\n",
    "                \n",
    "                # Randomly choose the crossover points\n",
    "                cross_points = np.random.randint(0, 2, chrom_length).astype(np.bool)\n",
    "                \n",
    "                # Randomly choose one DNA from population as mate\n",
    "                mate = self.pop[int(np.random.randint(0, pop_size, size=1))].copy()\n",
    "                \n",
    "                # Crossover\n",
    "                parent[cross_points] = mate[cross_points]\n",
    "                pop_crossed.append(list(parent))\n",
    "            \n",
    "            else:\n",
    "                pop_crossed.append(list(parent))\n",
    "        \n",
    "        self.pop = np.array(pop_crossed)\n",
    "        \n",
    "    \n",
    "    \n",
    "    # Mutation\n",
    "    def __mutation(self):\n",
    "        \n",
    "        chrom_tmp = list()\n",
    "        pop_mutated = list()\n",
    "        \n",
    "        for child in self.pop:\n",
    "            for child_chrom in child:\n",
    "                if np.random.rand() < mutation_rate:\n",
    "                    if child_chrom == 1:\n",
    "                        child_chrom = 0\n",
    "                    else:\n",
    "                        child_chrom = 1\n",
    "                    chrom_tmp.append(child_chrom)\n",
    "                else:\n",
    "                    chrom_tmp.append(child_chrom)\n",
    "            pop_mutated.append(chrom_tmp)\n",
    "            chrom_tmp = list()\n",
    "        \n",
    "        self.pop = np.array(pop_mutated)\n",
    "    \n",
    "    \n",
    "    \n",
    "    # Start\n",
    "    def start(self):\n",
    "        \n",
    "        # Initialize\n",
    "        self.__generate_pop()\n",
    "        self.__transfer2decimal()\n",
    "        self.__F()\n",
    "        self.__fitness_score()\n",
    "        \n",
    "        mean_score = list()\n",
    "        mean_score.append(np.mean(self.score))\n",
    "        \n",
    "        \n",
    "        # Process\n",
    "        for i in range(n_generations):\n",
    "            self.__selection()\n",
    "            self.__crossover()\n",
    "            self.__mutation()\n",
    "            self.__transfer2decimal()\n",
    "            self.__F()\n",
    "            self.__fitness_score()\n",
    "            mean_score.append(np.mean(self.score))\n",
    "        \n",
    "        return np.array(mean_score)"
   ]
  },
  {
   "cell_type": "code",
   "execution_count": 69,
   "metadata": {
    "ExecuteTime": {
     "end_time": "2019-01-22T09:29:18.425486Z",
     "start_time": "2019-01-22T09:29:18.422282Z"
    }
   },
   "outputs": [],
   "source": [
    "chrom_length = 10            # DNA length\n",
    "pop_size = 100               # population size\n",
    "cross_rate = 0.8             # mating probability (DNA crossover)\n",
    "mutation_rate = 0.003        # mutation probability\n",
    "n_generations = 100\n",
    "x_bound = [-50, 50]          # x upper and lower bounds"
   ]
  },
  {
   "cell_type": "code",
   "execution_count": 70,
   "metadata": {
    "ExecuteTime": {
     "end_time": "2019-01-22T09:29:18.579232Z",
     "start_time": "2019-01-22T09:29:18.576235Z"
    }
   },
   "outputs": [],
   "source": [
    "a = GA()"
   ]
  },
  {
   "cell_type": "code",
   "execution_count": 71,
   "metadata": {
    "ExecuteTime": {
     "end_time": "2019-01-22T09:29:18.911795Z",
     "start_time": "2019-01-22T09:29:18.756226Z"
    }
   },
   "outputs": [],
   "source": [
    "s = a.start()"
   ]
  },
  {
   "cell_type": "code",
   "execution_count": 72,
   "metadata": {
    "ExecuteTime": {
     "end_time": "2019-01-22T09:29:18.931924Z",
     "start_time": "2019-01-22T09:29:18.927503Z"
    },
    "scrolled": true
   },
   "outputs": [
    {
     "data": {
      "text/plain": [
       "array([7.46213204e+01, 7.33333080e+01, 9.38971743e+01, 7.64891932e+01,\n",
       "       6.27973542e+01, 6.06028012e+01, 7.40899445e+01, 8.12187701e+01,\n",
       "       8.11981002e+01, 6.99462618e+01, 7.83909803e+01, 6.46627217e+01,\n",
       "       8.46400187e+01, 9.54946465e+01, 9.97223046e+01, 7.81673198e+01,\n",
       "       7.95195674e+01, 8.27818536e+01, 1.08796665e+02, 7.74275245e+01,\n",
       "       1.34025451e+02, 5.98470247e+01, 7.18321999e+01, 1.45674986e+02,\n",
       "       8.83460502e+01, 8.17181489e+01, 1.02368143e+02, 1.66655058e+02,\n",
       "       8.53720485e+01, 7.93367734e+01, 1.66581643e+02, 1.00308476e+02,\n",
       "       9.42058346e+01, 9.95019659e+01, 9.37059893e+01, 9.61231066e+01,\n",
       "       1.60680974e+01, 6.07090819e+01, 1.05939118e+02, 2.36539628e+01,\n",
       "       1.18082692e+01, 9.06815531e+01, 3.32206210e+01, 9.18111445e+01,\n",
       "       1.81882577e+02, 1.01144088e+02, 9.12105046e+01, 2.52263984e+01,\n",
       "       9.20031133e+01, 1.05967325e+02, 1.81523951e+02, 1.80614541e+02,\n",
       "       4.55117617e+01, 2.47875886e+01, 9.30871374e+01, 1.22196255e+01,\n",
       "       9.36731252e+01, 1.06954226e+02, 9.25736675e+01, 6.20170944e+01,\n",
       "       1.82360441e+02, 8.81024257e+01, 1.82426648e+02, 2.67057422e+01,\n",
       "       1.84486571e+02, 6.96514390e+01, 9.11570698e+01, 1.07214282e+02,\n",
       "       1.82408461e+02, 1.81929025e+02, 9.16071954e+01, 1.05995602e+02,\n",
       "       1.06114824e+02, 2.67972319e+01, 6.96514390e+01, 1.83028856e+02,\n",
       "       1.07156695e+02, 5.70212913e+00, 1.06250687e+02, 9.12361610e+01,\n",
       "       1.81495022e+02, 9.00331190e+01, 1.80235737e+02, 9.03615231e+01,\n",
       "       6.71758490e+01, 1.82517807e+02, 9.13735037e+01, 1.82983824e+02,\n",
       "       1.79668118e+02, 1.06694171e+02, 1.06329735e+02, 9.19768155e+01,\n",
       "       1.05742320e+02, 9.09760622e+01, 5.74360904e+01, 1.82971269e+02,\n",
       "       9.17430576e+01, 1.00000000e-03, 6.91956884e+01, 1.83091079e+02,\n",
       "       1.82695161e+02])"
      ]
     },
     "execution_count": 72,
     "metadata": {},
     "output_type": "execute_result"
    }
   ],
   "source": [
    "s"
   ]
  },
  {
   "cell_type": "code",
   "execution_count": 73,
   "metadata": {
    "ExecuteTime": {
     "end_time": "2019-01-22T09:29:19.152779Z",
     "start_time": "2019-01-22T09:29:18.991371Z"
    }
   },
   "outputs": [
    {
     "data": {
      "text/plain": [
       "[<matplotlib.lines.Line2D at 0x1a21f59390>]"
      ]
     },
     "execution_count": 73,
     "metadata": {},
     "output_type": "execute_result"
    },
    {
     "data": {
      "image/png": "[encoded data removed]",
      "text/plain": [
       "<Figure size 432x288 with 1 Axes>"
      ]
     },
     "metadata": {
      "needs_background": "light"
     },
     "output_type": "display_data"
    }
   ],
   "source": [
    "plt.plot(s)"
   ]
  },
  {
   "cell_type": "code",
   "execution_count": null,
   "metadata": {},
   "outputs": [],
   "source": []
  }
 ],
 "metadata": {
  "kernelspec": {
   "display_name": "Python 3",
   "language": "python",
   "name": "python3"
  },
  "language_info": {
   "codemirror_mode": {
    "name": "ipython",
    "version": 3
   },
   "file_extension": ".py",
   "mimetype": "text/x-python",
   "name": "python",
   "nbconvert_exporter": "python",
   "pygments_lexer": "ipython3",
   "version": "3.6.6"
  },
  "toc": {
   "base_numbering": 1,
   "nav_menu": {},
   "number_sections": true,
   "sideBar": true,
   "skip_h1_title": false,
   "title_cell": "Table of Contents",
   "title_sidebar": "Contents",
   "toc_cell": false,
   "toc_position": {},
   "toc_section_display": true,
   "toc_window_display": false
  },
  "varInspector": {
   "cols": {
    "lenName": 16,
    "lenType": 16,
    "lenVar": 40
   },
   "kernels_config": {
    "python": {
     "delete_cmd_postfix": "",
     "delete_cmd_prefix": "del ",
     "library": "var_list.py",
     "varRefreshCmd": "print(var_dic_list())"
    },
    "r": {
     "delete_cmd_postfix": ") ",
     "delete_cmd_prefix": "rm(",
     "library": "var_list.r",
     "varRefreshCmd": "cat(var_dic_list()) "
    }
   },
   "types_to_exclude": [
    "module",
    "function",
    "builtin_function_or_method",
    "instance",
    "_Feature"
   ],
   "window_display": false
  }
 },
 "nbformat": 4,
 "nbformat_minor": 2
}
