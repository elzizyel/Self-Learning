{
 "cells": [
  {
   "cell_type": "markdown",
   "metadata": {},
   "source": [
    "[Regular Expression Intro Link](http://www.runoob.com/regexp/regexp-syntax.html)"
   ]
  },
  {
   "cell_type": "markdown",
   "metadata": {},
   "source": [
    "() [] {} 区别\n",
    "\n",
    "() - 即提取匹配的字符串\n",
    "\n",
    "[] - 用定义匹配的字符范围 \n",
    "\n",
    "{} - 表匹配的长度\n",
    "\n",
    "如: \n",
    "\n",
    "(0-9) 匹配 \"0-9\"字符串\n",
    "\n",
    "[0-9] 匹配 数字0-9中的一个\n",
    "\n",
    "[0-9]{0-9} 匹配 可以匹配0次到9次 0-9数字\n"
   ]
  },
  {
   "cell_type": "markdown",
   "metadata": {},
   "source": [
    "- 常用非打印字符\n",
    "\n",
    "|字符|描述|\n",
    "|-|-|\n",
    "|\\t|制表符|\n",
    "|\\n|换行符|\n",
    "|\\s|匹配任何空格字符, 包括空格、制表符、换页符等等。 等价于[\\f\\n\\r\\t\\v]|\n",
    "|\\S|匹配任何非空字符, 等价于[^\\f\\n\\r\\t\\v]|\n"
   ]
  },
  {
   "cell_type": "markdown",
   "metadata": {
    "ExecuteTime": {
     "end_time": "2019-01-21T08:05:22.875620Z",
     "start_time": "2019-01-21T08:05:22.870046Z"
    }
   },
   "source": [
    "- 限定符\n",
    "\n",
    "|字符|描述|\n",
    "|-|-|\n",
    "|{n}|匹配前式n次|\n",
    "|{n,}|匹配前式至少n次|\n",
    "|{,m}|匹配前式至多m次|\n",
    "|{n,m}|匹配前式n至m次|\n",
    "|\\||两项中选一项匹配, 例A\\|B 匹配A或B|"
   ]
  },
  {
   "cell_type": "markdown",
   "metadata": {
    "ExecuteTime": {
     "end_time": "2019-01-21T08:05:37.703550Z",
     "start_time": "2019-01-21T08:05:37.698841Z"
    }
   },
   "source": [
    "- 常用字符\n",
    "\n",
    "|字符|描述|\n",
    "|-|-|\n",
    "|\\d|匹配一个数字字符, 等价于[0-9]|\n",
    "|\\D|匹配一个非数字字符, 等价于[^0-9]|\n",
    "|\\w|匹配一个包括下划线的任和单词字符, 等价于[A-Za-z0-9_]|\n",
    "|.|匹配任意字符|"
   ]
  },
  {
   "cell_type": "markdown",
   "metadata": {},
   "source": [
    "- 例子\n",
    "\n",
    "`\\d{3}` 可以匹配3个数字, 例如`052`\n",
    "\n",
    "`\\d{3,8}` 可以匹配3-8个数字, 例如`08883`\n",
    "\n",
    "`[0-9a-zA-Z]` 可以匹配任意数字、字母一次\n",
    "\n",
    "`^py$` 对 `python` 只能匹配到 `py`, 因为已经加了开头结尾了"
   ]
  },
  {
   "cell_type": "code",
   "execution_count": 2,
   "metadata": {
    "ExecuteTime": {
     "end_time": "2019-03-13T03:41:42.658621Z",
     "start_time": "2019-03-13T03:41:42.656000Z"
    }
   },
   "outputs": [],
   "source": [
    "import re"
   ]
  },
  {
   "cell_type": "code",
   "execution_count": null,
   "metadata": {},
   "outputs": [],
   "source": [
    "print('fds')\n",
    "\n",
    "\n",
    "- fds\n",
    "- fds"
   ]
  },
  {
   "cell_type": "code",
   "execution_count": null,
   "metadata": {
    "ExecuteTime": {
     "end_time": "2019-03-13T03:41:42.995062Z",
     "start_time": "2019-03-13T03:41:42.985549Z"
    }
   },
   "outputs": [],
   "source": [
    "# 查看是否匹配\n",
    "\n",
    "s = '012-3232321d'\n",
    "\n",
    "# 若匹配失败则没有返回值\n",
    "re.match(r'\\d{3}\\-\\d*[a-z]$', s)"
   ]
  },
  {
   "cell_type": "code",
   "execution_count": 4,
   "metadata": {
    "ExecuteTime": {
     "end_time": "2019-03-13T03:41:43.202305Z",
     "start_time": "2019-03-13T03:41:43.197895Z"
    }
   },
   "outputs": [
    {
     "data": {
      "text/plain": [
       "['a', 'b', 'c', 'd', 'e', 'f']"
      ]
     },
     "execution_count": 4,
     "metadata": {},
     "output_type": "execute_result"
    }
   ],
   "source": [
    "# 删掉字符串中的空格和分号\n",
    "\n",
    "s = 'a   ;  b c   d     ;                  e            ;     f'\n",
    "re.split(r'[\\s;]+', s)"
   ]
  },
  {
   "cell_type": "code",
   "execution_count": 5,
   "metadata": {
    "ExecuteTime": {
     "end_time": "2019-03-13T03:41:43.382413Z",
     "start_time": "2019-03-13T03:41:43.377740Z"
    }
   },
   "outputs": [
    {
     "name": "stdout",
     "output_type": "stream",
     "text": [
      "('中心', '93213')\n",
      "中心:93213\n",
      "中心\n",
      "93213\n"
     ]
    }
   ],
   "source": [
    "# 取出分组中的内容\n",
    "\n",
    "s = '中心:93213'\n",
    "\n",
    "print(re.match(r'(.*):(.*)', s).groups())\n",
    "print(re.match(r'(.*):(.*)', s).group(0))\n",
    "print(re.match(r'(.*):(.*)', s).group(1))\n",
    "print(re.match(r'(.*):(.*)', s).group(2))\n"
   ]
  },
  {
   "cell_type": "code",
   "execution_count": 30,
   "metadata": {
    "ExecuteTime": {
     "end_time": "2019-03-13T03:49:26.451962Z",
     "start_time": "2019-03-13T03:49:26.447930Z"
    }
   },
   "outputs": [
    {
     "data": {
      "text/plain": [
       "'Test'"
      ]
     },
     "execution_count": 30,
     "metadata": {},
     "output_type": "execute_result"
    }
   ],
   "source": [
    "s = 'vcvdsvregTestvFHDGRgfd'\n",
    "re.match(r'.*((t|T)(e|E)(s|S)(t|T)).*', s).group(1)"
   ]
  },
  {
   "cell_type": "code",
   "execution_count": null,
   "metadata": {},
   "outputs": [],
   "source": []
  },
  {
   "cell_type": "code",
   "execution_count": null,
   "metadata": {},
   "outputs": [],
   "source": []
  }
 ],
 "metadata": {
  "kernelspec": {
   "display_name": "Python 3",
   "language": "python",
   "name": "python3"
  },
  "language_info": {
   "codemirror_mode": {
    "name": "ipython",
    "version": 3
   },
   "file_extension": ".py",
   "mimetype": "text/x-python",
   "name": "python",
   "nbconvert_exporter": "python",
   "pygments_lexer": "ipython3",
   "version": "3.6.6"
  },
  "toc": {
   "base_numbering": 1.0,
   "nav_menu": {},
   "number_sections": true,
   "sideBar": true,
   "skip_h1_title": false,
   "title_cell": "Table of Contents",
   "title_sidebar": "Contents",
   "toc_cell": false,
   "toc_position": {},
   "toc_section_display": true,
   "toc_window_display": false
  },
  "varInspector": {
   "cols": {
    "lenName": 16.0,
    "lenType": 16.0,
    "lenVar": 40.0
   },
   "kernels_config": {
    "python": {
     "delete_cmd_postfix": "",
     "delete_cmd_prefix": "del ",
     "library": "var_list.py",
     "varRefreshCmd": "print(var_dic_list())"
    },
    "r": {
     "delete_cmd_postfix": ") ",
     "delete_cmd_prefix": "rm(",
     "library": "var_list.r",
     "varRefreshCmd": "cat(var_dic_list()) "
    }
   },
   "types_to_exclude": [
    "module",
    "function",
    "builtin_function_or_method",
    "instance",
    "_Feature"
   ],
   "window_display": false
  },
  "pycharm": {
   "stem_cell": {
    "cell_type": "raw",
    "source": [],
    "metadata": {
     "collapsed": false
    }
   }
  }
 },
 "nbformat": 4,
 "nbformat_minor": 2
}